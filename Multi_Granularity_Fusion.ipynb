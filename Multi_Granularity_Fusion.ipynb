{
  "metadata": {
    "kernelspec": {
      "language": "python",
      "display_name": "Python 3",
      "name": "python3"
    },
    "language_info": {
      "name": "python",
      "version": "3.11.11",
      "mimetype": "text/x-python",
      "codemirror_mode": {
        "name": "ipython",
        "version": 3
      },
      "pygments_lexer": "ipython3",
      "nbconvert_exporter": "python",
      "file_extension": ".py"
    },
    "kaggle": {
      "accelerator": "gpu",
      "dataSources": [
        {
          "sourceId": 12259390,
          "sourceType": "datasetVersion",
          "datasetId": 7725149
        }
      ],
      "dockerImageVersionId": 31041,
      "isInternetEnabled": true,
      "language": "python",
      "sourceType": "notebook",
      "isGpuEnabled": true
    },
    "colab": {
      "name": "Multi-Granularity Fusion",
      "provenance": []
    }
  },
  "nbformat_minor": 0,
  "nbformat": 4,
  "cells": [
    {
      "source": [
        "# IMPORTANT: SOME KAGGLE DATA SOURCES ARE PRIVATE\n",
        "# RUN THIS CELL IN ORDER TO IMPORT YOUR KAGGLE DATA SOURCES.\n",
        "import kagglehub\n",
        "kagglehub.login()\n"
      ],
      "metadata": {
        "id": "2-ICU4BKyeCW"
      },
      "cell_type": "code",
      "outputs": [],
      "execution_count": null
    },
    {
      "source": [
        "# IMPORTANT: RUN THIS CELL IN ORDER TO IMPORT YOUR KAGGLE DATA SOURCES,\n",
        "# THEN FEEL FREE TO DELETE THIS CELL.\n",
        "# NOTE: THIS NOTEBOOK ENVIRONMENT DIFFERS FROM KAGGLE'S PYTHON\n",
        "# ENVIRONMENT SO THERE MAY BE MISSING LIBRARIES USED BY YOUR\n",
        "# NOTEBOOK.\n",
        "\n",
        "khadiza13_less_data_path = kagglehub.dataset_download('khadiza13/less-data')\n",
        "\n",
        "print('Data source import complete.')\n"
      ],
      "metadata": {
        "id": "kV1e8h5CyeCa"
      },
      "cell_type": "code",
      "outputs": [],
      "execution_count": null
    },
    {
      "cell_type": "code",
      "source": [
        "import numpy as np\n",
        "import pandas as pd"
      ],
      "metadata": {
        "_uuid": "8f2839f25d086af736a60e9eeb907d3b93b6e0e5",
        "_cell_guid": "b1076dfc-b9ad-4769-8c92-a6c4dae69d19",
        "trusted": true,
        "execution": {
          "iopub.status.busy": "2025-06-25T14:23:25.916286Z",
          "iopub.execute_input": "2025-06-25T14:23:25.916558Z",
          "iopub.status.idle": "2025-06-25T14:23:25.92014Z",
          "shell.execute_reply.started": "2025-06-25T14:23:25.916536Z",
          "shell.execute_reply": "2025-06-25T14:23:25.919557Z"
        },
        "id": "PgjW9y8TyeCb"
      },
      "outputs": [],
      "execution_count": null
    },
    {
      "cell_type": "code",
      "source": [
        "import os\n",
        "import pandas as pd\n",
        "import numpy as np\n",
        "from PIL import Image\n",
        "from tqdm import tqdm\n",
        "import torch\n",
        "import torch.nn as nn\n",
        "from torch.utils.data import Dataset, DataLoader, random_split\n",
        "from torchvision import transforms\n",
        "from sklearn.metrics import classification_report, confusion_matrix, ConfusionMatrixDisplay\n",
        "from transformers import AutoTokenizer, AutoModel\n",
        "import timm\n",
        "import matplotlib.pyplot as plt"
      ],
      "metadata": {
        "trusted": true,
        "execution": {
          "iopub.status.busy": "2025-06-25T14:23:41.691127Z",
          "iopub.execute_input": "2025-06-25T14:23:41.691889Z",
          "iopub.status.idle": "2025-06-25T14:23:56.774349Z",
          "shell.execute_reply.started": "2025-06-25T14:23:41.691865Z",
          "shell.execute_reply": "2025-06-25T14:23:56.773819Z"
        },
        "id": "8a6sdLM4yeCc"
      },
      "outputs": [],
      "execution_count": null
    },
    {
      "cell_type": "code",
      "source": [
        "csv_path = \"/kaggle/input/less-data/changed_ds/new_ds_small.csv\"\n",
        "img_dir = \"/kaggle/input/less-data/changed_ds/img\"\n",
        "device = torch.device(\"cuda\" if torch.cuda.is_available() else \"cpu\")\n"
      ],
      "metadata": {
        "trusted": true,
        "execution": {
          "iopub.status.busy": "2025-06-25T14:24:03.284918Z",
          "iopub.execute_input": "2025-06-25T14:24:03.285386Z",
          "iopub.status.idle": "2025-06-25T14:24:03.289831Z",
          "shell.execute_reply.started": "2025-06-25T14:24:03.285359Z",
          "shell.execute_reply": "2025-06-25T14:24:03.289235Z"
        },
        "id": "IKg6nJq5yeCc"
      },
      "outputs": [],
      "execution_count": null
    },
    {
      "cell_type": "code",
      "source": [
        "label2idx = {\n",
        "    \"stereotype & objectification\": 0,\n",
        "    \"violence or abuse\": 1,\n",
        "    \"non-misogynistic\": 2\n",
        "}\n",
        "idx2label = {v: k for k, v in label2idx.items()}"
      ],
      "metadata": {
        "trusted": true,
        "execution": {
          "iopub.status.busy": "2025-06-25T14:24:35.83149Z",
          "iopub.execute_input": "2025-06-25T14:24:35.832019Z",
          "iopub.status.idle": "2025-06-25T14:24:35.836019Z",
          "shell.execute_reply.started": "2025-06-25T14:24:35.831979Z",
          "shell.execute_reply": "2025-06-25T14:24:35.835178Z"
        },
        "id": "XdZzc6IfyeCd"
      },
      "outputs": [],
      "execution_count": null
    },
    {
      "cell_type": "code",
      "source": [
        "from tqdm.notebook import tqdm, trange\n",
        "# ======================= DATASET =========================\n",
        "class MemeDataset(Dataset):\n",
        "    def __init__(self, dataframe, img_dir, tokenizer, transform):\n",
        "        self.data = dataframe\n",
        "        self.img_dir = img_dir\n",
        "        self.tokenizer = tokenizer\n",
        "        self.transform = transform\n",
        "\n",
        "    def __len__(self):\n",
        "        return len(self.data)\n",
        "\n",
        "    def __getitem__(self, idx):\n",
        "        row = self.data.iloc[idx]\n",
        "        image_path = os.path.join(self.img_dir, row[\"image\"])\n",
        "        image = self.transform(Image.open(image_path).convert(\"RGB\"))\n",
        "        text = row[\"text\"]\n",
        "        label = label2idx[row[\"label\"]]\n",
        "\n",
        "        encoding = self.tokenizer(text, padding=\"max_length\", truncation=True, max_length=64, return_tensors=\"pt\")\n",
        "        return {\n",
        "            \"image\": image,\n",
        "            \"input_ids\": encoding[\"input_ids\"].squeeze(0),\n",
        "            \"attention_mask\": encoding[\"attention_mask\"].squeeze(0),\n",
        "            \"label\": torch.tensor(label)\n",
        "        }\n",
        "\n",
        "# ======================= MODEL =========================\n",
        "class MultiModalModel(nn.Module):\n",
        "    def __init__(self, text_model_name=\"csebuetnlp/banglabert\", image_model_name=\"efficientnet_b0\", num_classes=3):\n",
        "        super().__init__()\n",
        "\n",
        "        # Text Encoder\n",
        "        self.text_encoder = AutoModel.from_pretrained(text_model_name)\n",
        "        self.text_proj = nn.Linear(self.text_encoder.config.hidden_size, 256)\n",
        "\n",
        "        # Image Encoder\n",
        "        self.image_encoder = timm.create_model(image_model_name, pretrained=True, num_classes=0)\n",
        "        self.image_proj = nn.Linear(self.image_encoder.num_features, 256)\n",
        "\n",
        "        # Fusion Layer (global + local)\n",
        "        self.fusion = nn.Sequential(\n",
        "            nn.Linear(256 * 2, 256),\n",
        "            nn.ReLU(),\n",
        "            nn.Dropout(0.3)\n",
        "        )\n",
        "\n",
        "        # Multi-task heads\n",
        "        self.text_head = nn.Linear(256, num_classes)\n",
        "        self.image_head = nn.Linear(256, num_classes)\n",
        "        self.fusion_head = nn.Linear(256, num_classes)\n",
        "\n",
        "    def forward(self, input_ids, attention_mask, image):\n",
        "        # Text\n",
        "        text_outputs = self.text_encoder(input_ids=input_ids, attention_mask=attention_mask)\n",
        "        text_global = text_outputs.last_hidden_state[:, 0]  # [CLS] token\n",
        "        text_embed = self.text_proj(text_global)\n",
        "\n",
        "        # Image\n",
        "        image_global = self.image_encoder(image)\n",
        "        image_embed = self.image_proj(image_global)\n",
        "\n",
        "        # Fusion\n",
        "        combined = torch.cat([text_embed, image_embed], dim=1)\n",
        "        fused = self.fusion(combined)\n",
        "\n",
        "        # Heads\n",
        "        text_logits = self.text_head(text_embed)\n",
        "        image_logits = self.image_head(image_embed)\n",
        "        fusion_logits = self.fusion_head(fused)\n",
        "\n",
        "        return text_logits, image_logits, fusion_logits\n",
        "\n",
        "# ======================= TRAINING =========================\n",
        "def train_epoch(model, dataloader, optimizer, criterion):\n",
        "    model.train()\n",
        "    total_loss = 0\n",
        "    for batch in tqdm(dataloader):\n",
        "        optimizer.zero_grad()\n",
        "        input_ids = batch[\"input_ids\"].to(device)\n",
        "        attention_mask = batch[\"attention_mask\"].to(device)\n",
        "        image = batch[\"image\"].to(device)\n",
        "        label = batch[\"label\"].to(device)\n",
        "\n",
        "        text_logits, image_logits, fusion_logits = model(input_ids, attention_mask, image)\n",
        "\n",
        "        loss_text = criterion(text_logits, label)\n",
        "        loss_image = criterion(image_logits, label)\n",
        "        loss_fusion = criterion(fusion_logits, label)\n",
        "\n",
        "        loss = loss_text + loss_image + loss_fusion\n",
        "        loss.backward()\n",
        "        optimizer.step()\n",
        "        total_loss += loss.item()\n",
        "    return total_loss / len(dataloader)\n",
        "\n",
        "def evaluate(model, dataloader):\n",
        "    model.eval()\n",
        "    preds, labels = [], []\n",
        "    with torch.no_grad():\n",
        "        for batch in dataloader:\n",
        "            input_ids = batch[\"input_ids\"].to(device)\n",
        "            attention_mask = batch[\"attention_mask\"].to(device)\n",
        "            image = batch[\"image\"].to(device)\n",
        "            label = batch[\"label\"].to(device)\n",
        "\n",
        "            _, _, fusion_logits = model(input_ids, attention_mask, image)\n",
        "            pred = torch.argmax(fusion_logits, dim=1)\n",
        "            preds.extend(pred.cpu().numpy())\n",
        "            labels.extend(label.cpu().numpy())\n",
        "    return preds, labels\n",
        "\n",
        "# ======================= PREP =========================\n",
        "df = pd.read_csv(csv_path)\n",
        "df = df.rename(columns={\"Unnamed: 0\": \"image\"})\n",
        "\n",
        "tokenizer = AutoTokenizer.from_pretrained(\"csebuetnlp/banglabert\")\n",
        "transform = transforms.Compose([\n",
        "    transforms.Resize((224, 224)),\n",
        "    transforms.ToTensor(),\n",
        "])\n",
        "\n",
        "dataset = MemeDataset(df, img_dir, tokenizer, transform)\n",
        "\n",
        "# Split\n",
        "train_size = int(0.8 * len(dataset))\n",
        "val_size = int(0.1 * len(dataset))\n",
        "test_size = len(dataset) - train_size - val_size\n",
        "train_ds, val_ds, test_ds = random_split(dataset, [train_size, val_size, test_size])\n",
        "\n",
        "train_loader = DataLoader(train_ds, batch_size=16, shuffle=True)\n",
        "val_loader = DataLoader(val_ds, batch_size=16)\n",
        "test_loader = DataLoader(test_ds, batch_size=16)\n",
        "\n",
        "# Model\n",
        "model = MultiModalModel().to(device)\n",
        "optimizer = torch.optim.AdamW(model.parameters(), lr=2e-5)\n",
        "criterion = nn.CrossEntropyLoss()\n",
        "\n",
        "# ======================= TRAIN LOOP =========================\n",
        "for epoch in range(20):\n",
        "    print(f\"\\nEpoch {epoch+1}\")\n",
        "    train_loss = train_epoch(model, train_loader, optimizer, criterion)\n",
        "    print(f\"Train Loss: {train_loss:.4f}\")\n",
        "\n",
        "# ======================= EVALUATE =========================\n",
        "preds, labels = evaluate(model, test_loader)\n",
        "print(\"\\nClassification Report:\")\n",
        "print(classification_report(labels, preds, target_names=label2idx.keys()))\n",
        "\n",
        "# ======================= CONFUSION MATRIX =========================\n",
        "cm = confusion_matrix(labels, preds)\n",
        "disp = ConfusionMatrixDisplay(confusion_matrix=cm, display_labels=label2idx.keys())\n",
        "disp.plot(xticks_rotation=45)\n",
        "plt.title(\"Fusion Head Confusion Matrix\")\n",
        "plt.show()\n"
      ],
      "metadata": {
        "trusted": true,
        "execution": {
          "iopub.status.busy": "2025-06-25T15:20:45.869568Z",
          "iopub.execute_input": "2025-06-25T15:20:45.869871Z",
          "iopub.status.idle": "2025-06-25T15:47:29.645329Z",
          "shell.execute_reply.started": "2025-06-25T15:20:45.869849Z",
          "shell.execute_reply": "2025-06-25T15:47:29.644628Z"
        },
        "id": "IVWCZtKDyeCd",
        "outputId": "5b2d0bdd-c68e-4dc2-f6b4-8d33807ae4d9",
        "colab": {
          "referenced_widgets": [
            "30c7bbb197ab49dcaa2d3ba0f168b98d",
            "fea25e9bc0cc43fc8aabb858aecbf061",
            "dc3421f4c7cd46eab05ce2bb77915f09",
            "49119a8d91c14071be0baa6c0445721f",
            "66e5334d0f4b4b84a2e94b0fa54b5a0f",
            "8107f03121d5451ead7d72c389b1dc93",
            "df9dfa22ae0f4944adefd7d9055cc23b",
            "d67346236dc745bd80ff4e64ce274fd5",
            "77152c733e2a4d3ca1ab1564665a7593",
            "85e50a8afd96439e899ce9e0913600f8",
            "0f81b6a4a49d423a93adf49538055ff7",
            "41cb1cd005204551a4b16c3b13ea57ca",
            "b1182fc553974ddfbf247ee8202292a9",
            "8ad521261b7541e894df9453fae86b46",
            "43d4f2f5ec9a42f5beec6c878cedd6e3",
            "5d6666fe7ca34125b3cc5fd9da3a8b14",
            "f2bd3a7160b2447696ac2363052d7c9f",
            "1fc14d0f7edf4eb9b8ef6c4231b890aa",
            "02cf1b48f68e43e8ade1322ce647c842",
            "5449ad09d772475ebf5c25c162971517"
          ]
        }
      },
      "outputs": [
        {
          "name": "stdout",
          "text": "\nEpoch 1\n",
          "output_type": "stream"
        },
        {
          "output_type": "display_data",
          "data": {
            "text/plain": "  0%|          | 0/200 [00:00<?, ?it/s]",
            "application/vnd.jupyter.widget-view+json": {
              "version_major": 2,
              "version_minor": 0,
              "model_id": "30c7bbb197ab49dcaa2d3ba0f168b98d"
            }
          },
          "metadata": {}
        },
        {
          "name": "stderr",
          "text": "/usr/local/lib/python3.11/dist-packages/PIL/Image.py:1045: UserWarning: Palette images with Transparency expressed in bytes should be converted to RGBA images\n  warnings.warn(\n",
          "output_type": "stream"
        },
        {
          "name": "stdout",
          "text": "Train Loss: 3.0124\n\nEpoch 2\n",
          "output_type": "stream"
        },
        {
          "output_type": "display_data",
          "data": {
            "text/plain": "  0%|          | 0/200 [00:00<?, ?it/s]",
            "application/vnd.jupyter.widget-view+json": {
              "version_major": 2,
              "version_minor": 0,
              "model_id": "fea25e9bc0cc43fc8aabb858aecbf061"
            }
          },
          "metadata": {}
        },
        {
          "name": "stdout",
          "text": "Train Loss: 2.1837\n\nEpoch 3\n",
          "output_type": "stream"
        },
        {
          "output_type": "display_data",
          "data": {
            "text/plain": "  0%|          | 0/200 [00:00<?, ?it/s]",
            "application/vnd.jupyter.widget-view+json": {
              "version_major": 2,
              "version_minor": 0,
              "model_id": "dc3421f4c7cd46eab05ce2bb77915f09"
            }
          },
          "metadata": {}
        },
        {
          "name": "stdout",
          "text": "Train Loss: 1.5123\n\nEpoch 4\n",
          "output_type": "stream"
        },
        {
          "output_type": "display_data",
          "data": {
            "text/plain": "  0%|          | 0/200 [00:00<?, ?it/s]",
            "application/vnd.jupyter.widget-view+json": {
              "version_major": 2,
              "version_minor": 0,
              "model_id": "49119a8d91c14071be0baa6c0445721f"
            }
          },
          "metadata": {}
        },
        {
          "name": "stdout",
          "text": "Train Loss: 1.0297\n\nEpoch 5\n",
          "output_type": "stream"
        },
        {
          "output_type": "display_data",
          "data": {
            "text/plain": "  0%|          | 0/200 [00:00<?, ?it/s]",
            "application/vnd.jupyter.widget-view+json": {
              "version_major": 2,
              "version_minor": 0,
              "model_id": "66e5334d0f4b4b84a2e94b0fa54b5a0f"
            }
          },
          "metadata": {}
        },
        {
          "name": "stdout",
          "text": "Train Loss: 0.8596\n\nEpoch 6\n",
          "output_type": "stream"
        },
        {
          "output_type": "display_data",
          "data": {
            "text/plain": "  0%|          | 0/200 [00:00<?, ?it/s]",
            "application/vnd.jupyter.widget-view+json": {
              "version_major": 2,
              "version_minor": 0,
              "model_id": "8107f03121d5451ead7d72c389b1dc93"
            }
          },
          "metadata": {}
        },
        {
          "name": "stdout",
          "text": "Train Loss: 0.6723\n\nEpoch 7\n",
          "output_type": "stream"
        },
        {
          "output_type": "display_data",
          "data": {
            "text/plain": "  0%|          | 0/200 [00:00<?, ?it/s]",
            "application/vnd.jupyter.widget-view+json": {
              "version_major": 2,
              "version_minor": 0,
              "model_id": "df9dfa22ae0f4944adefd7d9055cc23b"
            }
          },
          "metadata": {}
        },
        {
          "name": "stdout",
          "text": "Train Loss: 0.5562\n\nEpoch 8\n",
          "output_type": "stream"
        },
        {
          "output_type": "display_data",
          "data": {
            "text/plain": "  0%|          | 0/200 [00:00<?, ?it/s]",
            "application/vnd.jupyter.widget-view+json": {
              "version_major": 2,
              "version_minor": 0,
              "model_id": "d67346236dc745bd80ff4e64ce274fd5"
            }
          },
          "metadata": {}
        },
        {
          "name": "stdout",
          "text": "Train Loss: 0.4262\n\nEpoch 9\n",
          "output_type": "stream"
        },
        {
          "output_type": "display_data",
          "data": {
            "text/plain": "  0%|          | 0/200 [00:00<?, ?it/s]",
            "application/vnd.jupyter.widget-view+json": {
              "version_major": 2,
              "version_minor": 0,
              "model_id": "77152c733e2a4d3ca1ab1564665a7593"
            }
          },
          "metadata": {}
        },
        {
          "name": "stdout",
          "text": "Train Loss: 0.3373\n\nEpoch 10\n",
          "output_type": "stream"
        },
        {
          "output_type": "display_data",
          "data": {
            "text/plain": "  0%|          | 0/200 [00:00<?, ?it/s]",
            "application/vnd.jupyter.widget-view+json": {
              "version_major": 2,
              "version_minor": 0,
              "model_id": "85e50a8afd96439e899ce9e0913600f8"
            }
          },
          "metadata": {}
        },
        {
          "name": "stdout",
          "text": "Train Loss: 0.3229\n\nEpoch 11\n",
          "output_type": "stream"
        },
        {
          "output_type": "display_data",
          "data": {
            "text/plain": "  0%|          | 0/200 [00:00<?, ?it/s]",
            "application/vnd.jupyter.widget-view+json": {
              "version_major": 2,
              "version_minor": 0,
              "model_id": "0f81b6a4a49d423a93adf49538055ff7"
            }
          },
          "metadata": {}
        },
        {
          "name": "stdout",
          "text": "Train Loss: 0.2089\n\nEpoch 12\n",
          "output_type": "stream"
        },
        {
          "output_type": "display_data",
          "data": {
            "text/plain": "  0%|          | 0/200 [00:00<?, ?it/s]",
            "application/vnd.jupyter.widget-view+json": {
              "version_major": 2,
              "version_minor": 0,
              "model_id": "41cb1cd005204551a4b16c3b13ea57ca"
            }
          },
          "metadata": {}
        },
        {
          "name": "stdout",
          "text": "Train Loss: 0.1849\n\nEpoch 13\n",
          "output_type": "stream"
        },
        {
          "output_type": "display_data",
          "data": {
            "text/plain": "  0%|          | 0/200 [00:00<?, ?it/s]",
            "application/vnd.jupyter.widget-view+json": {
              "version_major": 2,
              "version_minor": 0,
              "model_id": "b1182fc553974ddfbf247ee8202292a9"
            }
          },
          "metadata": {}
        },
        {
          "name": "stdout",
          "text": "Train Loss: 0.1338\n\nEpoch 14\n",
          "output_type": "stream"
        },
        {
          "output_type": "display_data",
          "data": {
            "text/plain": "  0%|          | 0/200 [00:00<?, ?it/s]",
            "application/vnd.jupyter.widget-view+json": {
              "version_major": 2,
              "version_minor": 0,
              "model_id": "8ad521261b7541e894df9453fae86b46"
            }
          },
          "metadata": {}
        },
        {
          "name": "stdout",
          "text": "Train Loss: 0.1083\n\nEpoch 15\n",
          "output_type": "stream"
        },
        {
          "output_type": "display_data",
          "data": {
            "text/plain": "  0%|          | 0/200 [00:00<?, ?it/s]",
            "application/vnd.jupyter.widget-view+json": {
              "version_major": 2,
              "version_minor": 0,
              "model_id": "43d4f2f5ec9a42f5beec6c878cedd6e3"
            }
          },
          "metadata": {}
        },
        {
          "name": "stdout",
          "text": "Train Loss: 0.0760\n\nEpoch 16\n",
          "output_type": "stream"
        },
        {
          "output_type": "display_data",
          "data": {
            "text/plain": "  0%|          | 0/200 [00:00<?, ?it/s]",
            "application/vnd.jupyter.widget-view+json": {
              "version_major": 2,
              "version_minor": 0,
              "model_id": "5d6666fe7ca34125b3cc5fd9da3a8b14"
            }
          },
          "metadata": {}
        },
        {
          "name": "stdout",
          "text": "Train Loss: 0.0712\n\nEpoch 17\n",
          "output_type": "stream"
        },
        {
          "output_type": "display_data",
          "data": {
            "text/plain": "  0%|          | 0/200 [00:00<?, ?it/s]",
            "application/vnd.jupyter.widget-view+json": {
              "version_major": 2,
              "version_minor": 0,
              "model_id": "f2bd3a7160b2447696ac2363052d7c9f"
            }
          },
          "metadata": {}
        },
        {
          "name": "stdout",
          "text": "Train Loss: 0.0657\n\nEpoch 18\n",
          "output_type": "stream"
        },
        {
          "output_type": "display_data",
          "data": {
            "text/plain": "  0%|          | 0/200 [00:00<?, ?it/s]",
            "application/vnd.jupyter.widget-view+json": {
              "version_major": 2,
              "version_minor": 0,
              "model_id": "1fc14d0f7edf4eb9b8ef6c4231b890aa"
            }
          },
          "metadata": {}
        },
        {
          "name": "stdout",
          "text": "Train Loss: 0.0723\n\nEpoch 19\n",
          "output_type": "stream"
        },
        {
          "output_type": "display_data",
          "data": {
            "text/plain": "  0%|          | 0/200 [00:00<?, ?it/s]",
            "application/vnd.jupyter.widget-view+json": {
              "version_major": 2,
              "version_minor": 0,
              "model_id": "02cf1b48f68e43e8ade1322ce647c842"
            }
          },
          "metadata": {}
        },
        {
          "name": "stdout",
          "text": "Train Loss: 0.0731\n\nEpoch 20\n",
          "output_type": "stream"
        },
        {
          "output_type": "display_data",
          "data": {
            "text/plain": "  0%|          | 0/200 [00:00<?, ?it/s]",
            "application/vnd.jupyter.widget-view+json": {
              "version_major": 2,
              "version_minor": 0,
              "model_id": "5449ad09d772475ebf5c25c162971517"
            }
          },
          "metadata": {}
        },
        {
          "name": "stdout",
          "text": "Train Loss: 0.0509\n\nClassification Report:\n                              precision    recall  f1-score   support\n\nstereotype & objectification       0.66      0.88      0.76       156\n           violence or abuse       0.82      0.51      0.63        83\n            non-misogynistic       0.89      0.78      0.84       162\n\n                    accuracy                           0.77       401\n                   macro avg       0.79      0.72      0.74       401\n                weighted avg       0.79      0.77      0.76       401\n\n",
          "output_type": "stream"
        },
        {
          "output_type": "display_data",
          "data": {
            "text/plain": "<Figure size 640x480 with 2 Axes>",
            "image/png": "[encoded data removed]"
          },
          "metadata": {}
        }
      ],
      "execution_count": null
    }
  ]
}