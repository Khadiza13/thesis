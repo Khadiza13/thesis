{
  "metadata": {
    "kernelspec": {
      "display_name": "Python 3",
      "language": "python",
      "name": "python3"
    },
    "language_info": {
      "name": "python",
      "version": "3.11.11",
      "mimetype": "text/x-python",
      "codemirror_mode": {
        "name": "ipython",
        "version": 3
      },
      "pygments_lexer": "ipython3",
      "nbconvert_exporter": "python",
      "file_extension": ".py"
    },
    "kaggle": {
      "accelerator": "gpu",
      "dataSources": [
        {
          "sourceId": 12199088,
          "sourceType": "datasetVersion",
          "datasetId": 7684425
        }
      ],
      "dockerImageVersionId": 31041,
      "isInternetEnabled": true,
      "language": "python",
      "sourceType": "notebook",
      "isGpuEnabled": true
    },
    "papermill": {
      "default_parameters": {},
      "duration": 3168.036222,
      "end_time": "2024-06-22T13:33:34.517314",
      "environment_variables": {},
      "exception": null,
      "input_path": "__notebook__.ipynb",
      "output_path": "__notebook__.ipynb",
      "parameters": {},
      "start_time": "2024-06-22T12:40:46.481092",
      "version": "2.5.0"
    },
    "colab": {
      "name": "new_vit&banglabert",
      "provenance": []
    }
  },
  "nbformat_minor": 0,
  "nbformat": 4,
  "cells": [
    {
      "source": [
        "# IMPORTANT: SOME KAGGLE DATA SOURCES ARE PRIVATE\n",
        "# RUN THIS CELL IN ORDER TO IMPORT YOUR KAGGLE DATA SOURCES.\n",
        "import kagglehub\n",
        "kagglehub.login()\n"
      ],
      "metadata": {
        "id": "debD_kR61WLL"
      },
      "cell_type": "code",
      "outputs": [],
      "execution_count": null
    },
    {
      "source": [
        "# IMPORTANT: RUN THIS CELL IN ORDER TO IMPORT YOUR KAGGLE DATA SOURCES,\n",
        "# THEN FEEL FREE TO DELETE THIS CELL.\n",
        "# NOTE: THIS NOTEBOOK ENVIRONMENT DIFFERS FROM KAGGLE'S PYTHON\n",
        "# ENVIRONMENT SO THERE MAY BE MISSING LIBRARIES USED BY YOUR\n",
        "# NOTEBOOK.\n",
        "\n",
        "khadiza13_new_dataset_path = kagglehub.dataset_download('khadiza13/new-dataset')\n",
        "\n",
        "print('Data source import complete.')\n"
      ],
      "metadata": {
        "id": "HcQePT5D1WLO"
      },
      "cell_type": "code",
      "outputs": [],
      "execution_count": null
    },
    {
      "cell_type": "code",
      "source": [
        "import os\n",
        "# Disable tokenizers parallelism\n",
        "os.environ['TOKENIZERS_PARALLELISM'] = 'false'"
      ],
      "metadata": {
        "_cell_guid": "b1076dfc-b9ad-4769-8c92-a6c4dae69d19",
        "_uuid": "8f2839f25d086af736a60e9eeb907d3b93b6e0e5",
        "execution": {
          "iopub.status.busy": "2025-06-17T19:09:25.666941Z",
          "iopub.execute_input": "2025-06-17T19:09:25.667574Z",
          "iopub.status.idle": "2025-06-17T19:09:25.67106Z",
          "shell.execute_reply.started": "2025-06-17T19:09:25.667552Z",
          "shell.execute_reply": "2025-06-17T19:09:25.670319Z"
        },
        "papermill": {
          "duration": 0.030952,
          "end_time": "2024-06-22T12:40:49.614166",
          "exception": false,
          "start_time": "2024-06-22T12:40:49.583214",
          "status": "completed"
        },
        "tags": [],
        "trusted": true,
        "id": "ad42f13b"
      },
      "outputs": [],
      "execution_count": null
    },
    {
      "cell_type": "code",
      "source": [
        "!pip install datasets evaluate transformers[sentencepiece]\n",
        "!pip install -q transformers datasets"
      ],
      "metadata": {
        "execution": {
          "iopub.status.busy": "2025-06-17T19:09:28.516841Z",
          "iopub.execute_input": "2025-06-17T19:09:28.517632Z",
          "iopub.status.idle": "2025-06-17T19:09:34.950398Z",
          "shell.execute_reply.started": "2025-06-17T19:09:28.517608Z",
          "shell.execute_reply": "2025-06-17T19:09:34.949369Z"
        },
        "papermill": {
          "duration": 30.36174,
          "end_time": "2024-06-22T12:41:19.990154",
          "exception": false,
          "start_time": "2024-06-22T12:40:49.628414",
          "status": "completed"
        },
        "tags": [],
        "trusted": true,
        "id": "ed5e0ebc"
      },
      "outputs": [],
      "execution_count": null
    },
    {
      "cell_type": "code",
      "source": [
        "import numpy as np\n",
        "import random\n",
        "import os\n",
        "import matplotlib.pyplot as plt\n",
        "import seaborn as sns\n",
        "import pandas as pd\n",
        "from transformers import AutoTokenizer, DataCollatorWithPadding, AutoModel,  AutoConfig\n",
        "from collections import defaultdict\n",
        "import torch\n",
        "from transformers import ViTImageProcessor,ViTModel, ViTConfig\n",
        "import warnings\n",
        "warnings.filterwarnings('ignore')\n",
        "from transformers import get_scheduler\n",
        "import torch.nn as nn\n",
        "from sklearn.model_selection import train_test_split\n",
        "from torch.utils.data import Dataset,IterableDataset,DataLoader\n",
        "from tqdm.auto import tqdm\n",
        "from collections import defaultdict\n",
        "from torch.optim import AdamW\n",
        "import torchvision\n",
        "from torchvision.transforms import Compose, RandomResizedCrop, RandomHorizontalFlip, Resize, CenterCrop, ToTensor, Normalize\n",
        "from PIL import Image\n",
        "from datasets import load_dataset\n",
        "from torch.cuda import amp\n",
        "from sklearn.metrics import classification_report, confusion_matrix, accuracy_score,f1_score\n",
        "import gc\n",
        "gc.enable()"
      ],
      "metadata": {
        "execution": {
          "iopub.status.busy": "2025-06-17T19:09:42.658464Z",
          "iopub.execute_input": "2025-06-17T19:09:42.659002Z",
          "iopub.status.idle": "2025-06-17T19:09:42.664724Z",
          "shell.execute_reply.started": "2025-06-17T19:09:42.658982Z",
          "shell.execute_reply": "2025-06-17T19:09:42.663914Z"
        },
        "papermill": {
          "duration": 21.632674,
          "end_time": "2024-06-22T12:41:41.637837",
          "exception": false,
          "start_time": "2024-06-22T12:41:20.005163",
          "status": "completed"
        },
        "tags": [],
        "trusted": true,
        "id": "c6982366"
      },
      "outputs": [],
      "execution_count": null
    },
    {
      "cell_type": "code",
      "source": [
        "def set_random_seed(random_seed):\n",
        "    random.seed(random_seed)\n",
        "    np.random.seed(random_seed)\n",
        "    os.environ[\"PYTHONHASHSEED\"] = str(random_seed)\n",
        "\n",
        "    torch.manual_seed(random_seed)\n",
        "    torch.cuda.manual_seed(random_seed)\n",
        "    torch.cuda.manual_seed_all(random_seed)\n",
        "\n",
        "    torch.backends.cudnn.deterministic = True"
      ],
      "metadata": {
        "execution": {
          "iopub.status.busy": "2025-06-17T19:09:48.828586Z",
          "iopub.execute_input": "2025-06-17T19:09:48.829176Z",
          "iopub.status.idle": "2025-06-17T19:09:48.83315Z",
          "shell.execute_reply.started": "2025-06-17T19:09:48.829154Z",
          "shell.execute_reply": "2025-06-17T19:09:48.832478Z"
        },
        "papermill": {
          "duration": 0.027268,
          "end_time": "2024-06-22T12:41:41.680905",
          "exception": false,
          "start_time": "2024-06-22T12:41:41.653637",
          "status": "completed"
        },
        "tags": [],
        "trusted": true,
        "id": "22583977"
      },
      "outputs": [],
      "execution_count": null
    },
    {
      "cell_type": "code",
      "source": [
        "df = pd.read_csv(\"/kaggle/input/new-dataset/new_ds/dataset.csv\")\n",
        "df.head()"
      ],
      "metadata": {
        "execution": {
          "iopub.status.busy": "2025-06-17T19:26:04.3021Z",
          "iopub.execute_input": "2025-06-17T19:26:04.302451Z",
          "iopub.status.idle": "2025-06-17T19:26:04.352894Z",
          "shell.execute_reply.started": "2025-06-17T19:26:04.30243Z",
          "shell.execute_reply": "2025-06-17T19:26:04.352212Z"
        },
        "papermill": {
          "duration": 0.129456,
          "end_time": "2024-06-22T12:41:41.825897",
          "exception": false,
          "start_time": "2024-06-22T12:41:41.696441",
          "status": "completed"
        },
        "tags": [],
        "trusted": true,
        "id": "c77ee2b5"
      },
      "outputs": [],
      "execution_count": null
    },
    {
      "cell_type": "code",
      "source": [
        "# Check the shape of the dataset\n",
        "print(\"Shape of the dataset:\", df.shape)"
      ],
      "metadata": {
        "trusted": true,
        "execution": {
          "iopub.status.busy": "2025-06-17T19:26:09.170098Z",
          "iopub.execute_input": "2025-06-17T19:26:09.170623Z",
          "iopub.status.idle": "2025-06-17T19:26:09.178676Z",
          "shell.execute_reply.started": "2025-06-17T19:26:09.170588Z",
          "shell.execute_reply": "2025-06-17T19:26:09.176507Z"
        },
        "id": "bdacbd1b-cd06-44cd-a0e8-0010088a242b"
      },
      "outputs": [],
      "execution_count": null
    },
    {
      "cell_type": "code",
      "source": [
        "# Check for null values\n",
        "print(\"\\nNull values in the dataset:\")\n",
        "print(df.isnull().sum())\n",
        "\n",
        "# Check for duplicate values\n",
        "print(\"\\nDuplicate values in the dataset:\")\n",
        "print(df.duplicated().sum())"
      ],
      "metadata": {
        "trusted": true,
        "execution": {
          "iopub.status.busy": "2025-06-17T19:10:18.996557Z",
          "iopub.execute_input": "2025-06-17T19:10:18.996812Z",
          "iopub.status.idle": "2025-06-17T19:10:19.011614Z",
          "shell.execute_reply.started": "2025-06-17T19:10:18.996794Z",
          "shell.execute_reply": "2025-06-17T19:10:19.010885Z"
        },
        "id": "f16ebfd0-c141-4547-a3be-183a7d27cc5e"
      },
      "outputs": [],
      "execution_count": null
    },
    {
      "cell_type": "code",
      "source": [
        "# Checking class distribution (count of each class)\n",
        "class_distribution = df['Label'].value_counts()\n",
        "print(\"\\nClass distribution:\")\n",
        "print(class_distribution)\n",
        "\n",
        "# Display class-wise shape (how many samples for each class)\n",
        "for class_name in class_distribution.index:\n",
        "    class_data = df[df['Label'] == class_name]\n",
        "    print(f\"\\nClass '{class_name}' contains {class_data.shape[0]} samples.\")"
      ],
      "metadata": {
        "trusted": true,
        "execution": {
          "iopub.status.busy": "2025-06-17T19:10:22.20453Z",
          "iopub.execute_input": "2025-06-17T19:10:22.204847Z",
          "iopub.status.idle": "2025-06-17T19:10:22.216031Z",
          "shell.execute_reply.started": "2025-06-17T19:10:22.204828Z",
          "shell.execute_reply": "2025-06-17T19:10:22.215292Z"
        },
        "id": "94c91eef-ad23-4c83-9101-0a6e0b4769de"
      },
      "outputs": [],
      "execution_count": null
    },
    {
      "cell_type": "code",
      "source": [
        "print(df.columns.tolist())\n"
      ],
      "metadata": {
        "trusted": true,
        "execution": {
          "iopub.status.busy": "2025-06-17T19:10:29.422705Z",
          "iopub.execute_input": "2025-06-17T19:10:29.423556Z",
          "iopub.status.idle": "2025-06-17T19:10:29.427331Z",
          "shell.execute_reply.started": "2025-06-17T19:10:29.423528Z",
          "shell.execute_reply": "2025-06-17T19:10:29.426603Z"
        },
        "id": "74a85429-df80-4598-870a-293f9ce54944"
      },
      "outputs": [],
      "execution_count": null
    },
    {
      "cell_type": "code",
      "source": [
        "df.columns = ['image_name', 'Text', 'label']\n",
        "df.head()"
      ],
      "metadata": {
        "trusted": true,
        "execution": {
          "iopub.status.busy": "2025-06-17T19:26:20.717637Z",
          "iopub.execute_input": "2025-06-17T19:26:20.717957Z",
          "iopub.status.idle": "2025-06-17T19:26:20.725693Z",
          "shell.execute_reply.started": "2025-06-17T19:26:20.717936Z",
          "shell.execute_reply": "2025-06-17T19:26:20.724946Z"
        },
        "id": "7e3a776e-4dcf-41ce-a2b4-e3b73774ac10"
      },
      "outputs": [],
      "execution_count": null
    },
    {
      "cell_type": "code",
      "source": [
        "img_folder = '/kaggle/input/new-dataset/new_ds/images'\n",
        "\n",
        "# List of all images present in folder\n",
        "available_images = set(os.listdir(img_folder))\n",
        "\n",
        "# Images referenced in DataFrame\n",
        "referenced_images = set(df['   Image'].unique())\n",
        "\n",
        "# Find missing images\n",
        "missing_images = referenced_images - available_images\n",
        "\n",
        "# Print missing image filenames with full path\n",
        "missing_image_paths = [os.path.join(img_folder, img) for img in missing_images]\n",
        "\n",
        "print(\"Missing image files:\")\n",
        "for path in missing_image_paths:\n",
        "    print(path)"
      ],
      "metadata": {
        "trusted": true,
        "execution": {
          "iopub.status.busy": "2025-06-17T19:10:45.215892Z",
          "iopub.execute_input": "2025-06-17T19:10:45.216419Z",
          "iopub.status.idle": "2025-06-17T19:10:45.270829Z",
          "shell.execute_reply.started": "2025-06-17T19:10:45.216396Z",
          "shell.execute_reply": "2025-06-17T19:10:45.270145Z"
        },
        "id": "0d56f36d-3638-4575-997e-63283631f72a"
      },
      "outputs": [],
      "execution_count": null
    },
    {
      "cell_type": "code",
      "source": [
        "with pd.option_context('display.max_colwidth', 0):\n",
        "    display(df.sample(n=5))"
      ],
      "metadata": {
        "execution": {
          "iopub.status.busy": "2025-06-17T19:26:28.638501Z",
          "iopub.execute_input": "2025-06-17T19:26:28.63878Z",
          "iopub.status.idle": "2025-06-17T19:26:28.647063Z",
          "shell.execute_reply.started": "2025-06-17T19:26:28.63876Z",
          "shell.execute_reply": "2025-06-17T19:26:28.64636Z"
        },
        "papermill": {
          "duration": 0.036923,
          "end_time": "2024-06-22T12:41:41.880728",
          "exception": false,
          "start_time": "2024-06-22T12:41:41.843805",
          "status": "completed"
        },
        "tags": [],
        "trusted": true,
        "id": "d6c01958"
      },
      "outputs": [],
      "execution_count": null
    },
    {
      "cell_type": "code",
      "source": [
        "from sklearn.preprocessing import LabelEncoder\n",
        "le = LabelEncoder()\n",
        "df['label'] = le.fit_transform(df['label'])\n",
        "df.sample(10)"
      ],
      "metadata": {
        "trusted": true,
        "execution": {
          "iopub.status.busy": "2025-06-17T19:29:51.398856Z",
          "iopub.execute_input": "2025-06-17T19:29:51.399453Z",
          "iopub.status.idle": "2025-06-17T19:29:51.409841Z",
          "shell.execute_reply.started": "2025-06-17T19:29:51.399432Z",
          "shell.execute_reply": "2025-06-17T19:29:51.40891Z"
        },
        "id": "d1e473f5-76ea-4f1b-a218-792eb5eb96f9"
      },
      "outputs": [],
      "execution_count": null
    },
    {
      "cell_type": "code",
      "source": [
        "# checkpoint = \"csebuetnlp/banglabert\" \"sagorsarker/bangla-bert-base\" \"csebuetnlp/banglabert_large\"\n",
        "class Config:\n",
        "    NUM_EPOCHS = 10\n",
        "    BATCH_SIZE = 32\n",
        "    MODEL_PATH = \"csebuetnlp/banglabert\"\n",
        "    Image_Model = \"google/vit-base-patch16-224-in21k\"\n",
        "    LR = 2e-5\n",
        "    DROPOUT = 0.3\n",
        "    NUM_CLASSES = 4\n",
        "    SEED = 42\n",
        "    MAX_LEN = 100\n",
        "    DEVICE =  \"cuda\" if torch.cuda.is_available() else \"cpu\"\n",
        "\n",
        "config  = Config()"
      ],
      "metadata": {
        "execution": {
          "iopub.status.busy": "2025-06-17T19:29:58.071764Z",
          "iopub.execute_input": "2025-06-17T19:29:58.072252Z",
          "iopub.status.idle": "2025-06-17T19:29:58.076336Z",
          "shell.execute_reply.started": "2025-06-17T19:29:58.072229Z",
          "shell.execute_reply": "2025-06-17T19:29:58.075627Z"
        },
        "papermill": {
          "duration": 0.079106,
          "end_time": "2024-06-22T12:41:41.977932",
          "exception": false,
          "start_time": "2024-06-22T12:41:41.898826",
          "status": "completed"
        },
        "tags": [],
        "trusted": true,
        "id": "fd178963"
      },
      "outputs": [],
      "execution_count": null
    },
    {
      "cell_type": "code",
      "source": [
        "tokenizer = AutoTokenizer.from_pretrained(config.MODEL_PATH)"
      ],
      "metadata": {
        "execution": {
          "iopub.status.busy": "2025-06-17T19:30:02.861743Z",
          "iopub.execute_input": "2025-06-17T19:30:02.862268Z",
          "iopub.status.idle": "2025-06-17T19:30:03.039081Z",
          "shell.execute_reply.started": "2025-06-17T19:30:02.862247Z",
          "shell.execute_reply": "2025-06-17T19:30:03.038391Z"
        },
        "papermill": {
          "duration": 0.982438,
          "end_time": "2024-06-22T12:41:42.988658",
          "exception": false,
          "start_time": "2024-06-22T12:41:42.00622",
          "status": "completed"
        },
        "tags": [],
        "trusted": true,
        "id": "46f38fd1"
      },
      "outputs": [],
      "execution_count": null
    },
    {
      "cell_type": "code",
      "source": [
        "token_counts = []\n",
        "\n",
        "for _, row in df.iterrows():\n",
        "    text = str(row[\"Text\"])  # Ensure the text is converted to a string\n",
        "    token_count = len(tokenizer.encode(\n",
        "        text,\n",
        "        max_length=512,\n",
        "        truncation=True\n",
        "    ))\n",
        "    token_counts.append(token_count)\n",
        "\n",
        "sns.histplot(token_counts)"
      ],
      "metadata": {
        "execution": {
          "iopub.status.busy": "2025-06-17T19:30:05.435369Z",
          "iopub.execute_input": "2025-06-17T19:30:05.436041Z",
          "iopub.status.idle": "2025-06-17T19:30:06.694941Z",
          "shell.execute_reply.started": "2025-06-17T19:30:05.436017Z",
          "shell.execute_reply": "2025-06-17T19:30:06.69418Z"
        },
        "papermill": {
          "duration": 3.083289,
          "end_time": "2024-06-22T12:41:46.088241",
          "exception": false,
          "start_time": "2024-06-22T12:41:43.004952",
          "status": "completed"
        },
        "tags": [],
        "trusted": true,
        "id": "a0d52038"
      },
      "outputs": [],
      "execution_count": null
    },
    {
      "cell_type": "code",
      "source": [
        "X = df[['image_name','Text']]"
      ],
      "metadata": {
        "execution": {
          "iopub.status.busy": "2025-06-17T19:30:10.523312Z",
          "iopub.execute_input": "2025-06-17T19:30:10.523834Z",
          "iopub.status.idle": "2025-06-17T19:30:10.52855Z",
          "shell.execute_reply.started": "2025-06-17T19:30:10.523813Z",
          "shell.execute_reply": "2025-06-17T19:30:10.527636Z"
        },
        "papermill": {
          "duration": 0.028451,
          "end_time": "2024-06-22T12:41:46.133639",
          "exception": false,
          "start_time": "2024-06-22T12:41:46.105188",
          "status": "completed"
        },
        "tags": [],
        "trusted": true,
        "id": "1c1bc335"
      },
      "outputs": [],
      "execution_count": null
    },
    {
      "cell_type": "code",
      "source": [
        "X_train, X_test, y_train, y_test = train_test_split(X, df['label'].values, test_size=0.3, stratify=df['label'].values, random_state=42)"
      ],
      "metadata": {
        "execution": {
          "iopub.status.busy": "2025-06-17T19:30:12.682043Z",
          "iopub.execute_input": "2025-06-17T19:30:12.682968Z",
          "iopub.status.idle": "2025-06-17T19:30:12.691066Z",
          "shell.execute_reply.started": "2025-06-17T19:30:12.682932Z",
          "shell.execute_reply": "2025-06-17T19:30:12.690313Z"
        },
        "papermill": {
          "duration": 0.034582,
          "end_time": "2024-06-22T12:41:46.185911",
          "exception": false,
          "start_time": "2024-06-22T12:41:46.151329",
          "status": "completed"
        },
        "tags": [],
        "trusted": true,
        "id": "a3da11d8"
      },
      "outputs": [],
      "execution_count": null
    },
    {
      "cell_type": "code",
      "source": [
        "X_test, X_val, y_test, y_val = train_test_split(X_test, y_test, test_size=0.5, stratify=y_test, random_state=42)"
      ],
      "metadata": {
        "execution": {
          "iopub.status.busy": "2025-06-17T19:30:15.136519Z",
          "iopub.execute_input": "2025-06-17T19:30:15.137043Z",
          "iopub.status.idle": "2025-06-17T19:30:15.142889Z",
          "shell.execute_reply.started": "2025-06-17T19:30:15.137019Z",
          "shell.execute_reply": "2025-06-17T19:30:15.142349Z"
        },
        "papermill": {
          "duration": 0.030874,
          "end_time": "2024-06-22T12:41:46.234356",
          "exception": false,
          "start_time": "2024-06-22T12:41:46.203482",
          "status": "completed"
        },
        "tags": [],
        "trusted": true,
        "id": "20395214"
      },
      "outputs": [],
      "execution_count": null
    },
    {
      "cell_type": "code",
      "source": [
        "train_df = pd.DataFrame(X_train, columns=['image_name', 'Text'])\n",
        "train_df['label'] = y_train\n",
        "val_df = pd.DataFrame(X_val, columns=['image_name', 'Text'])\n",
        "val_df['label'] = y_val\n",
        "test_df = pd.DataFrame(X_test, columns = ['image_name', 'Text'])\n",
        "test_df['label'] = y_test"
      ],
      "metadata": {
        "execution": {
          "iopub.status.busy": "2025-06-17T19:30:16.985097Z",
          "iopub.execute_input": "2025-06-17T19:30:16.985613Z",
          "iopub.status.idle": "2025-06-17T19:30:16.992313Z",
          "shell.execute_reply.started": "2025-06-17T19:30:16.985592Z",
          "shell.execute_reply": "2025-06-17T19:30:16.991534Z"
        },
        "papermill": {
          "duration": 0.029447,
          "end_time": "2024-06-22T12:41:46.281379",
          "exception": false,
          "start_time": "2024-06-22T12:41:46.251932",
          "status": "completed"
        },
        "tags": [],
        "trusted": true,
        "id": "57ce0e3b"
      },
      "outputs": [],
      "execution_count": null
    },
    {
      "cell_type": "code",
      "source": [
        "train_df['Text'][0]"
      ],
      "metadata": {
        "execution": {
          "iopub.status.busy": "2025-06-17T19:30:19.791806Z",
          "iopub.execute_input": "2025-06-17T19:30:19.792071Z",
          "iopub.status.idle": "2025-06-17T19:30:19.798148Z",
          "shell.execute_reply.started": "2025-06-17T19:30:19.79205Z",
          "shell.execute_reply": "2025-06-17T19:30:19.797438Z"
        },
        "papermill": {
          "duration": 0.030237,
          "end_time": "2024-06-22T12:41:46.329043",
          "exception": false,
          "start_time": "2024-06-22T12:41:46.298806",
          "status": "completed"
        },
        "tags": [],
        "trusted": true,
        "id": "455c6e70"
      },
      "outputs": [],
      "execution_count": null
    },
    {
      "cell_type": "code",
      "source": [
        "train_df['image_name'][0]"
      ],
      "metadata": {
        "execution": {
          "iopub.status.busy": "2025-06-17T19:30:21.848942Z",
          "iopub.execute_input": "2025-06-17T19:30:21.849439Z",
          "iopub.status.idle": "2025-06-17T19:30:21.854344Z",
          "shell.execute_reply.started": "2025-06-17T19:30:21.849415Z",
          "shell.execute_reply": "2025-06-17T19:30:21.853637Z"
        },
        "papermill": {
          "duration": 0.028301,
          "end_time": "2024-06-22T12:41:46.37684",
          "exception": false,
          "start_time": "2024-06-22T12:41:46.348539",
          "status": "completed"
        },
        "tags": [],
        "trusted": true,
        "id": "71579df2"
      },
      "outputs": [],
      "execution_count": null
    },
    {
      "cell_type": "code",
      "source": [
        "class MultimodalDataset(Dataset):\n",
        "    def __init__(self, df, tokenizer, processor, is_train=True):\n",
        "        super(MultimodalDataset, self).__init__()\n",
        "        self.df = df\n",
        "        self.tokenizer = tokenizer\n",
        "        self.processor = processor\n",
        "        self.label = torch.tensor(df.label.values, dtype=torch.long)\n",
        "        self.is_train = is_train\n",
        "        self.max_length = config.MAX_LEN\n",
        "\n",
        "        # Image transforms\n",
        "        self.image_mean = processor.image_mean\n",
        "        self.image_std = processor.image_std\n",
        "        self.size = processor.size[\"height\"]\n",
        "\n",
        "        self.train_transforms = Compose([\n",
        "            RandomResizedCrop(self.size),\n",
        "            RandomHorizontalFlip(),\n",
        "            ToTensor(),\n",
        "            self.normalize_image,\n",
        "        ])\n",
        "        self.val_transforms = Compose([\n",
        "            Resize(self.size),\n",
        "            CenterCrop(self.size),\n",
        "            ToTensor(),\n",
        "            self.normalize_image,\n",
        "        ])\n",
        "\n",
        "    def normalize_image(self, image):\n",
        "        if image.shape[0] == 3:  # RGB image\n",
        "            return Normalize(mean=self.image_mean, std=self.image_std)(image)\n",
        "        elif image.shape[0] == 4:  # RGBA image\n",
        "            # Normalize only the RGB channels\n",
        "            rgb_image = image[:3]\n",
        "            normalized_rgb = Normalize(mean=self.image_mean, std=self.image_std)(rgb_image)\n",
        "            # Add the alpha channel back\n",
        "            return torch.cat([normalized_rgb, image[3].unsqueeze(0)], dim=0)\n",
        "        else:\n",
        "            raise ValueError(f\"Unexpected number of channels: {image.shape[0]}\")\n",
        "\n",
        "    def __len__(self):\n",
        "        return len(self.df)\n",
        "\n",
        "    def __getitem__(self, index):\n",
        "\n",
        "        image_item = f\"/kaggle/input/new-dataset/new_ds/images/{df.iloc[index, 0]}\"\n",
        "\n",
        "        text_item = self.df.iloc[index]\n",
        "        # Process image\n",
        "        image = Image.open(image_item).convert('RGB')\n",
        "        if self.is_train:\n",
        "            image_inputs = self.train_transforms(image)\n",
        "        else:\n",
        "            image_inputs = self.val_transforms(image)\n",
        "\n",
        "        text = str(text_item['Text'])\n",
        "        text_inputs = self.tokenizer(\n",
        "            text,\n",
        "            padding=True,\n",
        "            truncation=True,\n",
        "            max_length=config.MAX_LEN,\n",
        "            return_tensors=\"pt\"\n",
        "        )\n",
        "\n",
        "        label = self.label[index]\n",
        "        return{\n",
        "            'input_ids': text_inputs['input_ids'].squeeze(0),\n",
        "            'attention_mask': text_inputs['attention_mask'].squeeze(0),\n",
        "            'pixel_values': image_inputs,\n",
        "            'label': label\n",
        "        }"
      ],
      "metadata": {
        "execution": {
          "iopub.status.busy": "2025-06-17T19:30:23.883919Z",
          "iopub.execute_input": "2025-06-17T19:30:23.884405Z",
          "iopub.status.idle": "2025-06-17T19:30:23.893098Z",
          "shell.execute_reply.started": "2025-06-17T19:30:23.884382Z",
          "shell.execute_reply": "2025-06-17T19:30:23.892475Z"
        },
        "papermill": {
          "duration": 0.037282,
          "end_time": "2024-06-22T12:41:46.431773",
          "exception": false,
          "start_time": "2024-06-22T12:41:46.394491",
          "status": "completed"
        },
        "tags": [],
        "trusted": true,
        "id": "428eec05"
      },
      "outputs": [],
      "execution_count": null
    },
    {
      "cell_type": "code",
      "source": [
        "class MultimodalDataCollator:\n",
        "    def __init__(self, tokenizer):\n",
        "        self.tokenizer = tokenizer\n",
        "        self.text_collator = DataCollatorWithPadding(tokenizer=tokenizer)\n",
        "\n",
        "    def __call__(self, examples):\n",
        "        text_inputs = [{k: v for k, v in ex.items() if k not in ['pixel_values', 'label']} for ex in examples]\n",
        "        image_inputs = [ex['pixel_values'] for ex in examples]\n",
        "        labels = [ex['label'] for ex in examples]\n",
        "\n",
        "        batch = self.text_collator(text_inputs)\n",
        "\n",
        "        batch['pixel_values'] = torch.stack(image_inputs)\n",
        "        batch['label'] = torch.stack(labels)\n",
        "\n",
        "        return batch"
      ],
      "metadata": {
        "execution": {
          "iopub.status.busy": "2025-06-17T19:30:27.79514Z",
          "iopub.execute_input": "2025-06-17T19:30:27.795415Z",
          "iopub.status.idle": "2025-06-17T19:30:27.800583Z",
          "shell.execute_reply.started": "2025-06-17T19:30:27.79539Z",
          "shell.execute_reply": "2025-06-17T19:30:27.799892Z"
        },
        "papermill": {
          "duration": 0.028794,
          "end_time": "2024-06-22T12:41:46.478344",
          "exception": false,
          "start_time": "2024-06-22T12:41:46.44955",
          "status": "completed"
        },
        "tags": [],
        "trusted": true,
        "id": "a124a20f"
      },
      "outputs": [],
      "execution_count": null
    },
    {
      "cell_type": "code",
      "source": [
        "processor = ViTImageProcessor.from_pretrained(config.Image_Model)\n",
        "\n",
        "# Create datasets\n",
        "train_dataset = MultimodalDataset(train_df, tokenizer, processor, is_train=True)\n",
        "\n",
        "data_collator = MultimodalDataCollator(tokenizer)\n",
        "\n",
        "train_loader = DataLoader(train_dataset, batch_size=3, collate_fn=data_collator, num_workers=4)"
      ],
      "metadata": {
        "execution": {
          "iopub.status.busy": "2025-06-17T19:30:31.079145Z",
          "iopub.execute_input": "2025-06-17T19:30:31.079812Z",
          "iopub.status.idle": "2025-06-17T19:30:31.189372Z",
          "shell.execute_reply.started": "2025-06-17T19:30:31.079789Z",
          "shell.execute_reply": "2025-06-17T19:30:31.188658Z"
        },
        "papermill": {
          "duration": 0.289278,
          "end_time": "2024-06-22T12:41:46.785086",
          "exception": false,
          "start_time": "2024-06-22T12:41:46.495808",
          "status": "completed"
        },
        "tags": [],
        "trusted": true,
        "id": "e0eab3ef"
      },
      "outputs": [],
      "execution_count": null
    },
    {
      "cell_type": "code",
      "source": [
        "class ClassifierModel(nn.Module):\n",
        "    def __init__(self):\n",
        "        super(ClassifierModel, self).__init__()\n",
        "        model_config = AutoConfig.from_pretrained(config.MODEL_PATH)\n",
        "        self.model = AutoModel.from_pretrained(config.MODEL_PATH,config = model_config)\n",
        "\n",
        "    def forward(self, input_ids, attention_mask):\n",
        "        outputs = self.model(\n",
        "            input_ids = input_ids,\n",
        "            attention_mask = attention_mask\n",
        "        )\n",
        "        last_hidden_state = outputs[0]\n",
        "        cls_embeddings = last_hidden_state[:, 0]\n",
        "        return cls_embeddings"
      ],
      "metadata": {
        "execution": {
          "iopub.status.busy": "2025-06-17T19:30:36.273484Z",
          "iopub.execute_input": "2025-06-17T19:30:36.27375Z",
          "iopub.status.idle": "2025-06-17T19:30:36.278702Z",
          "shell.execute_reply.started": "2025-06-17T19:30:36.273731Z",
          "shell.execute_reply": "2025-06-17T19:30:36.277849Z"
        },
        "papermill": {
          "duration": 0.029471,
          "end_time": "2024-06-22T12:41:46.83247",
          "exception": false,
          "start_time": "2024-06-22T12:41:46.802999",
          "status": "completed"
        },
        "tags": [],
        "trusted": true,
        "id": "b110df8e"
      },
      "outputs": [],
      "execution_count": null
    },
    {
      "cell_type": "code",
      "source": [
        "class VisionClassifierModel(nn.Module):\n",
        "    def __init__(self):\n",
        "        super(VisionClassifierModel, self).__init__()\n",
        "        self.model_config = ViTConfig.from_pretrained(config.Image_Model)\n",
        "        self.model = ViTModel.from_pretrained(config.Image_Model, config=self.model_config)\n",
        "\n",
        "    def forward(self, pixel_values):\n",
        "        outputs = self.model(pixel_values=pixel_values)\n",
        "        cls_embeddings = outputs.last_hidden_state[:, 0]\n",
        "\n",
        "        return cls_embeddings"
      ],
      "metadata": {
        "execution": {
          "iopub.status.busy": "2025-06-17T19:30:39.09628Z",
          "iopub.execute_input": "2025-06-17T19:30:39.096969Z",
          "iopub.status.idle": "2025-06-17T19:30:39.101255Z",
          "shell.execute_reply.started": "2025-06-17T19:30:39.096944Z",
          "shell.execute_reply": "2025-06-17T19:30:39.100622Z"
        },
        "papermill": {
          "duration": 0.027045,
          "end_time": "2024-06-22T12:41:46.877825",
          "exception": false,
          "start_time": "2024-06-22T12:41:46.85078",
          "status": "completed"
        },
        "tags": [],
        "trusted": true,
        "id": "f7fa9d68"
      },
      "outputs": [],
      "execution_count": null
    },
    {
      "cell_type": "code",
      "source": [
        "for batch in train_loader:\n",
        "    break"
      ],
      "metadata": {
        "execution": {
          "iopub.status.busy": "2025-06-17T19:30:41.862075Z",
          "iopub.execute_input": "2025-06-17T19:30:41.862647Z",
          "iopub.status.idle": "2025-06-17T19:30:42.225553Z",
          "shell.execute_reply.started": "2025-06-17T19:30:41.862623Z",
          "shell.execute_reply": "2025-06-17T19:30:42.224595Z"
        },
        "papermill": {
          "duration": 0.549045,
          "end_time": "2024-06-22T12:41:47.444353",
          "exception": false,
          "start_time": "2024-06-22T12:41:46.895308",
          "status": "completed"
        },
        "tags": [],
        "trusted": true,
        "id": "11b8b465"
      },
      "outputs": [],
      "execution_count": null
    },
    {
      "cell_type": "code",
      "source": [
        "text_model = ClassifierModel()\n",
        "output = text_model(input_ids = batch['input_ids'], attention_mask = batch['attention_mask'])"
      ],
      "metadata": {
        "execution": {
          "iopub.status.busy": "2025-06-17T19:30:44.452104Z",
          "iopub.execute_input": "2025-06-17T19:30:44.452431Z",
          "iopub.status.idle": "2025-06-17T19:30:51.821008Z",
          "shell.execute_reply.started": "2025-06-17T19:30:44.452394Z",
          "shell.execute_reply": "2025-06-17T19:30:51.819987Z"
        },
        "papermill": {
          "duration": 4.118031,
          "end_time": "2024-06-22T12:41:51.581089",
          "exception": false,
          "start_time": "2024-06-22T12:41:47.463058",
          "status": "completed"
        },
        "tags": [],
        "trusted": true,
        "id": "fdcab738"
      },
      "outputs": [],
      "execution_count": null
    },
    {
      "cell_type": "code",
      "source": [
        "output.shape"
      ],
      "metadata": {
        "execution": {
          "iopub.status.busy": "2025-06-17T19:30:58.555077Z",
          "iopub.execute_input": "2025-06-17T19:30:58.55563Z",
          "iopub.status.idle": "2025-06-17T19:30:58.559951Z",
          "shell.execute_reply.started": "2025-06-17T19:30:58.555606Z",
          "shell.execute_reply": "2025-06-17T19:30:58.559301Z"
        },
        "papermill": {
          "duration": 0.028295,
          "end_time": "2024-06-22T12:41:51.676544",
          "exception": false,
          "start_time": "2024-06-22T12:41:51.648249",
          "status": "completed"
        },
        "tags": [],
        "trusted": true,
        "id": "d28215e8"
      },
      "outputs": [],
      "execution_count": null
    },
    {
      "cell_type": "code",
      "source": [
        "image_model = VisionClassifierModel()\n",
        "outputs = image_model(pixel_values=batch['pixel_values'])"
      ],
      "metadata": {
        "execution": {
          "iopub.status.busy": "2025-06-17T19:31:01.871061Z",
          "iopub.execute_input": "2025-06-17T19:31:01.871835Z",
          "iopub.status.idle": "2025-06-17T19:31:04.229143Z",
          "shell.execute_reply.started": "2025-06-17T19:31:01.871807Z",
          "shell.execute_reply": "2025-06-17T19:31:04.228523Z"
        },
        "papermill": {
          "duration": 7.029554,
          "end_time": "2024-06-22T12:41:58.723809",
          "exception": false,
          "start_time": "2024-06-22T12:41:51.694255",
          "status": "completed"
        },
        "tags": [],
        "trusted": true,
        "id": "a5bec149"
      },
      "outputs": [],
      "execution_count": null
    },
    {
      "cell_type": "code",
      "source": [
        "outputs.shape"
      ],
      "metadata": {
        "execution": {
          "iopub.status.busy": "2025-06-17T19:31:07.224203Z",
          "iopub.execute_input": "2025-06-17T19:31:07.224727Z",
          "iopub.status.idle": "2025-06-17T19:31:07.229155Z",
          "shell.execute_reply.started": "2025-06-17T19:31:07.224704Z",
          "shell.execute_reply": "2025-06-17T19:31:07.228484Z"
        },
        "papermill": {
          "duration": 0.028336,
          "end_time": "2024-06-22T12:41:58.772691",
          "exception": false,
          "start_time": "2024-06-22T12:41:58.744355",
          "status": "completed"
        },
        "tags": [],
        "trusted": true,
        "id": "29cbc3cf"
      },
      "outputs": [],
      "execution_count": null
    },
    {
      "cell_type": "code",
      "source": [
        "class FusionModel(nn.Module):\n",
        "    def __init__(self, image_model, classifier_model, num_classes):\n",
        "        super(FusionModel, self).__init__()\n",
        "        self.image_model = image_model\n",
        "        self.classifier_model = classifier_model\n",
        "        # Adjust the size as necessary\n",
        "        self.fusion_layer = nn.Sequential(\n",
        "            nn.Linear(image_model.model_config.hidden_size + classifier_model.model.config.hidden_size, 1024),\n",
        "            nn.ReLU(),\n",
        "            nn.Dropout(0.4),\n",
        "            nn.Linear(1024, num_classes)\n",
        "        )\n",
        "\n",
        "    def forward(self, pixel_values, text_input_ids, text_attention_mask):\n",
        "        image_output = self.image_model(pixel_values)\n",
        "        text_features = self.classifier_model(text_input_ids, text_attention_mask)\n",
        "\n",
        "        combined_features = torch.cat((image_output, text_features), dim=1)\n",
        "        output = self.fusion_layer(combined_features)\n",
        "        return output"
      ],
      "metadata": {
        "execution": {
          "iopub.status.busy": "2025-06-17T19:31:11.797469Z",
          "iopub.execute_input": "2025-06-17T19:31:11.797844Z",
          "iopub.status.idle": "2025-06-17T19:31:11.805459Z",
          "shell.execute_reply.started": "2025-06-17T19:31:11.797814Z",
          "shell.execute_reply": "2025-06-17T19:31:11.804633Z"
        },
        "papermill": {
          "duration": 0.030183,
          "end_time": "2024-06-22T12:41:58.820943",
          "exception": false,
          "start_time": "2024-06-22T12:41:58.79076",
          "status": "completed"
        },
        "tags": [],
        "trusted": true,
        "id": "5db635c8"
      },
      "outputs": [],
      "execution_count": null
    },
    {
      "cell_type": "code",
      "source": [
        "image_model = VisionClassifierModel()\n",
        "classifier_model = ClassifierModel()"
      ],
      "metadata": {
        "execution": {
          "iopub.status.busy": "2025-06-17T19:31:15.485369Z",
          "iopub.execute_input": "2025-06-17T19:31:15.485639Z",
          "iopub.status.idle": "2025-06-17T19:31:16.54498Z",
          "shell.execute_reply.started": "2025-06-17T19:31:15.485618Z",
          "shell.execute_reply": "2025-06-17T19:31:16.544235Z"
        },
        "papermill": {
          "duration": 1.154316,
          "end_time": "2024-06-22T12:41:59.9941",
          "exception": false,
          "start_time": "2024-06-22T12:41:58.839784",
          "status": "completed"
        },
        "tags": [],
        "trusted": true,
        "id": "639e7209"
      },
      "outputs": [],
      "execution_count": null
    },
    {
      "cell_type": "code",
      "source": [
        "pixel_values = batch['pixel_values']\n",
        "text_input_ids = batch['input_ids']\n",
        "text_attention_mask = batch['attention_mask']"
      ],
      "metadata": {
        "execution": {
          "iopub.status.busy": "2025-06-17T19:31:22.611637Z",
          "iopub.execute_input": "2025-06-17T19:31:22.611912Z",
          "iopub.status.idle": "2025-06-17T19:31:22.6155Z",
          "shell.execute_reply.started": "2025-06-17T19:31:22.611893Z",
          "shell.execute_reply": "2025-06-17T19:31:22.61488Z"
        },
        "papermill": {
          "duration": 0.026811,
          "end_time": "2024-06-22T12:42:00.039577",
          "exception": false,
          "start_time": "2024-06-22T12:42:00.012766",
          "status": "completed"
        },
        "tags": [],
        "trusted": true,
        "id": "a012d781"
      },
      "outputs": [],
      "execution_count": null
    },
    {
      "cell_type": "code",
      "source": [
        "target = batch['label']"
      ],
      "metadata": {
        "execution": {
          "iopub.status.busy": "2025-06-17T19:31:26.122629Z",
          "iopub.execute_input": "2025-06-17T19:31:26.122898Z",
          "iopub.status.idle": "2025-06-17T19:31:26.126618Z",
          "shell.execute_reply.started": "2025-06-17T19:31:26.122878Z",
          "shell.execute_reply": "2025-06-17T19:31:26.125978Z"
        },
        "papermill": {
          "duration": 0.026693,
          "end_time": "2024-06-22T12:42:00.084989",
          "exception": false,
          "start_time": "2024-06-22T12:42:00.058296",
          "status": "completed"
        },
        "tags": [],
        "trusted": true,
        "id": "07b28716"
      },
      "outputs": [],
      "execution_count": null
    },
    {
      "cell_type": "code",
      "source": [
        "target"
      ],
      "metadata": {
        "execution": {
          "iopub.status.busy": "2025-06-17T19:31:29.373435Z",
          "iopub.execute_input": "2025-06-17T19:31:29.374006Z",
          "iopub.status.idle": "2025-06-17T19:31:29.385068Z",
          "shell.execute_reply.started": "2025-06-17T19:31:29.373984Z",
          "shell.execute_reply": "2025-06-17T19:31:29.384382Z"
        },
        "papermill": {
          "duration": 0.029468,
          "end_time": "2024-06-22T12:42:00.133135",
          "exception": false,
          "start_time": "2024-06-22T12:42:00.103667",
          "status": "completed"
        },
        "tags": [],
        "trusted": true,
        "id": "f8524553"
      },
      "outputs": [],
      "execution_count": null
    },
    {
      "cell_type": "code",
      "source": [
        "fusion_model = FusionModel(image_model, classifier_model, num_classes=config.NUM_CLASSES)\n",
        "output = fusion_model(pixel_values = pixel_values, text_input_ids = text_input_ids, text_attention_mask = text_attention_mask )"
      ],
      "metadata": {
        "execution": {
          "iopub.status.busy": "2025-06-17T19:31:31.981545Z",
          "iopub.execute_input": "2025-06-17T19:31:31.982262Z",
          "iopub.status.idle": "2025-06-17T19:31:32.831751Z",
          "shell.execute_reply.started": "2025-06-17T19:31:31.982236Z",
          "shell.execute_reply": "2025-06-17T19:31:32.830935Z"
        },
        "papermill": {
          "duration": 0.927421,
          "end_time": "2024-06-22T12:42:01.07919",
          "exception": false,
          "start_time": "2024-06-22T12:42:00.151769",
          "status": "completed"
        },
        "tags": [],
        "trusted": true,
        "id": "1d4645aa"
      },
      "outputs": [],
      "execution_count": null
    },
    {
      "cell_type": "code",
      "source": [
        "output"
      ],
      "metadata": {
        "execution": {
          "iopub.status.busy": "2025-06-17T19:31:36.198471Z",
          "iopub.execute_input": "2025-06-17T19:31:36.198745Z",
          "iopub.status.idle": "2025-06-17T19:31:36.219337Z",
          "shell.execute_reply.started": "2025-06-17T19:31:36.198724Z",
          "shell.execute_reply": "2025-06-17T19:31:36.218737Z"
        },
        "papermill": {
          "duration": 0.038645,
          "end_time": "2024-06-22T12:42:01.13861",
          "exception": false,
          "start_time": "2024-06-22T12:42:01.099965",
          "status": "completed"
        },
        "tags": [],
        "trusted": true,
        "id": "cb042013"
      },
      "outputs": [],
      "execution_count": null
    },
    {
      "cell_type": "code",
      "source": [
        "pred = torch.argmax(output, dim = -1)\n",
        "pred"
      ],
      "metadata": {
        "execution": {
          "iopub.status.busy": "2025-06-17T19:31:38.62665Z",
          "iopub.execute_input": "2025-06-17T19:31:38.626922Z",
          "iopub.status.idle": "2025-06-17T19:31:38.632721Z",
          "shell.execute_reply.started": "2025-06-17T19:31:38.626903Z",
          "shell.execute_reply": "2025-06-17T19:31:38.632091Z"
        },
        "papermill": {
          "duration": 0.030355,
          "end_time": "2024-06-22T12:42:01.188098",
          "exception": false,
          "start_time": "2024-06-22T12:42:01.157743",
          "status": "completed"
        },
        "tags": [],
        "trusted": true,
        "id": "d088b9c6"
      },
      "outputs": [],
      "execution_count": null
    },
    {
      "cell_type": "code",
      "source": [
        "y_true = target.detach().numpy()\n",
        "pred = output.detach().numpy()\n",
        "y_pred = np.argmax(pred, axis = -1)\n",
        "f1 = f1_score(y_true, y_pred, average='weighted')\n",
        "f1"
      ],
      "metadata": {
        "execution": {
          "iopub.status.busy": "2025-06-17T19:31:41.33946Z",
          "iopub.execute_input": "2025-06-17T19:31:41.339742Z",
          "iopub.status.idle": "2025-06-17T19:31:41.348275Z",
          "shell.execute_reply.started": "2025-06-17T19:31:41.339721Z",
          "shell.execute_reply": "2025-06-17T19:31:41.347623Z"
        },
        "papermill": {
          "duration": 0.036419,
          "end_time": "2024-06-22T12:42:01.243927",
          "exception": false,
          "start_time": "2024-06-22T12:42:01.207508",
          "status": "completed"
        },
        "tags": [],
        "trusted": true,
        "id": "45e2b284"
      },
      "outputs": [],
      "execution_count": null
    },
    {
      "cell_type": "code",
      "source": [
        "loss_fct = nn.CrossEntropyLoss()\n",
        "loss = loss_fct(output,target)\n",
        "print(loss)"
      ],
      "metadata": {
        "execution": {
          "iopub.status.busy": "2025-06-17T19:31:44.002657Z",
          "iopub.execute_input": "2025-06-17T19:31:44.002904Z",
          "iopub.status.idle": "2025-06-17T19:31:44.010524Z",
          "shell.execute_reply.started": "2025-06-17T19:31:44.002884Z",
          "shell.execute_reply": "2025-06-17T19:31:44.009751Z"
        },
        "papermill": {
          "duration": 0.032393,
          "end_time": "2024-06-22T12:42:01.295555",
          "exception": false,
          "start_time": "2024-06-22T12:42:01.263162",
          "status": "completed"
        },
        "tags": [],
        "trusted": true,
        "id": "712bf0b5"
      },
      "outputs": [],
      "execution_count": null
    },
    {
      "cell_type": "code",
      "source": [
        "class Engine:\n",
        "    def __init__(self, model, optimizer,scheduler = None):\n",
        "        self.model = model\n",
        "        self.optimizer = optimizer\n",
        "        self.scheduler = scheduler\n",
        "\n",
        "    @staticmethod\n",
        "    def loss_fn(target, pred):\n",
        "        loss_fct = nn.CrossEntropyLoss()\n",
        "        loss = loss_fct(pred,target)\n",
        "        return loss\n",
        "\n",
        "    @staticmethod\n",
        "    def compute_metrics(labels, pred):\n",
        "        y_true = labels.cpu().numpy()\n",
        "        pred = pred.cpu().numpy()\n",
        "        y_pred = np.argmax(pred, axis = -1)\n",
        "        f1 = f1_score(y_true, y_pred, average='weighted')\n",
        "        return f1\n",
        "\n",
        "    def train(self, train_dataloader, scaler,num_training_steps):\n",
        "        self.model.train()\n",
        "        total_training_loss = 0.0\n",
        "        progress_bar = tqdm(range(num_training_steps), desc=\"Training\")\n",
        "        for step, data in enumerate(train_dataloader):\n",
        "            input_ids = data[\"input_ids\"].to(config.DEVICE)\n",
        "            attention_mask = data[\"attention_mask\"].to(config.DEVICE)\n",
        "            pixel_inputs = data['pixel_values'].to(config.DEVICE)\n",
        "            target = data[\"label\"].to(config.DEVICE)\n",
        "            self.optimizer.zero_grad()\n",
        "            with amp.autocast():\n",
        "                pred = self.model(pixel_values = pixel_inputs, text_input_ids = input_ids, text_attention_mask = attention_mask)\n",
        "                loss = self.loss_fn(target, pred)\n",
        "\n",
        "            total_training_loss += loss.item()\n",
        "            scaler.scale(loss).backward()\n",
        "            scaler.step(self.optimizer)\n",
        "            scaler.update()\n",
        "\n",
        "            if self.scheduler:\n",
        "                self.scheduler.step()\n",
        "            progress_bar.update(1)\n",
        "            progress_bar.set_postfix({'loss': f'{loss.item():.4f}'})\n",
        "            if step >= num_training_steps:\n",
        "                break\n",
        "\n",
        "        return total_training_loss / len(train_dataloader)\n",
        "\n",
        "    def evaluate(self, eval_dataloader):\n",
        "        self.model.eval()\n",
        "        val_loss = 0\n",
        "        all_preds = []\n",
        "        all_labels = []\n",
        "        with torch.no_grad():\n",
        "            for data in tqdm(eval_dataloader):\n",
        "                input_ids = data[\"input_ids\"].to(config.DEVICE)\n",
        "                attention_mask = data[\"attention_mask\"].to(config.DEVICE)\n",
        "                pixel_inputs = data['pixel_values'].to(config.DEVICE)\n",
        "                target = data[\"label\"].to(config.DEVICE)\n",
        "                pred = self.model(pixel_values=pixel_inputs, text_input_ids=input_ids, text_attention_mask=attention_mask)\n",
        "                loss = self.loss_fn(target, pred)\n",
        "                val_loss += loss.item()\n",
        "                all_preds.append(pred)\n",
        "                all_labels.append(target)\n",
        "\n",
        "        val_loss /= len(eval_dataloader)\n",
        "        all_preds = torch.cat(all_preds, dim=0)\n",
        "        all_labels = torch.cat(all_labels, dim=0)\n",
        "        score = self.compute_metrics(all_labels, all_preds)\n",
        "        return score, val_loss"
      ],
      "metadata": {
        "execution": {
          "iopub.status.busy": "2025-06-17T19:31:51.005688Z",
          "iopub.execute_input": "2025-06-17T19:31:51.005943Z",
          "iopub.status.idle": "2025-06-17T19:31:51.017143Z",
          "shell.execute_reply.started": "2025-06-17T19:31:51.005927Z",
          "shell.execute_reply": "2025-06-17T19:31:51.016291Z"
        },
        "papermill": {
          "duration": 0.041663,
          "end_time": "2024-06-22T12:42:01.356713",
          "exception": false,
          "start_time": "2024-06-22T12:42:01.31505",
          "status": "completed"
        },
        "tags": [],
        "trusted": true,
        "id": "fb52a8ee"
      },
      "outputs": [],
      "execution_count": null
    },
    {
      "cell_type": "code",
      "source": [
        "history = defaultdict(list)\n",
        "def run_training(save_model = False):\n",
        "    train_dataset = MultimodalDataset(train_df, tokenizer, processor, is_train=True)\n",
        "    test_dataset = MultimodalDataset(test_df, tokenizer, processor, is_train=False)\n",
        "    data_collator = MultimodalDataCollator(tokenizer)\n",
        "\n",
        "    train_loader = DataLoader(train_dataset, batch_size=config.BATCH_SIZE, collate_fn=data_collator, num_workers=4)\n",
        "    val_loader = DataLoader(test_dataset, batch_size=config.BATCH_SIZE, collate_fn=data_collator, num_workers=4)\n",
        "\n",
        "    set_random_seed(config.SEED)\n",
        "    image_model = VisionClassifierModel()\n",
        "    classifier_model = ClassifierModel()\n",
        "    model = FusionModel(image_model, classifier_model, num_classes=config.NUM_CLASSES)\n",
        "    model.to(config.DEVICE)\n",
        "\n",
        "    optimizer = torch.optim.AdamW(model.parameters(), lr= config.LR, weight_decay=0.01)\n",
        "    num_training_steps = config.NUM_EPOCHS * len(train_loader)\n",
        "\n",
        "    scheduler = get_scheduler(\n",
        "    \"linear\",\n",
        "    optimizer=optimizer,\n",
        "    num_warmup_steps=0,\n",
        "    num_training_steps=num_training_steps,\n",
        "    )\n",
        "    eng = Engine(model, optimizer, scheduler)\n",
        "    scaler = amp.GradScaler()\n",
        "    early_stopping_iter = 3\n",
        "    early_stopping_counter = 0\n",
        "    best_score = 0.0\n",
        "    for epoch in range(config.NUM_EPOCHS):\n",
        "        train_loss = eng.train(train_loader,scaler,num_training_steps)\n",
        "        val_score,val_loss = eng.evaluate(val_loader)\n",
        "\n",
        "        print(f\" Epoch: {epoch + 1} | Training_loss: {round(train_loss,4)} | Val_loss: {round(val_loss,4)} | Val_f1: {round(val_score,4)}\")\n",
        "        history['train_loss'].append(train_loss)\n",
        "        history['val_loss'].append(val_loss)\n",
        "        if val_score > best_score:\n",
        "            best_score = val_score\n",
        "            early_stopping_counter = 0\n",
        "\n",
        "            if save_model:\n",
        "                torch.save(model.state_dict(),f\"Multimodal_model.bin\")\n",
        "        else:\n",
        "            early_stopping_counter +=1\n",
        "\n",
        "        if early_stopping_counter > early_stopping_iter:\n",
        "            break\n",
        "\n",
        "    del model\n",
        "    gc.collect()\n",
        "\n",
        "    return round(best_score,5)"
      ],
      "metadata": {
        "execution": {
          "iopub.status.busy": "2025-06-17T19:31:57.845153Z",
          "iopub.execute_input": "2025-06-17T19:31:57.845478Z",
          "iopub.status.idle": "2025-06-17T19:31:57.854442Z",
          "shell.execute_reply.started": "2025-06-17T19:31:57.845457Z",
          "shell.execute_reply": "2025-06-17T19:31:57.853674Z"
        },
        "papermill": {
          "duration": 0.037733,
          "end_time": "2024-06-22T12:42:01.413855",
          "exception": false,
          "start_time": "2024-06-22T12:42:01.376122",
          "status": "completed"
        },
        "tags": [],
        "trusted": true,
        "id": "dee7b5cc"
      },
      "outputs": [],
      "execution_count": null
    },
    {
      "cell_type": "code",
      "source": [
        "score =run_training(save_model = True)\n",
        "print(f\"Best f1 Score: {score}\")"
      ],
      "metadata": {
        "execution": {
          "iopub.status.busy": "2025-06-17T19:32:01.693465Z",
          "iopub.execute_input": "2025-06-17T19:32:01.694301Z",
          "iopub.status.idle": "2025-06-17T19:47:44.223311Z",
          "shell.execute_reply.started": "2025-06-17T19:32:01.694267Z",
          "shell.execute_reply": "2025-06-17T19:47:44.222145Z"
        },
        "papermill": {
          "duration": 3067.009338,
          "end_time": "2024-06-22T13:33:08.442822",
          "exception": false,
          "start_time": "2024-06-22T12:42:01.433484",
          "status": "completed"
        },
        "tags": [],
        "trusted": true,
        "id": "1ff9fa68"
      },
      "outputs": [],
      "execution_count": null
    },
    {
      "cell_type": "markdown",
      "source": [
        "### Evaluation"
      ],
      "metadata": {
        "papermill": {
          "duration": 0.11098,
          "end_time": "2024-06-22T13:33:08.663835",
          "exception": false,
          "start_time": "2024-06-22T13:33:08.552855",
          "status": "completed"
        },
        "tags": [],
        "id": "2c30ad30"
      }
    },
    {
      "cell_type": "code",
      "source": [
        "model = FusionModel(image_model, classifier_model, num_classes=config.NUM_CLASSES)\n",
        "model.to(config.DEVICE)"
      ],
      "metadata": {
        "execution": {
          "iopub.status.busy": "2025-06-17T19:48:19.292554Z",
          "iopub.execute_input": "2025-06-17T19:48:19.293269Z",
          "iopub.status.idle": "2025-06-17T19:48:19.540086Z",
          "shell.execute_reply.started": "2025-06-17T19:48:19.293231Z",
          "shell.execute_reply": "2025-06-17T19:48:19.539403Z"
        },
        "papermill": {
          "duration": 0.360844,
          "end_time": "2024-06-22T13:33:09.134062",
          "exception": false,
          "start_time": "2024-06-22T13:33:08.773218",
          "status": "completed"
        },
        "tags": [],
        "trusted": true,
        "id": "e64ed334"
      },
      "outputs": [],
      "execution_count": null
    },
    {
      "cell_type": "code",
      "source": [
        "model_path = f\"/kaggle/working/Multimodal_model.bin\"\n",
        "model.load_state_dict(torch.load(model_path))"
      ],
      "metadata": {
        "execution": {
          "iopub.status.busy": "2025-06-17T19:48:24.428188Z",
          "iopub.execute_input": "2025-06-17T19:48:24.428435Z",
          "iopub.status.idle": "2025-06-17T19:48:25.038366Z",
          "shell.execute_reply.started": "2025-06-17T19:48:24.428419Z",
          "shell.execute_reply": "2025-06-17T19:48:25.037742Z"
        },
        "papermill": {
          "duration": 0.619712,
          "end_time": "2024-06-22T13:33:09.86518",
          "exception": false,
          "start_time": "2024-06-22T13:33:09.245468",
          "status": "completed"
        },
        "tags": [],
        "trusted": true,
        "id": "90ba4172"
      },
      "outputs": [],
      "execution_count": null
    },
    {
      "cell_type": "code",
      "source": [
        "test_dataset = MultimodalDataset(test_df, tokenizer, processor, is_train=False)\n",
        "data_collator = MultimodalDataCollator(tokenizer)\n",
        "test_loader = DataLoader(test_dataset, batch_size=config.BATCH_SIZE, collate_fn=data_collator, num_workers=4)"
      ],
      "metadata": {
        "execution": {
          "iopub.status.busy": "2025-06-17T19:48:28.116272Z",
          "iopub.execute_input": "2025-06-17T19:48:28.116927Z",
          "iopub.status.idle": "2025-06-17T19:48:28.121307Z",
          "shell.execute_reply.started": "2025-06-17T19:48:28.116903Z",
          "shell.execute_reply": "2025-06-17T19:48:28.120642Z"
        },
        "papermill": {
          "duration": 0.116904,
          "end_time": "2024-06-22T13:33:10.093543",
          "exception": false,
          "start_time": "2024-06-22T13:33:09.976639",
          "status": "completed"
        },
        "tags": [],
        "trusted": true,
        "id": "009d3942"
      },
      "outputs": [],
      "execution_count": null
    },
    {
      "cell_type": "code",
      "source": [
        "model.eval()\n",
        "predictions = []\n",
        "for batch in test_loader:\n",
        "    batch = {k: v.to(config.DEVICE) for k, v in batch.items()}\n",
        "    with torch.no_grad():\n",
        "        outputs = model(pixel_values=batch['pixel_values'], text_input_ids=batch['input_ids'], text_attention_mask=batch['attention_mask'])\n",
        "\n",
        "        # outputs shape is [batch_size, num_classes]\n",
        "        pred = torch.argmax(outputs, dim=-1)\n",
        "        predictions.extend(pred.cpu().numpy().tolist())\n",
        "\n",
        "# Ensure we only keep predictions for actual samples\n",
        "actual_samples = len(test_loader.dataset)\n",
        "predictions = predictions[:actual_samples]\n"
      ],
      "metadata": {
        "execution": {
          "iopub.status.busy": "2025-06-17T19:48:32.634202Z",
          "iopub.execute_input": "2025-06-17T19:48:32.634718Z",
          "iopub.status.idle": "2025-06-17T19:48:40.606655Z",
          "shell.execute_reply.started": "2025-06-17T19:48:32.634699Z",
          "shell.execute_reply": "2025-06-17T19:48:40.605675Z"
        },
        "papermill": {
          "duration": 16.979595,
          "end_time": "2024-06-22T13:33:27.184324",
          "exception": false,
          "start_time": "2024-06-22T13:33:10.204729",
          "status": "completed"
        },
        "tags": [],
        "trusted": true,
        "id": "a85ff61e"
      },
      "outputs": [],
      "execution_count": null
    },
    {
      "cell_type": "code",
      "source": [
        "y_true = test_df.label.values\n",
        "y_pred = predictions"
      ],
      "metadata": {
        "execution": {
          "iopub.status.busy": "2025-06-17T19:48:45.02449Z",
          "iopub.execute_input": "2025-06-17T19:48:45.025071Z",
          "iopub.status.idle": "2025-06-17T19:48:45.028651Z",
          "shell.execute_reply.started": "2025-06-17T19:48:45.025038Z",
          "shell.execute_reply": "2025-06-17T19:48:45.028073Z"
        },
        "papermill": {
          "duration": 0.123083,
          "end_time": "2024-06-22T13:33:27.418201",
          "exception": false,
          "start_time": "2024-06-22T13:33:27.295118",
          "status": "completed"
        },
        "tags": [],
        "trusted": true,
        "id": "1518cec7"
      },
      "outputs": [],
      "execution_count": null
    },
    {
      "cell_type": "code",
      "source": [
        "from sklearn.metrics import classification_report, confusion_matrix, accuracy_score\n",
        "print(confusion_matrix(y_true, y_pred))"
      ],
      "metadata": {
        "execution": {
          "iopub.status.busy": "2025-06-17T19:48:48.897536Z",
          "iopub.execute_input": "2025-06-17T19:48:48.898181Z",
          "iopub.status.idle": "2025-06-17T19:48:48.908541Z",
          "shell.execute_reply.started": "2025-06-17T19:48:48.898158Z",
          "shell.execute_reply": "2025-06-17T19:48:48.907939Z"
        },
        "papermill": {
          "duration": 0.129715,
          "end_time": "2024-06-22T13:33:27.663037",
          "exception": false,
          "start_time": "2024-06-22T13:33:27.533322",
          "status": "completed"
        },
        "tags": [],
        "trusted": true,
        "id": "1acf99de"
      },
      "outputs": [],
      "execution_count": null
    },
    {
      "cell_type": "code",
      "source": [
        "from sklearn.metrics import classification_report, confusion_matrix, f1_score, accuracy_score\n",
        "print(classification_report(y_true, y_pred))\n",
        "print(confusion_matrix(y_true, y_pred))\n",
        "print(f1_score(y_true, y_pred, average='weighted'))\n",
        "print(accuracy_score(y_true, y_pred))"
      ],
      "metadata": {
        "execution": {
          "iopub.status.busy": "2025-06-17T19:48:53.65151Z",
          "iopub.execute_input": "2025-06-17T19:48:53.65175Z",
          "iopub.status.idle": "2025-06-17T19:48:53.666921Z",
          "shell.execute_reply.started": "2025-06-17T19:48:53.651733Z",
          "shell.execute_reply": "2025-06-17T19:48:53.666222Z"
        },
        "papermill": {
          "duration": 0.142315,
          "end_time": "2024-06-22T13:33:27.920103",
          "exception": false,
          "start_time": "2024-06-22T13:33:27.777788",
          "status": "completed"
        },
        "tags": [],
        "trusted": true,
        "id": "6f8e7428"
      },
      "outputs": [],
      "execution_count": null
    },
    {
      "cell_type": "code",
      "source": [
        "from mlxtend.plotting import plot_confusion_matrix\n",
        "from torchmetrics import ConfusionMatrix\n",
        "y_pred = torch.tensor(y_pred)\n",
        "y_true = torch.tensor(y_true)\n",
        "\n",
        "cmat = ConfusionMatrix(task=\"multiclass\", num_classes=4)\n",
        "confusion_matrix = cmat(y_pred, y_true)\n",
        "\n",
        "fig, ax = plot_confusion_matrix(conf_mat=confusion_matrix.cpu().numpy(),\n",
        "                                class_names=[0,1,2,3],\n",
        "                                show_normed=True,\n",
        "                                colorbar=True)\n",
        "\n",
        "# Rotate the x-axis labels\n",
        "plt.xticks(rotation=45, ha=\"right\", rotation_mode=\"anchor\")\n",
        "\n",
        "# Show the plot\n",
        "plt.show()"
      ],
      "metadata": {
        "execution": {
          "iopub.status.busy": "2025-06-17T19:49:28.054579Z",
          "iopub.execute_input": "2025-06-17T19:49:28.055046Z",
          "iopub.status.idle": "2025-06-17T19:49:29.264749Z",
          "shell.execute_reply.started": "2025-06-17T19:49:28.055022Z",
          "shell.execute_reply": "2025-06-17T19:49:29.264071Z"
        },
        "papermill": {
          "duration": 2.828374,
          "end_time": "2024-06-22T13:33:30.860058",
          "exception": false,
          "start_time": "2024-06-22T13:33:28.031684",
          "status": "completed"
        },
        "tags": [],
        "trusted": true,
        "id": "ddab7bf4"
      },
      "outputs": [],
      "execution_count": null
    }
  ]
}