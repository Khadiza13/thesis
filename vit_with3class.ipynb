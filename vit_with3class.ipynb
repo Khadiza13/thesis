{
  "metadata": {
    "kernelspec": {
      "display_name": "Python 3",
      "language": "python",
      "name": "python3"
    },
    "language_info": {
      "name": "python",
      "version": "3.11.11",
      "mimetype": "text/x-python",
      "codemirror_mode": {
        "name": "ipython",
        "version": 3
      },
      "pygments_lexer": "ipython3",
      "nbconvert_exporter": "python",
      "file_extension": ".py"
    },
    "kaggle": {
      "accelerator": "gpu",
      "dataSources": [
        {
          "sourceId": 12231755,
          "sourceType": "datasetVersion",
          "datasetId": 7706938
        }
      ],
      "dockerImageVersionId": 31041,
      "isInternetEnabled": true,
      "language": "python",
      "sourceType": "notebook",
      "isGpuEnabled": true
    },
    "papermill": {
      "default_parameters": {},
      "duration": 3168.036222,
      "end_time": "2024-06-22T13:33:34.517314",
      "environment_variables": {},
      "exception": null,
      "input_path": "__notebook__.ipynb",
      "output_path": "__notebook__.ipynb",
      "parameters": {},
      "start_time": "2024-06-22T12:40:46.481092",
      "version": "2.5.0"
    },
    "colab": {
      "provenance": [],
      "name": "vit_with3class"
    }
  },
  "nbformat_minor": 0,
  "nbformat": 4,
  "cells": [
    {
      "source": [
        "# IMPORTANT: SOME KAGGLE DATA SOURCES ARE PRIVATE\n",
        "# RUN THIS CELL IN ORDER TO IMPORT YOUR KAGGLE DATA SOURCES.\n",
        "import kagglehub\n",
        "kagglehub.login()\n"
      ],
      "metadata": {
        "id": "XkWq5pWf5zTk"
      },
      "cell_type": "code",
      "outputs": [],
      "execution_count": null
    },
    {
      "source": [
        "# IMPORTANT: RUN THIS CELL IN ORDER TO IMPORT YOUR KAGGLE DATA SOURCES,\n",
        "# THEN FEEL FREE TO DELETE THIS CELL.\n",
        "# NOTE: THIS NOTEBOOK ENVIRONMENT DIFFERS FROM KAGGLE'S PYTHON\n",
        "# ENVIRONMENT SO THERE MAY BE MISSING LIBRARIES USED BY YOUR\n",
        "# NOTEBOOK.\n",
        "\n",
        "khadiza13_ds_with_three_path = kagglehub.dataset_download('khadiza13/ds-with-three')\n",
        "\n",
        "print('Data source import complete.')\n"
      ],
      "metadata": {
        "id": "A-KbSog85zTo"
      },
      "cell_type": "code",
      "outputs": [],
      "execution_count": null
    },
    {
      "cell_type": "code",
      "source": [
        "import os\n",
        "# Disable tokenizers parallelism\n",
        "os.environ['TOKENIZERS_PARALLELISM'] = 'false'"
      ],
      "metadata": {
        "_cell_guid": "b1076dfc-b9ad-4769-8c92-a6c4dae69d19",
        "_uuid": "8f2839f25d086af736a60e9eeb907d3b93b6e0e5",
        "execution": {
          "iopub.status.busy": "2025-06-20T19:31:53.339027Z",
          "iopub.execute_input": "2025-06-20T19:31:53.339344Z",
          "iopub.status.idle": "2025-06-20T19:31:53.345521Z",
          "shell.execute_reply.started": "2025-06-20T19:31:53.339326Z",
          "shell.execute_reply": "2025-06-20T19:31:53.344755Z"
        },
        "papermill": {
          "duration": 0.030952,
          "end_time": "2024-06-22T12:40:49.614166",
          "exception": false,
          "start_time": "2024-06-22T12:40:49.583214",
          "status": "completed"
        },
        "tags": [],
        "trusted": true,
        "id": "ad42f13b"
      },
      "outputs": [],
      "execution_count": null
    },
    {
      "cell_type": "code",
      "source": [
        "!pip install datasets evaluate transformers[sentencepiece]\n",
        "!pip install -q transformers datasets"
      ],
      "metadata": {
        "execution": {
          "iopub.status.busy": "2025-06-20T19:31:59.590936Z",
          "iopub.execute_input": "2025-06-20T19:31:59.591254Z",
          "iopub.status.idle": "2025-06-20T19:32:07.490557Z",
          "shell.execute_reply.started": "2025-06-20T19:31:59.591233Z",
          "shell.execute_reply": "2025-06-20T19:32:07.489456Z"
        },
        "papermill": {
          "duration": 30.36174,
          "end_time": "2024-06-22T12:41:19.990154",
          "exception": false,
          "start_time": "2024-06-22T12:40:49.628414",
          "status": "completed"
        },
        "tags": [],
        "trusted": true,
        "id": "ed5e0ebc",
        "outputId": "2bb7f687-b445-448c-bb21-df0abbc9b160"
      },
      "outputs": [
        {
          "name": "stdout",
          "text": "Requirement already satisfied: datasets in /usr/local/lib/python3.11/dist-packages (3.6.0)\nCollecting evaluate\n  Downloading evaluate-0.4.4-py3-none-any.whl.metadata (9.5 kB)\nRequirement already satisfied: transformers[sentencepiece] in /usr/local/lib/python3.11/dist-packages (4.51.3)\nRequirement already satisfied: filelock in /usr/local/lib/python3.11/dist-packages (from datasets) (3.18.0)\nRequirement already satisfied: numpy>=1.17 in /usr/local/lib/python3.11/dist-packages (from datasets) (1.26.4)\nRequirement already satisfied: pyarrow>=15.0.0 in /usr/local/lib/python3.11/dist-packages (from datasets) (19.0.1)\nRequirement already satisfied: dill<0.3.9,>=0.3.0 in /usr/local/lib/python3.11/dist-packages (from datasets) (0.3.8)\nRequirement already satisfied: pandas in /usr/local/lib/python3.11/dist-packages (from datasets) (2.2.3)\nRequirement already satisfied: requests>=2.32.2 in /usr/local/lib/python3.11/dist-packages (from datasets) (2.32.3)\nRequirement already satisfied: tqdm>=4.66.3 in /usr/local/lib/python3.11/dist-packages (from datasets) (4.67.1)\nRequirement already satisfied: xxhash in /usr/local/lib/python3.11/dist-packages (from datasets) (3.5.0)\nRequirement already satisfied: multiprocess<0.70.17 in /usr/local/lib/python3.11/dist-packages (from datasets) (0.70.16)\nCollecting fsspec<=2025.3.0,>=2023.1.0 (from fsspec[http]<=2025.3.0,>=2023.1.0->datasets)\n  Downloading fsspec-2025.3.0-py3-none-any.whl.metadata (11 kB)\nRequirement already satisfied: huggingface-hub>=0.24.0 in /usr/local/lib/python3.11/dist-packages (from datasets) (0.31.1)\nRequirement already satisfied: packaging in /usr/local/lib/python3.11/dist-packages (from datasets) (25.0)\nRequirement already satisfied: pyyaml>=5.1 in /usr/local/lib/python3.11/dist-packages (from datasets) (6.0.2)\nRequirement already satisfied: regex!=2019.12.17 in /usr/local/lib/python3.11/dist-packages (from transformers[sentencepiece]) (2024.11.6)\nRequirement already satisfied: tokenizers<0.22,>=0.21 in /usr/local/lib/python3.11/dist-packages (from transformers[sentencepiece]) (0.21.1)\nRequirement already satisfied: safetensors>=0.4.3 in /usr/local/lib/python3.11/dist-packages (from transformers[sentencepiece]) (0.5.3)\nRequirement already satisfied: sentencepiece!=0.1.92,>=0.1.91 in /usr/local/lib/python3.11/dist-packages (from transformers[sentencepiece]) (0.2.0)\nRequirement already satisfied: protobuf in /usr/local/lib/python3.11/dist-packages (from transformers[sentencepiece]) (3.20.3)\nRequirement already satisfied: aiohttp!=4.0.0a0,!=4.0.0a1 in /usr/local/lib/python3.11/dist-packages (from fsspec[http]<=2025.3.0,>=2023.1.0->datasets) (3.11.18)\nRequirement already satisfied: typing-extensions>=3.7.4.3 in /usr/local/lib/python3.11/dist-packages (from huggingface-hub>=0.24.0->datasets) (4.13.2)\nRequirement already satisfied: hf-xet<2.0.0,>=1.1.0 in /usr/local/lib/python3.11/dist-packages (from huggingface-hub>=0.24.0->datasets) (1.1.0)\nRequirement already satisfied: mkl_fft in /usr/local/lib/python3.11/dist-packages (from numpy>=1.17->datasets) (1.3.8)\nRequirement already satisfied: mkl_random in /usr/local/lib/python3.11/dist-packages (from numpy>=1.17->datasets) (1.2.4)\nRequirement already satisfied: mkl_umath in /usr/local/lib/python3.11/dist-packages (from numpy>=1.17->datasets) (0.1.1)\nRequirement already satisfied: mkl in /usr/local/lib/python3.11/dist-packages (from numpy>=1.17->datasets) (2025.1.0)\nRequirement already satisfied: tbb4py in /usr/local/lib/python3.11/dist-packages (from numpy>=1.17->datasets) (2022.1.0)\nRequirement already satisfied: mkl-service in /usr/local/lib/python3.11/dist-packages (from numpy>=1.17->datasets) (2.4.1)\nRequirement already satisfied: charset-normalizer<4,>=2 in /usr/local/lib/python3.11/dist-packages (from requests>=2.32.2->datasets) (3.4.2)\nRequirement already satisfied: idna<4,>=2.5 in /usr/local/lib/python3.11/dist-packages (from requests>=2.32.2->datasets) (3.10)\nRequirement already satisfied: urllib3<3,>=1.21.1 in /usr/local/lib/python3.11/dist-packages (from requests>=2.32.2->datasets) (2.4.0)\nRequirement already satisfied: certifi>=2017.4.17 in /usr/local/lib/python3.11/dist-packages (from requests>=2.32.2->datasets) (2025.4.26)\nRequirement already satisfied: python-dateutil>=2.8.2 in /usr/local/lib/python3.11/dist-packages (from pandas->datasets) (2.9.0.post0)\nRequirement already satisfied: pytz>=2020.1 in /usr/local/lib/python3.11/dist-packages (from pandas->datasets) (2025.2)\nRequirement already satisfied: tzdata>=2022.7 in /usr/local/lib/python3.11/dist-packages (from pandas->datasets) (2025.2)\nRequirement already satisfied: aiohappyeyeballs>=2.3.0 in /usr/local/lib/python3.11/dist-packages (from aiohttp!=4.0.0a0,!=4.0.0a1->fsspec[http]<=2025.3.0,>=2023.1.0->datasets) (2.6.1)\nRequirement already satisfied: aiosignal>=1.1.2 in /usr/local/lib/python3.11/dist-packages (from aiohttp!=4.0.0a0,!=4.0.0a1->fsspec[http]<=2025.3.0,>=2023.1.0->datasets) (1.3.2)\nRequirement already satisfied: attrs>=17.3.0 in /usr/local/lib/python3.11/dist-packages (from aiohttp!=4.0.0a0,!=4.0.0a1->fsspec[http]<=2025.3.0,>=2023.1.0->datasets) (25.3.0)\nRequirement already satisfied: frozenlist>=1.1.1 in /usr/local/lib/python3.11/dist-packages (from aiohttp!=4.0.0a0,!=4.0.0a1->fsspec[http]<=2025.3.0,>=2023.1.0->datasets) (1.6.0)\nRequirement already satisfied: multidict<7.0,>=4.5 in /usr/local/lib/python3.11/dist-packages (from aiohttp!=4.0.0a0,!=4.0.0a1->fsspec[http]<=2025.3.0,>=2023.1.0->datasets) (6.4.3)\nRequirement already satisfied: propcache>=0.2.0 in /usr/local/lib/python3.11/dist-packages (from aiohttp!=4.0.0a0,!=4.0.0a1->fsspec[http]<=2025.3.0,>=2023.1.0->datasets) (0.3.1)\nRequirement already satisfied: yarl<2.0,>=1.17.0 in /usr/local/lib/python3.11/dist-packages (from aiohttp!=4.0.0a0,!=4.0.0a1->fsspec[http]<=2025.3.0,>=2023.1.0->datasets) (1.20.0)\nRequirement already satisfied: six>=1.5 in /usr/local/lib/python3.11/dist-packages (from python-dateutil>=2.8.2->pandas->datasets) (1.17.0)\nRequirement already satisfied: intel-openmp<2026,>=2024 in /usr/local/lib/python3.11/dist-packages (from mkl->numpy>=1.17->datasets) (2024.2.0)\nRequirement already satisfied: tbb==2022.* in /usr/local/lib/python3.11/dist-packages (from mkl->numpy>=1.17->datasets) (2022.1.0)\nRequirement already satisfied: tcmlib==1.* in /usr/local/lib/python3.11/dist-packages (from tbb==2022.*->mkl->numpy>=1.17->datasets) (1.3.0)\nRequirement already satisfied: intel-cmplr-lib-rt in /usr/local/lib/python3.11/dist-packages (from mkl_umath->numpy>=1.17->datasets) (2024.2.0)\nRequirement already satisfied: intel-cmplr-lib-ur==2024.2.0 in /usr/local/lib/python3.11/dist-packages (from intel-openmp<2026,>=2024->mkl->numpy>=1.17->datasets) (2024.2.0)\nDownloading evaluate-0.4.4-py3-none-any.whl (84 kB)\n\u001b[2K   \u001b[90m━━━━━━━━━━━━━━━━━━━━━━━━━━━━━━━━━━━━━━━━\u001b[0m \u001b[32m84.1/84.1 kB\u001b[0m \u001b[31m4.1 MB/s\u001b[0m eta \u001b[36m0:00:00\u001b[0m\n\u001b[?25hDownloading fsspec-2025.3.0-py3-none-any.whl (193 kB)\n\u001b[2K   \u001b[90m━━━━━━━━━━━━━━━━━━━━━━━━━━━━━━━━━━━━━━━━\u001b[0m \u001b[32m193.6/193.6 kB\u001b[0m \u001b[31m9.7 MB/s\u001b[0m eta \u001b[36m0:00:00\u001b[0m\n\u001b[?25hInstalling collected packages: fsspec, evaluate\n  Attempting uninstall: fsspec\n    Found existing installation: fsspec 2025.3.2\n    Uninstalling fsspec-2025.3.2:\n      Successfully uninstalled fsspec-2025.3.2\n\u001b[31mERROR: pip's dependency resolver does not currently take into account all the packages that are installed. This behaviour is the source of the following dependency conflicts.\ncesium 0.12.4 requires numpy<3.0,>=2.0, but you have numpy 1.26.4 which is incompatible.\nbigframes 1.42.0 requires rich<14,>=12.4.4, but you have rich 14.0.0 which is incompatible.\ntorch 2.6.0+cu124 requires nvidia-cublas-cu12==12.4.5.8; platform_system == \"Linux\" and platform_machine == \"x86_64\", but you have nvidia-cublas-cu12 12.9.0.13 which is incompatible.\ntorch 2.6.0+cu124 requires nvidia-cudnn-cu12==9.1.0.70; platform_system == \"Linux\" and platform_machine == \"x86_64\", but you have nvidia-cudnn-cu12 9.3.0.75 which is incompatible.\ntorch 2.6.0+cu124 requires nvidia-cufft-cu12==11.2.1.3; platform_system == \"Linux\" and platform_machine == \"x86_64\", but you have nvidia-cufft-cu12 11.4.0.6 which is incompatible.\ntorch 2.6.0+cu124 requires nvidia-curand-cu12==10.3.5.147; platform_system == \"Linux\" and platform_machine == \"x86_64\", but you have nvidia-curand-cu12 10.3.10.19 which is incompatible.\ntorch 2.6.0+cu124 requires nvidia-cusolver-cu12==11.6.1.9; platform_system == \"Linux\" and platform_machine == \"x86_64\", but you have nvidia-cusolver-cu12 11.7.4.40 which is incompatible.\ntorch 2.6.0+cu124 requires nvidia-cusparse-cu12==12.3.1.170; platform_system == \"Linux\" and platform_machine == \"x86_64\", but you have nvidia-cusparse-cu12 12.5.9.5 which is incompatible.\ntorch 2.6.0+cu124 requires nvidia-nvjitlink-cu12==12.4.127; platform_system == \"Linux\" and platform_machine == \"x86_64\", but you have nvidia-nvjitlink-cu12 12.9.41 which is incompatible.\ngcsfs 2025.3.2 requires fsspec==2025.3.2, but you have fsspec 2025.3.0 which is incompatible.\u001b[0m\u001b[31m\n\u001b[0mSuccessfully installed evaluate-0.4.4 fsspec-2025.3.0\n",
          "output_type": "stream"
        }
      ],
      "execution_count": null
    },
    {
      "cell_type": "code",
      "source": [
        "import numpy as np\n",
        "import random\n",
        "import os\n",
        "import matplotlib.pyplot as plt\n",
        "import seaborn as sns\n",
        "import pandas as pd\n",
        "from transformers import AutoTokenizer, DataCollatorWithPadding, AutoModel,  AutoConfig\n",
        "from collections import defaultdict\n",
        "import torch\n",
        "from transformers import ViTImageProcessor,ViTModel, ViTConfig\n",
        "import warnings\n",
        "warnings.filterwarnings('ignore')\n",
        "from transformers import get_scheduler\n",
        "import torch.nn as nn\n",
        "from sklearn.model_selection import train_test_split\n",
        "from torch.utils.data import Dataset,IterableDataset,DataLoader\n",
        "from tqdm.auto import tqdm\n",
        "from collections import defaultdict\n",
        "from torch.optim import AdamW\n",
        "import torchvision\n",
        "from torchvision.transforms import Compose, RandomResizedCrop, RandomHorizontalFlip, Resize, CenterCrop, ToTensor, Normalize\n",
        "from PIL import Image\n",
        "from datasets import load_dataset\n",
        "from torch.cuda import amp\n",
        "from sklearn.metrics import classification_report, confusion_matrix, accuracy_score,f1_score\n",
        "import gc\n",
        "gc.enable()"
      ],
      "metadata": {
        "execution": {
          "iopub.status.busy": "2025-06-20T19:32:10.458428Z",
          "iopub.execute_input": "2025-06-20T19:32:10.458747Z",
          "iopub.status.idle": "2025-06-20T19:32:36.961444Z",
          "shell.execute_reply.started": "2025-06-20T19:32:10.45872Z",
          "shell.execute_reply": "2025-06-20T19:32:36.960859Z"
        },
        "papermill": {
          "duration": 21.632674,
          "end_time": "2024-06-22T12:41:41.637837",
          "exception": false,
          "start_time": "2024-06-22T12:41:20.005163",
          "status": "completed"
        },
        "tags": [],
        "trusted": true,
        "id": "c6982366",
        "outputId": "3632a73a-8468-4e16-85ce-008737c65906"
      },
      "outputs": [
        {
          "name": "stderr",
          "text": "2025-06-20 19:32:23.791528: E external/local_xla/xla/stream_executor/cuda/cuda_fft.cc:477] Unable to register cuFFT factory: Attempting to register factory for plugin cuFFT when one has already been registered\nWARNING: All log messages before absl::InitializeLog() is called are written to STDERR\nE0000 00:00:1750447943.980484      35 cuda_dnn.cc:8310] Unable to register cuDNN factory: Attempting to register factory for plugin cuDNN when one has already been registered\nE0000 00:00:1750447944.031466      35 cuda_blas.cc:1418] Unable to register cuBLAS factory: Attempting to register factory for plugin cuBLAS when one has already been registered\n",
          "output_type": "stream"
        }
      ],
      "execution_count": null
    },
    {
      "cell_type": "code",
      "source": [
        "def set_random_seed(random_seed):\n",
        "    random.seed(random_seed)\n",
        "    np.random.seed(random_seed)\n",
        "    os.environ[\"PYTHONHASHSEED\"] = str(random_seed)\n",
        "\n",
        "    torch.manual_seed(random_seed)\n",
        "    torch.cuda.manual_seed(random_seed)\n",
        "    torch.cuda.manual_seed_all(random_seed)\n",
        "\n",
        "    torch.backends.cudnn.deterministic = True"
      ],
      "metadata": {
        "execution": {
          "iopub.status.busy": "2025-06-20T19:32:40.718349Z",
          "iopub.execute_input": "2025-06-20T19:32:40.718883Z",
          "iopub.status.idle": "2025-06-20T19:32:40.723015Z",
          "shell.execute_reply.started": "2025-06-20T19:32:40.718863Z",
          "shell.execute_reply": "2025-06-20T19:32:40.722398Z"
        },
        "papermill": {
          "duration": 0.027268,
          "end_time": "2024-06-22T12:41:41.680905",
          "exception": false,
          "start_time": "2024-06-22T12:41:41.653637",
          "status": "completed"
        },
        "tags": [],
        "trusted": true,
        "id": "22583977"
      },
      "outputs": [],
      "execution_count": null
    },
    {
      "cell_type": "code",
      "source": [
        "df = pd.read_csv(\"/kaggle/input/ds-with-three/3 class/dataset_with_3class - Sheet1.csv\")\n",
        "df.head()"
      ],
      "metadata": {
        "execution": {
          "iopub.status.busy": "2025-06-20T19:32:54.915403Z",
          "iopub.execute_input": "2025-06-20T19:32:54.915691Z",
          "iopub.status.idle": "2025-06-20T19:32:54.982644Z",
          "shell.execute_reply.started": "2025-06-20T19:32:54.915669Z",
          "shell.execute_reply": "2025-06-20T19:32:54.981992Z"
        },
        "papermill": {
          "duration": 0.129456,
          "end_time": "2024-06-22T12:41:41.825897",
          "exception": false,
          "start_time": "2024-06-22T12:41:41.696441",
          "status": "completed"
        },
        "tags": [],
        "trusted": true,
        "id": "c77ee2b5",
        "outputId": "8416fcf9-d79a-49c5-c343-cd1cfccd891d"
      },
      "outputs": [
        {
          "execution_count": 5,
          "output_type": "execute_result",
          "data": {
            "text/plain": "           image                                               text  \\\n0  KAM (100).jpg  পরীক্ষার আগের রাতে বারোটার সময় ঘুমে চোখ বন্ধ হ...   \n1  KAM (102).png  আমি ক্যানো সেঞ্চুরি করিনি জানো? তোমরা দেখলেই আ...   \n2  KAM (103).png             চ্যাম্পিয়ন এর পর লীগ কেন? কালকে হরতাল!   \n3  KAM (104).jpg  দেশের শিক্ষামন্ত্রী যদি দেয় এইরকম পেরা কেমনে ক...   \n4  KAM (106).png  টিচার আর নাপিত এর মাঝে অনেক টা মিল রয়েছে দুজন...   \n\n          label  \n0  non-misogyny  \n1  non-misogyny  \n2  non-misogyny  \n3  non-misogyny  \n4  non-misogyny  ",
            "text/html": "<div>\n<style scoped>\n    .dataframe tbody tr th:only-of-type {\n        vertical-align: middle;\n    }\n\n    .dataframe tbody tr th {\n        vertical-align: top;\n    }\n\n    .dataframe thead th {\n        text-align: right;\n    }\n</style>\n<table border=\"1\" class=\"dataframe\">\n  <thead>\n    <tr style=\"text-align: right;\">\n      <th></th>\n      <th>image</th>\n      <th>text</th>\n      <th>label</th>\n    </tr>\n  </thead>\n  <tbody>\n    <tr>\n      <th>0</th>\n      <td>KAM (100).jpg</td>\n      <td>পরীক্ষার আগের রাতে বারোটার সময় ঘুমে চোখ বন্ধ হ...</td>\n      <td>non-misogyny</td>\n    </tr>\n    <tr>\n      <th>1</th>\n      <td>KAM (102).png</td>\n      <td>আমি ক্যানো সেঞ্চুরি করিনি জানো? তোমরা দেখলেই আ...</td>\n      <td>non-misogyny</td>\n    </tr>\n    <tr>\n      <th>2</th>\n      <td>KAM (103).png</td>\n      <td>চ্যাম্পিয়ন এর পর লীগ কেন? কালকে হরতাল!</td>\n      <td>non-misogyny</td>\n    </tr>\n    <tr>\n      <th>3</th>\n      <td>KAM (104).jpg</td>\n      <td>দেশের শিক্ষামন্ত্রী যদি দেয় এইরকম পেরা কেমনে ক...</td>\n      <td>non-misogyny</td>\n    </tr>\n    <tr>\n      <th>4</th>\n      <td>KAM (106).png</td>\n      <td>টিচার আর নাপিত এর মাঝে অনেক টা মিল রয়েছে দুজন...</td>\n      <td>non-misogyny</td>\n    </tr>\n  </tbody>\n</table>\n</div>"
          },
          "metadata": {}
        }
      ],
      "execution_count": null
    },
    {
      "cell_type": "code",
      "source": [
        "# Check the shape of the dataset\n",
        "print(\"Shape of the dataset:\", df.shape)"
      ],
      "metadata": {
        "trusted": true,
        "execution": {
          "iopub.status.busy": "2025-06-20T19:33:02.234345Z",
          "iopub.execute_input": "2025-06-20T19:33:02.234634Z",
          "iopub.status.idle": "2025-06-20T19:33:02.23872Z",
          "shell.execute_reply.started": "2025-06-20T19:33:02.234615Z",
          "shell.execute_reply": "2025-06-20T19:33:02.238019Z"
        },
        "id": "bdacbd1b-cd06-44cd-a0e8-0010088a242b",
        "outputId": "140c8375-0389-4f48-cc52-e38d48600d65"
      },
      "outputs": [
        {
          "name": "stdout",
          "text": "Shape of the dataset: (3116, 3)\n",
          "output_type": "stream"
        }
      ],
      "execution_count": null
    },
    {
      "cell_type": "code",
      "source": [
        "# Check for null values\n",
        "print(\"\\nNull values in the dataset:\")\n",
        "print(df.isnull().sum())\n",
        "\n",
        "# Check for duplicate values\n",
        "print(\"\\nDuplicate values in the dataset:\")\n",
        "print(df.duplicated().sum())"
      ],
      "metadata": {
        "trusted": true,
        "execution": {
          "iopub.status.busy": "2025-06-20T19:33:04.936734Z",
          "iopub.execute_input": "2025-06-20T19:33:04.937425Z",
          "iopub.status.idle": "2025-06-20T19:33:04.953541Z",
          "shell.execute_reply.started": "2025-06-20T19:33:04.937387Z",
          "shell.execute_reply": "2025-06-20T19:33:04.952778Z"
        },
        "id": "f16ebfd0-c141-4547-a3be-183a7d27cc5e",
        "outputId": "15c91559-9897-4200-a371-a346108ed304"
      },
      "outputs": [
        {
          "name": "stdout",
          "text": "\nNull values in the dataset:\nimage    0\ntext     0\nlabel    0\ndtype: int64\n\nDuplicate values in the dataset:\n0\n",
          "output_type": "stream"
        }
      ],
      "execution_count": null
    },
    {
      "cell_type": "code",
      "source": [
        "# Checking class distribution (count of each class)\n",
        "class_distribution = df['label'].value_counts()\n",
        "print(\"\\nClass distribution:\")\n",
        "print(class_distribution)\n",
        "\n",
        "# Display class-wise shape (how many samples for each class)\n",
        "for class_name in class_distribution.index:\n",
        "    class_data = df[df['label'] == class_name]\n",
        "    print(f\"\\nClass '{class_name}' contains {class_data.shape[0]} samples.\")"
      ],
      "metadata": {
        "trusted": true,
        "execution": {
          "iopub.status.busy": "2025-06-20T19:33:18.643641Z",
          "iopub.execute_input": "2025-06-20T19:33:18.64418Z",
          "iopub.status.idle": "2025-06-20T19:33:18.654273Z",
          "shell.execute_reply.started": "2025-06-20T19:33:18.644158Z",
          "shell.execute_reply": "2025-06-20T19:33:18.653554Z"
        },
        "id": "94c91eef-ad23-4c83-9101-0a6e0b4769de",
        "outputId": "193704bf-d23e-40d6-fd71-958db9520a35"
      },
      "outputs": [
        {
          "name": "stdout",
          "text": "\nClass distribution:\nlabel\nstereotype & objectification    1596\nnon-misogyny                     856\nviolence or abuse                664\nName: count, dtype: int64\n\nClass 'stereotype & objectification' contains 1596 samples.\n\nClass 'non-misogyny' contains 856 samples.\n\nClass 'violence or abuse' contains 664 samples.\n",
          "output_type": "stream"
        }
      ],
      "execution_count": null
    },
    {
      "cell_type": "code",
      "source": [
        "print(df.columns.tolist())\n"
      ],
      "metadata": {
        "trusted": true,
        "execution": {
          "iopub.status.busy": "2025-06-20T19:33:30.047513Z",
          "iopub.execute_input": "2025-06-20T19:33:30.048164Z",
          "iopub.status.idle": "2025-06-20T19:33:30.052201Z",
          "shell.execute_reply.started": "2025-06-20T19:33:30.048143Z",
          "shell.execute_reply": "2025-06-20T19:33:30.051325Z"
        },
        "id": "74a85429-df80-4598-870a-293f9ce54944",
        "outputId": "667f3587-5909-44f7-fe01-adb80a39ed13"
      },
      "outputs": [
        {
          "name": "stdout",
          "text": "['image', 'text', 'label']\n",
          "output_type": "stream"
        }
      ],
      "execution_count": null
    },
    {
      "cell_type": "code",
      "source": [
        "df.columns = ['image_name', 'Text', 'label']\n",
        "df.head()"
      ],
      "metadata": {
        "trusted": true,
        "execution": {
          "iopub.status.busy": "2025-06-20T19:33:32.320742Z",
          "iopub.execute_input": "2025-06-20T19:33:32.321266Z",
          "iopub.status.idle": "2025-06-20T19:33:32.329617Z",
          "shell.execute_reply.started": "2025-06-20T19:33:32.321237Z",
          "shell.execute_reply": "2025-06-20T19:33:32.328863Z"
        },
        "id": "7e3a776e-4dcf-41ce-a2b4-e3b73774ac10",
        "outputId": "ec336df1-cd21-46f6-9b8d-9e1c58106ef9"
      },
      "outputs": [
        {
          "execution_count": 11,
          "output_type": "execute_result",
          "data": {
            "text/plain": "      image_name                                               Text  \\\n0  KAM (100).jpg  পরীক্ষার আগের রাতে বারোটার সময় ঘুমে চোখ বন্ধ হ...   \n1  KAM (102).png  আমি ক্যানো সেঞ্চুরি করিনি জানো? তোমরা দেখলেই আ...   \n2  KAM (103).png             চ্যাম্পিয়ন এর পর লীগ কেন? কালকে হরতাল!   \n3  KAM (104).jpg  দেশের শিক্ষামন্ত্রী যদি দেয় এইরকম পেরা কেমনে ক...   \n4  KAM (106).png  টিচার আর নাপিত এর মাঝে অনেক টা মিল রয়েছে দুজন...   \n\n          label  \n0  non-misogyny  \n1  non-misogyny  \n2  non-misogyny  \n3  non-misogyny  \n4  non-misogyny  ",
            "text/html": "<div>\n<style scoped>\n    .dataframe tbody tr th:only-of-type {\n        vertical-align: middle;\n    }\n\n    .dataframe tbody tr th {\n        vertical-align: top;\n    }\n\n    .dataframe thead th {\n        text-align: right;\n    }\n</style>\n<table border=\"1\" class=\"dataframe\">\n  <thead>\n    <tr style=\"text-align: right;\">\n      <th></th>\n      <th>image_name</th>\n      <th>Text</th>\n      <th>label</th>\n    </tr>\n  </thead>\n  <tbody>\n    <tr>\n      <th>0</th>\n      <td>KAM (100).jpg</td>\n      <td>পরীক্ষার আগের রাতে বারোটার সময় ঘুমে চোখ বন্ধ হ...</td>\n      <td>non-misogyny</td>\n    </tr>\n    <tr>\n      <th>1</th>\n      <td>KAM (102).png</td>\n      <td>আমি ক্যানো সেঞ্চুরি করিনি জানো? তোমরা দেখলেই আ...</td>\n      <td>non-misogyny</td>\n    </tr>\n    <tr>\n      <th>2</th>\n      <td>KAM (103).png</td>\n      <td>চ্যাম্পিয়ন এর পর লীগ কেন? কালকে হরতাল!</td>\n      <td>non-misogyny</td>\n    </tr>\n    <tr>\n      <th>3</th>\n      <td>KAM (104).jpg</td>\n      <td>দেশের শিক্ষামন্ত্রী যদি দেয় এইরকম পেরা কেমনে ক...</td>\n      <td>non-misogyny</td>\n    </tr>\n    <tr>\n      <th>4</th>\n      <td>KAM (106).png</td>\n      <td>টিচার আর নাপিত এর মাঝে অনেক টা মিল রয়েছে দুজন...</td>\n      <td>non-misogyny</td>\n    </tr>\n  </tbody>\n</table>\n</div>"
          },
          "metadata": {}
        }
      ],
      "execution_count": null
    },
    {
      "cell_type": "code",
      "source": [
        "img_folder = '/kaggle/input/ds-with-three/3 class/img'\n",
        "\n",
        "# List of all images present in folder\n",
        "available_images = set(os.listdir(img_folder))\n",
        "\n",
        "# Images referenced in DataFrame\n",
        "referenced_images = set(df['image_name'].unique())\n",
        "\n",
        "# Find missing images\n",
        "missing_images = referenced_images - available_images\n",
        "\n",
        "# Print missing image filenames with full path\n",
        "missing_image_paths = [os.path.join(img_folder, img) for img in missing_images]\n",
        "\n",
        "print(\"Missing image files:\")\n",
        "for path in missing_image_paths:\n",
        "    print(path)"
      ],
      "metadata": {
        "trusted": true,
        "execution": {
          "iopub.status.busy": "2025-06-20T19:34:01.515015Z",
          "iopub.execute_input": "2025-06-20T19:34:01.515337Z",
          "iopub.status.idle": "2025-06-20T19:34:01.557749Z",
          "shell.execute_reply.started": "2025-06-20T19:34:01.515316Z",
          "shell.execute_reply": "2025-06-20T19:34:01.557085Z"
        },
        "id": "0d56f36d-3638-4575-997e-63283631f72a",
        "outputId": "9ea7e8db-013d-448f-f585-de615206af54"
      },
      "outputs": [
        {
          "name": "stdout",
          "text": "Missing image files:\n",
          "output_type": "stream"
        }
      ],
      "execution_count": null
    },
    {
      "cell_type": "code",
      "source": [
        "with pd.option_context('display.max_colwidth', 0):\n",
        "    display(df.sample(n=5))"
      ],
      "metadata": {
        "execution": {
          "iopub.status.busy": "2025-06-20T19:34:05.893351Z",
          "iopub.execute_input": "2025-06-20T19:34:05.893606Z",
          "iopub.status.idle": "2025-06-20T19:34:05.901784Z",
          "shell.execute_reply.started": "2025-06-20T19:34:05.893589Z",
          "shell.execute_reply": "2025-06-20T19:34:05.901061Z"
        },
        "papermill": {
          "duration": 0.036923,
          "end_time": "2024-06-22T12:41:41.880728",
          "exception": false,
          "start_time": "2024-06-22T12:41:41.843805",
          "status": "completed"
        },
        "tags": [],
        "trusted": true,
        "id": "d6c01958",
        "outputId": "4621d633-4e3b-4a3a-bc36-1fcdbf6cff9e"
      },
      "outputs": [
        {
          "output_type": "display_data",
          "data": {
            "text/plain": "              image_name  \\\n1220  2937.png             \n279   tangaila (299).jpg   \n3014  in 542.jpg           \n1845  3562.jpg             \n2098  3815.jpg             \n\n                                                                                                                                                                                                                                                                                                                                                                                  Text  \\\n1220  স্বামী এবং স্ত্রী খুব ঝগড়া করছে। এমন সময় স্ত্রী স্বামীকে রেগে-মেগে গিয়ে বলছে\\n\"তুমি শুধু আমার বাড়ি, আমার টিভি, আমার ফ্রিজ, আমার সন্তান বল কেন???\"\\nতুমি বলতে পারো না যে, “আমাদের বাড়ি, আমাদের টিভি, আমাদের ফ্রিজ, আমাদের\\nসন্তান...\"\\n\\nঠিক তখনই স্বামী কি যেন খুঁজছিল। তাই দেখে স্ত্রী জিজ্ঞাসা করলো- কি খুজছো?\\n\\nস্বামী তখন আমতা আমতা করে বলল- “ইয়ে মানে আমাদের শেভিং রেজারটা   \n279   এলেংগার মেয়ে আমি এলেংগার নলা ক্যাডার পোলা আমি*                                                                                                                                                                                                                                                                                                                                     \n3014  পিসির ফাইল খোলার আশায় অপেক্ষারত বিকাশ রঞ্জন ভট্টাচার্য্য                                                                                                                                                                                                                                                                                                                           \n1845  গ্রাম থেকে শহরে ঘুরতে আসা চাচা ধানমন্ডি, বসুন্ধরা এলাকায় ওড়না ছাড়া মেয়েদের ঘুরাঘুরি করতে\\nদেখার পর  \\n\\nকেয়ামতের আলামত শুরু হয়ে গেসে                                                                                                                                                                                                                                           \n2098  কিছু মাগি আছে ...\\nতারা দেয়না ভালোবাসায় সাড়া,\\nতাড়া যে চায় কেবল মোটা বাঁড়া                                                                                                                                                                                                                                                                                                    \n\n                             label  \n1220  stereotype & objectification  \n279   non-misogyny                  \n3014  non-misogyny                  \n1845  stereotype & objectification  \n2098  stereotype & objectification  ",
            "text/html": "<div>\n<style scoped>\n    .dataframe tbody tr th:only-of-type {\n        vertical-align: middle;\n    }\n\n    .dataframe tbody tr th {\n        vertical-align: top;\n    }\n\n    .dataframe thead th {\n        text-align: right;\n    }\n</style>\n<table border=\"1\" class=\"dataframe\">\n  <thead>\n    <tr style=\"text-align: right;\">\n      <th></th>\n      <th>image_name</th>\n      <th>Text</th>\n      <th>label</th>\n    </tr>\n  </thead>\n  <tbody>\n    <tr>\n      <th>1220</th>\n      <td>2937.png</td>\n      <td>স্বামী এবং স্ত্রী খুব ঝগড়া করছে। এমন সময় স্ত্রী স্বামীকে রেগে-মেগে গিয়ে বলছে\\n\"তুমি শুধু আমার বাড়ি, আমার টিভি, আমার ফ্রিজ, আমার সন্তান বল কেন???\"\\nতুমি বলতে পারো না যে, “আমাদের বাড়ি, আমাদের টিভি, আমাদের ফ্রিজ, আমাদের\\nসন্তান...\"\\n\\nঠিক তখনই স্বামী কি যেন খুঁজছিল। তাই দেখে স্ত্রী জিজ্ঞাসা করলো- কি খুজছো?\\n\\nস্বামী তখন আমতা আমতা করে বলল- “ইয়ে মানে আমাদের শেভিং রেজারটা</td>\n      <td>stereotype &amp; objectification</td>\n    </tr>\n    <tr>\n      <th>279</th>\n      <td>tangaila (299).jpg</td>\n      <td>এলেংগার মেয়ে আমি এলেংগার নলা ক্যাডার পোলা আমি*</td>\n      <td>non-misogyny</td>\n    </tr>\n    <tr>\n      <th>3014</th>\n      <td>in 542.jpg</td>\n      <td>পিসির ফাইল খোলার আশায় অপেক্ষারত বিকাশ রঞ্জন ভট্টাচার্য্য</td>\n      <td>non-misogyny</td>\n    </tr>\n    <tr>\n      <th>1845</th>\n      <td>3562.jpg</td>\n      <td>গ্রাম থেকে শহরে ঘুরতে আসা চাচা ধানমন্ডি, বসুন্ধরা এলাকায় ওড়না ছাড়া মেয়েদের ঘুরাঘুরি করতে\\nদেখার পর  \\n\\nকেয়ামতের আলামত শুরু হয়ে গেসে</td>\n      <td>stereotype &amp; objectification</td>\n    </tr>\n    <tr>\n      <th>2098</th>\n      <td>3815.jpg</td>\n      <td>কিছু মাগি আছে ...\\nতারা দেয়না ভালোবাসায় সাড়া,\\nতাড়া যে চায় কেবল মোটা বাঁড়া</td>\n      <td>stereotype &amp; objectification</td>\n    </tr>\n  </tbody>\n</table>\n</div>"
          },
          "metadata": {}
        }
      ],
      "execution_count": null
    },
    {
      "cell_type": "code",
      "source": [
        "from sklearn.preprocessing import LabelEncoder\n",
        "le = LabelEncoder()\n",
        "df['label'] = le.fit_transform(df['label'])\n",
        "df.sample(10)"
      ],
      "metadata": {
        "trusted": true,
        "execution": {
          "iopub.status.busy": "2025-06-20T19:34:45.255174Z",
          "iopub.execute_input": "2025-06-20T19:34:45.255897Z",
          "iopub.status.idle": "2025-06-20T19:34:45.265039Z",
          "shell.execute_reply.started": "2025-06-20T19:34:45.255877Z",
          "shell.execute_reply": "2025-06-20T19:34:45.264451Z"
        },
        "id": "d1e473f5-76ea-4f1b-a218-792eb5eb96f9",
        "outputId": "3eb7ab1d-6467-48e9-bb8d-234019436a51"
      },
      "outputs": [
        {
          "execution_count": 15,
          "output_type": "execute_result",
          "data": {
            "text/plain": "     image_name                                               Text  label\n545    2262.jpg  Arrange marriage is scary what if she -  \\nPay...      1\n1048   2765.jpg                                    লিজেন্ডরা বুঝবে      1\n364    2081.jpg  আমার সামনে বলতি সতী\\nআড়ালে জাষ্টফ্রেন্ড দিয়ে ভ...      2\n1754   3471.jpg  মেয়েরা বমি করলে সুখবর\\nআর\\nছেলেরা বমি করলে......      1\n2465    924.jpg                       ছাড় পায়নি জুলাই শহিদের মেয়েও      2\n2198   3915.png  আশিক জ্বীন তোমার পথ চেয়ে বসে আছে!\\n\\nনিজেই ঠেক...      1\n2415    874.jpg                              রেট কত? \\r\\nউড়না কই?       2\n2582   1050.jpg  Give me outfit ideas! \\r\\nKafon poro shundor l...      2\n968    2685.jpg  বিয়ের আগে দেহ দিলে সমস্যা কি? যাই দেহ দান করে ...      2\n1717   3434.jpg  পেটে হালকা চর্বি না থাকলে শাড়িতে খুব একটা মানা...      1",
            "text/html": "<div>\n<style scoped>\n    .dataframe tbody tr th:only-of-type {\n        vertical-align: middle;\n    }\n\n    .dataframe tbody tr th {\n        vertical-align: top;\n    }\n\n    .dataframe thead th {\n        text-align: right;\n    }\n</style>\n<table border=\"1\" class=\"dataframe\">\n  <thead>\n    <tr style=\"text-align: right;\">\n      <th></th>\n      <th>image_name</th>\n      <th>Text</th>\n      <th>label</th>\n    </tr>\n  </thead>\n  <tbody>\n    <tr>\n      <th>545</th>\n      <td>2262.jpg</td>\n      <td>Arrange marriage is scary what if she -  \\nPay...</td>\n      <td>1</td>\n    </tr>\n    <tr>\n      <th>1048</th>\n      <td>2765.jpg</td>\n      <td>লিজেন্ডরা বুঝবে</td>\n      <td>1</td>\n    </tr>\n    <tr>\n      <th>364</th>\n      <td>2081.jpg</td>\n      <td>আমার সামনে বলতি সতী\\nআড়ালে জাষ্টফ্রেন্ড দিয়ে ভ...</td>\n      <td>2</td>\n    </tr>\n    <tr>\n      <th>1754</th>\n      <td>3471.jpg</td>\n      <td>মেয়েরা বমি করলে সুখবর\\nআর\\nছেলেরা বমি করলে......</td>\n      <td>1</td>\n    </tr>\n    <tr>\n      <th>2465</th>\n      <td>924.jpg</td>\n      <td>ছাড় পায়নি জুলাই শহিদের মেয়েও</td>\n      <td>2</td>\n    </tr>\n    <tr>\n      <th>2198</th>\n      <td>3915.png</td>\n      <td>আশিক জ্বীন তোমার পথ চেয়ে বসে আছে!\\n\\nনিজেই ঠেক...</td>\n      <td>1</td>\n    </tr>\n    <tr>\n      <th>2415</th>\n      <td>874.jpg</td>\n      <td>রেট কত? \\r\\nউড়না কই?</td>\n      <td>2</td>\n    </tr>\n    <tr>\n      <th>2582</th>\n      <td>1050.jpg</td>\n      <td>Give me outfit ideas! \\r\\nKafon poro shundor l...</td>\n      <td>2</td>\n    </tr>\n    <tr>\n      <th>968</th>\n      <td>2685.jpg</td>\n      <td>বিয়ের আগে দেহ দিলে সমস্যা কি? যাই দেহ দান করে ...</td>\n      <td>2</td>\n    </tr>\n    <tr>\n      <th>1717</th>\n      <td>3434.jpg</td>\n      <td>পেটে হালকা চর্বি না থাকলে শাড়িতে খুব একটা মানা...</td>\n      <td>1</td>\n    </tr>\n  </tbody>\n</table>\n</div>"
          },
          "metadata": {}
        }
      ],
      "execution_count": null
    },
    {
      "cell_type": "code",
      "source": [
        "# checkpoint = \"csebuetnlp/banglabert\" \"sagorsarker/bangla-bert-base\" \"csebuetnlp/banglabert_large\"\n",
        "class Config:\n",
        "    NUM_EPOCHS = 10\n",
        "    BATCH_SIZE = 32\n",
        "    MODEL_PATH = \"csebuetnlp/banglabert\"\n",
        "    Image_Model = \"google/vit-base-patch16-224-in21k\"\n",
        "    LR = 2e-5\n",
        "    DROPOUT = 0.3\n",
        "    NUM_CLASSES = 3\n",
        "    SEED = 42\n",
        "    MAX_LEN = 100\n",
        "    DEVICE =  \"cuda\" if torch.cuda.is_available() else \"cpu\"\n",
        "\n",
        "config  = Config()"
      ],
      "metadata": {
        "execution": {
          "iopub.status.busy": "2025-06-20T19:35:25.004325Z",
          "iopub.execute_input": "2025-06-20T19:35:25.004808Z",
          "iopub.status.idle": "2025-06-20T19:35:25.009043Z",
          "shell.execute_reply.started": "2025-06-20T19:35:25.004787Z",
          "shell.execute_reply": "2025-06-20T19:35:25.008229Z"
        },
        "papermill": {
          "duration": 0.079106,
          "end_time": "2024-06-22T12:41:41.977932",
          "exception": false,
          "start_time": "2024-06-22T12:41:41.898826",
          "status": "completed"
        },
        "tags": [],
        "trusted": true,
        "id": "fd178963"
      },
      "outputs": [],
      "execution_count": null
    },
    {
      "cell_type": "code",
      "source": [
        "tokenizer = AutoTokenizer.from_pretrained(config.MODEL_PATH)"
      ],
      "metadata": {
        "execution": {
          "iopub.status.busy": "2025-06-20T19:35:28.065786Z",
          "iopub.execute_input": "2025-06-20T19:35:28.066616Z",
          "iopub.status.idle": "2025-06-20T19:35:29.475176Z",
          "shell.execute_reply.started": "2025-06-20T19:35:28.066592Z",
          "shell.execute_reply": "2025-06-20T19:35:29.47451Z"
        },
        "papermill": {
          "duration": 0.982438,
          "end_time": "2024-06-22T12:41:42.988658",
          "exception": false,
          "start_time": "2024-06-22T12:41:42.00622",
          "status": "completed"
        },
        "tags": [],
        "trusted": true,
        "id": "46f38fd1",
        "outputId": "fce99b27-d89e-4505-a6b8-4de3cc3a3113",
        "colab": {
          "referenced_widgets": [
            "697d987e246640a89f815031cba3187e",
            "506be408d82e4b6099133a38fe5c19fa",
            "4172072737bc4a5ab268696049fdb6c4",
            "48ccd51c5e7a4b23bce26eb53b236d34"
          ]
        }
      },
      "outputs": [
        {
          "output_type": "display_data",
          "data": {
            "text/plain": "tokenizer_config.json:   0%|          | 0.00/119 [00:00<?, ?B/s]",
            "application/vnd.jupyter.widget-view+json": {
              "version_major": 2,
              "version_minor": 0,
              "model_id": "697d987e246640a89f815031cba3187e"
            }
          },
          "metadata": {}
        },
        {
          "output_type": "display_data",
          "data": {
            "text/plain": "config.json:   0%|          | 0.00/586 [00:00<?, ?B/s]",
            "application/vnd.jupyter.widget-view+json": {
              "version_major": 2,
              "version_minor": 0,
              "model_id": "506be408d82e4b6099133a38fe5c19fa"
            }
          },
          "metadata": {}
        },
        {
          "output_type": "display_data",
          "data": {
            "text/plain": "vocab.txt:   0%|          | 0.00/528k [00:00<?, ?B/s]",
            "application/vnd.jupyter.widget-view+json": {
              "version_major": 2,
              "version_minor": 0,
              "model_id": "4172072737bc4a5ab268696049fdb6c4"
            }
          },
          "metadata": {}
        },
        {
          "output_type": "display_data",
          "data": {
            "text/plain": "special_tokens_map.json:   0%|          | 0.00/112 [00:00<?, ?B/s]",
            "application/vnd.jupyter.widget-view+json": {
              "version_major": 2,
              "version_minor": 0,
              "model_id": "48ccd51c5e7a4b23bce26eb53b236d34"
            }
          },
          "metadata": {}
        }
      ],
      "execution_count": null
    },
    {
      "cell_type": "code",
      "source": [
        "token_counts = []\n",
        "\n",
        "for _, row in df.iterrows():\n",
        "    text = str(row[\"Text\"])  # Ensure the text is converted to a string\n",
        "    token_count = len(tokenizer.encode(\n",
        "        text,\n",
        "        max_length=512,\n",
        "        truncation=True\n",
        "    ))\n",
        "    token_counts.append(token_count)\n",
        "\n",
        "sns.histplot(token_counts)"
      ],
      "metadata": {
        "execution": {
          "iopub.status.busy": "2025-06-20T19:35:33.254858Z",
          "iopub.execute_input": "2025-06-20T19:35:33.255562Z",
          "iopub.status.idle": "2025-06-20T19:35:34.234895Z",
          "shell.execute_reply.started": "2025-06-20T19:35:33.255528Z",
          "shell.execute_reply": "2025-06-20T19:35:34.234215Z"
        },
        "papermill": {
          "duration": 3.083289,
          "end_time": "2024-06-22T12:41:46.088241",
          "exception": false,
          "start_time": "2024-06-22T12:41:43.004952",
          "status": "completed"
        },
        "tags": [],
        "trusted": true,
        "id": "a0d52038",
        "outputId": "ffb61fe1-0709-4949-f101-9992b43604e0"
      },
      "outputs": [
        {
          "execution_count": 19,
          "output_type": "execute_result",
          "data": {
            "text/plain": "<Axes: ylabel='Count'>"
          },
          "metadata": {}
        },
        {
          "output_type": "display_data",
          "data": {
            "text/plain": "<Figure size 640x480 with 1 Axes>",
            "image/png": "[encoded data removed]"
          },
          "metadata": {}
        }
      ],
      "execution_count": null
    },
    {
      "cell_type": "code",
      "source": [
        "X = df[['image_name','Text']]"
      ],
      "metadata": {
        "execution": {
          "iopub.status.busy": "2025-06-20T19:35:38.777963Z",
          "iopub.execute_input": "2025-06-20T19:35:38.778683Z",
          "iopub.status.idle": "2025-06-20T19:35:38.783903Z",
          "shell.execute_reply.started": "2025-06-20T19:35:38.778651Z",
          "shell.execute_reply": "2025-06-20T19:35:38.783236Z"
        },
        "papermill": {
          "duration": 0.028451,
          "end_time": "2024-06-22T12:41:46.133639",
          "exception": false,
          "start_time": "2024-06-22T12:41:46.105188",
          "status": "completed"
        },
        "tags": [],
        "trusted": true,
        "id": "1c1bc335"
      },
      "outputs": [],
      "execution_count": null
    },
    {
      "cell_type": "code",
      "source": [
        "X_train, X_test, y_train, y_test = train_test_split(X, df['label'].values, test_size=0.3, stratify=df['label'].values, random_state=42)"
      ],
      "metadata": {
        "execution": {
          "iopub.status.busy": "2025-06-20T19:35:41.167864Z",
          "iopub.execute_input": "2025-06-20T19:35:41.168159Z",
          "iopub.status.idle": "2025-06-20T19:35:41.17751Z",
          "shell.execute_reply.started": "2025-06-20T19:35:41.168139Z",
          "shell.execute_reply": "2025-06-20T19:35:41.176547Z"
        },
        "papermill": {
          "duration": 0.034582,
          "end_time": "2024-06-22T12:41:46.185911",
          "exception": false,
          "start_time": "2024-06-22T12:41:46.151329",
          "status": "completed"
        },
        "tags": [],
        "trusted": true,
        "id": "a3da11d8"
      },
      "outputs": [],
      "execution_count": null
    },
    {
      "cell_type": "code",
      "source": [
        "X_test, X_val, y_test, y_val = train_test_split(X_test, y_test, test_size=0.5, stratify=y_test, random_state=42)"
      ],
      "metadata": {
        "execution": {
          "iopub.status.busy": "2025-06-20T19:35:44.094587Z",
          "iopub.execute_input": "2025-06-20T19:35:44.095295Z",
          "iopub.status.idle": "2025-06-20T19:35:44.102672Z",
          "shell.execute_reply.started": "2025-06-20T19:35:44.095267Z",
          "shell.execute_reply": "2025-06-20T19:35:44.101861Z"
        },
        "papermill": {
          "duration": 0.030874,
          "end_time": "2024-06-22T12:41:46.234356",
          "exception": false,
          "start_time": "2024-06-22T12:41:46.203482",
          "status": "completed"
        },
        "tags": [],
        "trusted": true,
        "id": "20395214"
      },
      "outputs": [],
      "execution_count": null
    },
    {
      "cell_type": "code",
      "source": [
        "train_df = pd.DataFrame(X_train, columns=['image_name', 'Text'])\n",
        "train_df['label'] = y_train\n",
        "val_df = pd.DataFrame(X_val, columns=['image_name', 'Text'])\n",
        "val_df['label'] = y_val\n",
        "test_df = pd.DataFrame(X_test, columns = ['image_name', 'Text'])\n",
        "test_df['label'] = y_test"
      ],
      "metadata": {
        "execution": {
          "iopub.status.busy": "2025-06-20T19:35:48.313724Z",
          "iopub.execute_input": "2025-06-20T19:35:48.31439Z",
          "iopub.status.idle": "2025-06-20T19:35:48.320956Z",
          "shell.execute_reply.started": "2025-06-20T19:35:48.314366Z",
          "shell.execute_reply": "2025-06-20T19:35:48.320325Z"
        },
        "papermill": {
          "duration": 0.029447,
          "end_time": "2024-06-22T12:41:46.281379",
          "exception": false,
          "start_time": "2024-06-22T12:41:46.251932",
          "status": "completed"
        },
        "tags": [],
        "trusted": true,
        "id": "57ce0e3b"
      },
      "outputs": [],
      "execution_count": null
    },
    {
      "cell_type": "code",
      "source": [
        "train_df['Text'][0]"
      ],
      "metadata": {
        "execution": {
          "iopub.status.busy": "2025-06-20T19:35:50.345009Z",
          "iopub.execute_input": "2025-06-20T19:35:50.345378Z",
          "iopub.status.idle": "2025-06-20T19:35:50.350139Z",
          "shell.execute_reply.started": "2025-06-20T19:35:50.345359Z",
          "shell.execute_reply": "2025-06-20T19:35:50.349584Z"
        },
        "papermill": {
          "duration": 0.030237,
          "end_time": "2024-06-22T12:41:46.329043",
          "exception": false,
          "start_time": "2024-06-22T12:41:46.298806",
          "status": "completed"
        },
        "tags": [],
        "trusted": true,
        "id": "455c6e70",
        "outputId": "45f208b5-9455-4805-edbf-5b60b74985b2"
      },
      "outputs": [
        {
          "execution_count": 24,
          "output_type": "execute_result",
          "data": {
            "text/plain": "'পরীক্ষার আগের রাতে বারোটার সময় ঘুমে চোখ বন্ধ হয়ে আসে অন্যান্য রাতে ৩টা বাজলেও চোখ খোলা পুরাই উলালা মুড'"
          },
          "metadata": {}
        }
      ],
      "execution_count": null
    },
    {
      "cell_type": "code",
      "source": [
        "train_df['image_name'][0]"
      ],
      "metadata": {
        "execution": {
          "iopub.status.busy": "2025-06-20T19:35:53.011751Z",
          "iopub.execute_input": "2025-06-20T19:35:53.012023Z",
          "iopub.status.idle": "2025-06-20T19:35:53.017144Z",
          "shell.execute_reply.started": "2025-06-20T19:35:53.012006Z",
          "shell.execute_reply": "2025-06-20T19:35:53.016381Z"
        },
        "papermill": {
          "duration": 0.028301,
          "end_time": "2024-06-22T12:41:46.37684",
          "exception": false,
          "start_time": "2024-06-22T12:41:46.348539",
          "status": "completed"
        },
        "tags": [],
        "trusted": true,
        "id": "71579df2",
        "outputId": "f3ec7c17-2ec2-4cf9-96e4-c7cf15c8abd1"
      },
      "outputs": [
        {
          "execution_count": 25,
          "output_type": "execute_result",
          "data": {
            "text/plain": "'KAM (100).jpg'"
          },
          "metadata": {}
        }
      ],
      "execution_count": null
    },
    {
      "cell_type": "code",
      "source": [
        "class MultimodalDataset(Dataset):\n",
        "    def __init__(self, df, tokenizer, processor, is_train=True):\n",
        "        super(MultimodalDataset, self).__init__()\n",
        "        self.df = df\n",
        "        self.tokenizer = tokenizer\n",
        "        self.processor = processor\n",
        "        self.label = torch.tensor(df.label.values, dtype=torch.long)\n",
        "        self.is_train = is_train\n",
        "        self.max_length = config.MAX_LEN\n",
        "\n",
        "        # Image transforms\n",
        "        self.image_mean = processor.image_mean\n",
        "        self.image_std = processor.image_std\n",
        "        self.size = processor.size[\"height\"]\n",
        "\n",
        "        self.train_transforms = Compose([\n",
        "            RandomResizedCrop(self.size),\n",
        "            RandomHorizontalFlip(),\n",
        "            ToTensor(),\n",
        "            self.normalize_image,\n",
        "        ])\n",
        "        self.val_transforms = Compose([\n",
        "            Resize(self.size),\n",
        "            CenterCrop(self.size),\n",
        "            ToTensor(),\n",
        "            self.normalize_image,\n",
        "        ])\n",
        "\n",
        "    def normalize_image(self, image):\n",
        "        if image.shape[0] == 3:  # RGB image\n",
        "            return Normalize(mean=self.image_mean, std=self.image_std)(image)\n",
        "        elif image.shape[0] == 4:  # RGBA image\n",
        "            # Normalize only the RGB channels\n",
        "            rgb_image = image[:3]\n",
        "            normalized_rgb = Normalize(mean=self.image_mean, std=self.image_std)(rgb_image)\n",
        "            # Add the alpha channel back\n",
        "            return torch.cat([normalized_rgb, image[3].unsqueeze(0)], dim=0)\n",
        "        else:\n",
        "            raise ValueError(f\"Unexpected number of channels: {image.shape[0]}\")\n",
        "\n",
        "    def __len__(self):\n",
        "        return len(self.df)\n",
        "\n",
        "    def __getitem__(self, index):\n",
        "\n",
        "        image_item = f\"/kaggle/input/ds-with-three/3 class/img/{df.iloc[index, 0]}\"\n",
        "\n",
        "        text_item = self.df.iloc[index]\n",
        "        # Process image\n",
        "        image = Image.open(image_item).convert('RGB')\n",
        "        if self.is_train:\n",
        "            image_inputs = self.train_transforms(image)\n",
        "        else:\n",
        "            image_inputs = self.val_transforms(image)\n",
        "\n",
        "        text = str(text_item['Text'])\n",
        "        text_inputs = self.tokenizer(\n",
        "            text,\n",
        "            padding=True,\n",
        "            truncation=True,\n",
        "            max_length=config.MAX_LEN,\n",
        "            return_tensors=\"pt\"\n",
        "        )\n",
        "\n",
        "        label = self.label[index]\n",
        "        return{\n",
        "            'input_ids': text_inputs['input_ids'].squeeze(0),\n",
        "            'attention_mask': text_inputs['attention_mask'].squeeze(0),\n",
        "            'pixel_values': image_inputs,\n",
        "            'label': label\n",
        "        }"
      ],
      "metadata": {
        "execution": {
          "iopub.status.busy": "2025-06-20T19:36:19.80981Z",
          "iopub.execute_input": "2025-06-20T19:36:19.810399Z",
          "iopub.status.idle": "2025-06-20T19:36:19.82585Z",
          "shell.execute_reply.started": "2025-06-20T19:36:19.810363Z",
          "shell.execute_reply": "2025-06-20T19:36:19.824664Z"
        },
        "papermill": {
          "duration": 0.037282,
          "end_time": "2024-06-22T12:41:46.431773",
          "exception": false,
          "start_time": "2024-06-22T12:41:46.394491",
          "status": "completed"
        },
        "tags": [],
        "trusted": true,
        "id": "428eec05"
      },
      "outputs": [],
      "execution_count": null
    },
    {
      "cell_type": "code",
      "source": [
        "class MultimodalDataCollator:\n",
        "    def __init__(self, tokenizer):\n",
        "        self.tokenizer = tokenizer\n",
        "        self.text_collator = DataCollatorWithPadding(tokenizer=tokenizer)\n",
        "\n",
        "    def __call__(self, examples):\n",
        "        text_inputs = [{k: v for k, v in ex.items() if k not in ['pixel_values', 'label']} for ex in examples]\n",
        "        image_inputs = [ex['pixel_values'] for ex in examples]\n",
        "        labels = [ex['label'] for ex in examples]\n",
        "\n",
        "        batch = self.text_collator(text_inputs)\n",
        "\n",
        "        batch['pixel_values'] = torch.stack(image_inputs)\n",
        "        batch['label'] = torch.stack(labels)\n",
        "\n",
        "        return batch"
      ],
      "metadata": {
        "execution": {
          "iopub.status.busy": "2025-06-20T19:36:23.087104Z",
          "iopub.execute_input": "2025-06-20T19:36:23.087404Z",
          "iopub.status.idle": "2025-06-20T19:36:23.09301Z",
          "shell.execute_reply.started": "2025-06-20T19:36:23.087383Z",
          "shell.execute_reply": "2025-06-20T19:36:23.092237Z"
        },
        "papermill": {
          "duration": 0.028794,
          "end_time": "2024-06-22T12:41:46.478344",
          "exception": false,
          "start_time": "2024-06-22T12:41:46.44955",
          "status": "completed"
        },
        "tags": [],
        "trusted": true,
        "id": "a124a20f"
      },
      "outputs": [],
      "execution_count": null
    },
    {
      "cell_type": "code",
      "source": [
        "processor = ViTImageProcessor.from_pretrained(config.Image_Model)\n",
        "\n",
        "# Create datasets\n",
        "train_dataset = MultimodalDataset(train_df, tokenizer, processor, is_train=True)\n",
        "\n",
        "data_collator = MultimodalDataCollator(tokenizer)\n",
        "\n",
        "train_loader = DataLoader(train_dataset, batch_size=3, collate_fn=data_collator, num_workers=4)"
      ],
      "metadata": {
        "execution": {
          "iopub.status.busy": "2025-06-20T19:36:25.633743Z",
          "iopub.execute_input": "2025-06-20T19:36:25.634302Z",
          "iopub.status.idle": "2025-06-20T19:36:25.81902Z",
          "shell.execute_reply.started": "2025-06-20T19:36:25.63428Z",
          "shell.execute_reply": "2025-06-20T19:36:25.81847Z"
        },
        "papermill": {
          "duration": 0.289278,
          "end_time": "2024-06-22T12:41:46.785086",
          "exception": false,
          "start_time": "2024-06-22T12:41:46.495808",
          "status": "completed"
        },
        "tags": [],
        "trusted": true,
        "id": "e0eab3ef",
        "outputId": "60cdbed6-8f3e-480c-d9d0-67222ec3df10",
        "colab": {
          "referenced_widgets": [
            "33628d54e1574ff1af26ca3772887875"
          ]
        }
      },
      "outputs": [
        {
          "output_type": "display_data",
          "data": {
            "text/plain": "preprocessor_config.json:   0%|          | 0.00/160 [00:00<?, ?B/s]",
            "application/vnd.jupyter.widget-view+json": {
              "version_major": 2,
              "version_minor": 0,
              "model_id": "33628d54e1574ff1af26ca3772887875"
            }
          },
          "metadata": {}
        }
      ],
      "execution_count": null
    },
    {
      "cell_type": "code",
      "source": [
        "class ClassifierModel(nn.Module):\n",
        "    def __init__(self):\n",
        "        super(ClassifierModel, self).__init__()\n",
        "        model_config = AutoConfig.from_pretrained(config.MODEL_PATH)\n",
        "        self.model = AutoModel.from_pretrained(config.MODEL_PATH,config = model_config)\n",
        "\n",
        "    def forward(self, input_ids, attention_mask):\n",
        "        outputs = self.model(\n",
        "            input_ids = input_ids,\n",
        "            attention_mask = attention_mask\n",
        "        )\n",
        "        last_hidden_state = outputs[0]\n",
        "        cls_embeddings = last_hidden_state[:, 0]\n",
        "        return cls_embeddings"
      ],
      "metadata": {
        "execution": {
          "iopub.status.busy": "2025-06-20T19:36:28.096112Z",
          "iopub.execute_input": "2025-06-20T19:36:28.096924Z",
          "iopub.status.idle": "2025-06-20T19:36:28.101284Z",
          "shell.execute_reply.started": "2025-06-20T19:36:28.096904Z",
          "shell.execute_reply": "2025-06-20T19:36:28.100712Z"
        },
        "papermill": {
          "duration": 0.029471,
          "end_time": "2024-06-22T12:41:46.83247",
          "exception": false,
          "start_time": "2024-06-22T12:41:46.802999",
          "status": "completed"
        },
        "tags": [],
        "trusted": true,
        "id": "b110df8e"
      },
      "outputs": [],
      "execution_count": null
    },
    {
      "cell_type": "code",
      "source": [
        "class VisionClassifierModel(nn.Module):\n",
        "    def __init__(self):\n",
        "        super(VisionClassifierModel, self).__init__()\n",
        "        self.model_config = ViTConfig.from_pretrained(config.Image_Model)\n",
        "        self.model = ViTModel.from_pretrained(config.Image_Model, config=self.model_config)\n",
        "\n",
        "    def forward(self, pixel_values):\n",
        "        outputs = self.model(pixel_values=pixel_values)\n",
        "        cls_embeddings = outputs.last_hidden_state[:, 0]\n",
        "\n",
        "        return cls_embeddings"
      ],
      "metadata": {
        "execution": {
          "iopub.status.busy": "2025-06-20T19:36:30.202089Z",
          "iopub.execute_input": "2025-06-20T19:36:30.202832Z",
          "iopub.status.idle": "2025-06-20T19:36:30.208432Z",
          "shell.execute_reply.started": "2025-06-20T19:36:30.202804Z",
          "shell.execute_reply": "2025-06-20T19:36:30.207691Z"
        },
        "papermill": {
          "duration": 0.027045,
          "end_time": "2024-06-22T12:41:46.877825",
          "exception": false,
          "start_time": "2024-06-22T12:41:46.85078",
          "status": "completed"
        },
        "tags": [],
        "trusted": true,
        "id": "f7fa9d68"
      },
      "outputs": [],
      "execution_count": null
    },
    {
      "cell_type": "code",
      "source": [
        "for batch in train_loader:\n",
        "    break"
      ],
      "metadata": {
        "execution": {
          "iopub.status.busy": "2025-06-20T19:36:32.634978Z",
          "iopub.execute_input": "2025-06-20T19:36:32.635489Z",
          "iopub.status.idle": "2025-06-20T19:36:32.922661Z",
          "shell.execute_reply.started": "2025-06-20T19:36:32.635467Z",
          "shell.execute_reply": "2025-06-20T19:36:32.92168Z"
        },
        "papermill": {
          "duration": 0.549045,
          "end_time": "2024-06-22T12:41:47.444353",
          "exception": false,
          "start_time": "2024-06-22T12:41:46.895308",
          "status": "completed"
        },
        "tags": [],
        "trusted": true,
        "id": "11b8b465"
      },
      "outputs": [],
      "execution_count": null
    },
    {
      "cell_type": "code",
      "source": [
        "text_model = ClassifierModel()\n",
        "output = text_model(input_ids = batch['input_ids'], attention_mask = batch['attention_mask'])"
      ],
      "metadata": {
        "execution": {
          "iopub.status.busy": "2025-06-20T19:36:34.464803Z",
          "iopub.execute_input": "2025-06-20T19:36:34.46566Z",
          "iopub.status.idle": "2025-06-20T19:36:41.56454Z",
          "shell.execute_reply.started": "2025-06-20T19:36:34.465629Z",
          "shell.execute_reply": "2025-06-20T19:36:41.563728Z"
        },
        "papermill": {
          "duration": 4.118031,
          "end_time": "2024-06-22T12:41:51.581089",
          "exception": false,
          "start_time": "2024-06-22T12:41:47.463058",
          "status": "completed"
        },
        "tags": [],
        "trusted": true,
        "id": "fdcab738",
        "outputId": "6580fb4b-b703-43dd-f1cb-c221e468b661",
        "colab": {
          "referenced_widgets": [
            "f32c89438d754ad1ae7c4587025594d4",
            "bdcd7dcdfcbc483d8383fb1b35888289"
          ]
        }
      },
      "outputs": [
        {
          "output_type": "display_data",
          "data": {
            "text/plain": "pytorch_model.bin:   0%|          | 0.00/443M [00:00<?, ?B/s]",
            "application/vnd.jupyter.widget-view+json": {
              "version_major": 2,
              "version_minor": 0,
              "model_id": "f32c89438d754ad1ae7c4587025594d4"
            }
          },
          "metadata": {}
        },
        {
          "output_type": "display_data",
          "data": {
            "text/plain": "model.safetensors:   0%|          | 0.00/443M [00:00<?, ?B/s]",
            "application/vnd.jupyter.widget-view+json": {
              "version_major": 2,
              "version_minor": 0,
              "model_id": "bdcd7dcdfcbc483d8383fb1b35888289"
            }
          },
          "metadata": {}
        }
      ],
      "execution_count": null
    },
    {
      "cell_type": "code",
      "source": [
        "output.shape"
      ],
      "metadata": {
        "execution": {
          "iopub.status.busy": "2025-06-20T19:36:46.237101Z",
          "iopub.execute_input": "2025-06-20T19:36:46.237407Z",
          "iopub.status.idle": "2025-06-20T19:36:46.242484Z",
          "shell.execute_reply.started": "2025-06-20T19:36:46.237387Z",
          "shell.execute_reply": "2025-06-20T19:36:46.241526Z"
        },
        "papermill": {
          "duration": 0.028295,
          "end_time": "2024-06-22T12:41:51.676544",
          "exception": false,
          "start_time": "2024-06-22T12:41:51.648249",
          "status": "completed"
        },
        "tags": [],
        "trusted": true,
        "id": "d28215e8",
        "outputId": "348c2021-5a35-44c3-88c7-e96a01c9056e"
      },
      "outputs": [
        {
          "execution_count": 34,
          "output_type": "execute_result",
          "data": {
            "text/plain": "torch.Size([3, 768])"
          },
          "metadata": {}
        }
      ],
      "execution_count": null
    },
    {
      "cell_type": "code",
      "source": [
        "image_model = VisionClassifierModel()\n",
        "outputs = image_model(pixel_values=batch['pixel_values'])"
      ],
      "metadata": {
        "execution": {
          "iopub.status.busy": "2025-06-20T19:36:48.222342Z",
          "iopub.execute_input": "2025-06-20T19:36:48.223062Z",
          "iopub.status.idle": "2025-06-20T19:36:51.111913Z",
          "shell.execute_reply.started": "2025-06-20T19:36:48.223039Z",
          "shell.execute_reply": "2025-06-20T19:36:51.111179Z"
        },
        "papermill": {
          "duration": 7.029554,
          "end_time": "2024-06-22T12:41:58.723809",
          "exception": false,
          "start_time": "2024-06-22T12:41:51.694255",
          "status": "completed"
        },
        "tags": [],
        "trusted": true,
        "id": "a5bec149",
        "outputId": "0edfef35-58c5-4785-af3e-29e956fb045c",
        "colab": {
          "referenced_widgets": [
            "740026ff3ca24b9b8dc6ef60389de41d",
            "e6bf554870c74a0eb0538c6561d736f8"
          ]
        }
      },
      "outputs": [
        {
          "output_type": "display_data",
          "data": {
            "text/plain": "config.json:   0%|          | 0.00/502 [00:00<?, ?B/s]",
            "application/vnd.jupyter.widget-view+json": {
              "version_major": 2,
              "version_minor": 0,
              "model_id": "740026ff3ca24b9b8dc6ef60389de41d"
            }
          },
          "metadata": {}
        },
        {
          "output_type": "display_data",
          "data": {
            "text/plain": "model.safetensors:   0%|          | 0.00/346M [00:00<?, ?B/s]",
            "application/vnd.jupyter.widget-view+json": {
              "version_major": 2,
              "version_minor": 0,
              "model_id": "e6bf554870c74a0eb0538c6561d736f8"
            }
          },
          "metadata": {}
        }
      ],
      "execution_count": null
    },
    {
      "cell_type": "code",
      "source": [
        "outputs.shape"
      ],
      "metadata": {
        "execution": {
          "iopub.status.busy": "2025-06-20T19:36:54.016108Z",
          "iopub.execute_input": "2025-06-20T19:36:54.016876Z",
          "iopub.status.idle": "2025-06-20T19:36:54.021217Z",
          "shell.execute_reply.started": "2025-06-20T19:36:54.016852Z",
          "shell.execute_reply": "2025-06-20T19:36:54.020521Z"
        },
        "papermill": {
          "duration": 0.028336,
          "end_time": "2024-06-22T12:41:58.772691",
          "exception": false,
          "start_time": "2024-06-22T12:41:58.744355",
          "status": "completed"
        },
        "tags": [],
        "trusted": true,
        "id": "29cbc3cf",
        "outputId": "28a60b0b-4643-4068-c4f0-44506e234b84"
      },
      "outputs": [
        {
          "execution_count": 36,
          "output_type": "execute_result",
          "data": {
            "text/plain": "torch.Size([3, 768])"
          },
          "metadata": {}
        }
      ],
      "execution_count": null
    },
    {
      "cell_type": "code",
      "source": [
        "class FusionModel(nn.Module):\n",
        "    def __init__(self, image_model, classifier_model, num_classes):\n",
        "        super(FusionModel, self).__init__()\n",
        "        self.image_model = image_model\n",
        "        self.classifier_model = classifier_model\n",
        "        # Adjust the size as necessary\n",
        "        self.fusion_layer = nn.Sequential(\n",
        "            nn.Linear(image_model.model_config.hidden_size + classifier_model.model.config.hidden_size, 1024),\n",
        "            nn.ReLU(),\n",
        "            nn.Dropout(0.4),\n",
        "            nn.Linear(1024, num_classes)\n",
        "        )\n",
        "\n",
        "    def forward(self, pixel_values, text_input_ids, text_attention_mask):\n",
        "        image_output = self.image_model(pixel_values)\n",
        "        text_features = self.classifier_model(text_input_ids, text_attention_mask)\n",
        "\n",
        "        combined_features = torch.cat((image_output, text_features), dim=1)\n",
        "        output = self.fusion_layer(combined_features)\n",
        "        return output"
      ],
      "metadata": {
        "execution": {
          "iopub.status.busy": "2025-06-20T19:36:58.556142Z",
          "iopub.execute_input": "2025-06-20T19:36:58.556771Z",
          "iopub.status.idle": "2025-06-20T19:36:58.561795Z",
          "shell.execute_reply.started": "2025-06-20T19:36:58.55675Z",
          "shell.execute_reply": "2025-06-20T19:36:58.561046Z"
        },
        "papermill": {
          "duration": 0.030183,
          "end_time": "2024-06-22T12:41:58.820943",
          "exception": false,
          "start_time": "2024-06-22T12:41:58.79076",
          "status": "completed"
        },
        "tags": [],
        "trusted": true,
        "id": "5db635c8"
      },
      "outputs": [],
      "execution_count": null
    },
    {
      "cell_type": "code",
      "source": [
        "image_model = VisionClassifierModel()\n",
        "classifier_model = ClassifierModel()"
      ],
      "metadata": {
        "execution": {
          "iopub.status.busy": "2025-06-20T19:37:02.400037Z",
          "iopub.execute_input": "2025-06-20T19:37:02.400569Z",
          "iopub.status.idle": "2025-06-20T19:37:03.419621Z",
          "shell.execute_reply.started": "2025-06-20T19:37:02.400545Z",
          "shell.execute_reply": "2025-06-20T19:37:03.418834Z"
        },
        "papermill": {
          "duration": 1.154316,
          "end_time": "2024-06-22T12:41:59.9941",
          "exception": false,
          "start_time": "2024-06-22T12:41:58.839784",
          "status": "completed"
        },
        "tags": [],
        "trusted": true,
        "id": "639e7209"
      },
      "outputs": [],
      "execution_count": null
    },
    {
      "cell_type": "code",
      "source": [
        "pixel_values = batch['pixel_values']\n",
        "text_input_ids = batch['input_ids']\n",
        "text_attention_mask = batch['attention_mask']"
      ],
      "metadata": {
        "execution": {
          "iopub.status.busy": "2025-06-20T19:37:05.513566Z",
          "iopub.execute_input": "2025-06-20T19:37:05.514122Z",
          "iopub.status.idle": "2025-06-20T19:37:05.517482Z",
          "shell.execute_reply.started": "2025-06-20T19:37:05.514098Z",
          "shell.execute_reply": "2025-06-20T19:37:05.516836Z"
        },
        "papermill": {
          "duration": 0.026811,
          "end_time": "2024-06-22T12:42:00.039577",
          "exception": false,
          "start_time": "2024-06-22T12:42:00.012766",
          "status": "completed"
        },
        "tags": [],
        "trusted": true,
        "id": "a012d781"
      },
      "outputs": [],
      "execution_count": null
    },
    {
      "cell_type": "code",
      "source": [
        "target = batch['label']"
      ],
      "metadata": {
        "execution": {
          "iopub.status.busy": "2025-06-20T19:37:07.79764Z",
          "iopub.execute_input": "2025-06-20T19:37:07.798254Z",
          "iopub.status.idle": "2025-06-20T19:37:07.801546Z",
          "shell.execute_reply.started": "2025-06-20T19:37:07.798232Z",
          "shell.execute_reply": "2025-06-20T19:37:07.800758Z"
        },
        "papermill": {
          "duration": 0.026693,
          "end_time": "2024-06-22T12:42:00.084989",
          "exception": false,
          "start_time": "2024-06-22T12:42:00.058296",
          "status": "completed"
        },
        "tags": [],
        "trusted": true,
        "id": "07b28716"
      },
      "outputs": [],
      "execution_count": null
    },
    {
      "cell_type": "code",
      "source": [
        "target"
      ],
      "metadata": {
        "execution": {
          "iopub.status.busy": "2025-06-20T19:37:11.162339Z",
          "iopub.execute_input": "2025-06-20T19:37:11.162614Z",
          "iopub.status.idle": "2025-06-20T19:37:11.172139Z",
          "shell.execute_reply.started": "2025-06-20T19:37:11.162597Z",
          "shell.execute_reply": "2025-06-20T19:37:11.171523Z"
        },
        "papermill": {
          "duration": 0.029468,
          "end_time": "2024-06-22T12:42:00.133135",
          "exception": false,
          "start_time": "2024-06-22T12:42:00.103667",
          "status": "completed"
        },
        "tags": [],
        "trusted": true,
        "id": "f8524553",
        "outputId": "d43266e7-70ab-41b1-d62c-d926c0ba4c29"
      },
      "outputs": [
        {
          "execution_count": 41,
          "output_type": "execute_result",
          "data": {
            "text/plain": "tensor([1, 1, 0])"
          },
          "metadata": {}
        }
      ],
      "execution_count": null
    },
    {
      "cell_type": "code",
      "source": [
        "fusion_model = FusionModel(image_model, classifier_model, num_classes=config.NUM_CLASSES)\n",
        "output = fusion_model(pixel_values = pixel_values, text_input_ids = text_input_ids, text_attention_mask = text_attention_mask )"
      ],
      "metadata": {
        "execution": {
          "iopub.status.busy": "2025-06-20T19:37:13.718933Z",
          "iopub.execute_input": "2025-06-20T19:37:13.719256Z",
          "iopub.status.idle": "2025-06-20T19:37:14.597571Z",
          "shell.execute_reply.started": "2025-06-20T19:37:13.719234Z",
          "shell.execute_reply": "2025-06-20T19:37:14.596946Z"
        },
        "papermill": {
          "duration": 0.927421,
          "end_time": "2024-06-22T12:42:01.07919",
          "exception": false,
          "start_time": "2024-06-22T12:42:00.151769",
          "status": "completed"
        },
        "tags": [],
        "trusted": true,
        "id": "1d4645aa"
      },
      "outputs": [],
      "execution_count": null
    },
    {
      "cell_type": "code",
      "source": [
        "output"
      ],
      "metadata": {
        "execution": {
          "iopub.status.busy": "2025-06-20T19:37:17.15559Z",
          "iopub.execute_input": "2025-06-20T19:37:17.155929Z",
          "iopub.status.idle": "2025-06-20T19:37:17.167712Z",
          "shell.execute_reply.started": "2025-06-20T19:37:17.155908Z",
          "shell.execute_reply": "2025-06-20T19:37:17.166976Z"
        },
        "papermill": {
          "duration": 0.038645,
          "end_time": "2024-06-22T12:42:01.13861",
          "exception": false,
          "start_time": "2024-06-22T12:42:01.099965",
          "status": "completed"
        },
        "tags": [],
        "trusted": true,
        "id": "cb042013",
        "outputId": "ac7d858a-e62b-4152-f1cd-872fee72165f"
      },
      "outputs": [
        {
          "execution_count": 43,
          "output_type": "execute_result",
          "data": {
            "text/plain": "tensor([[-0.0576,  0.0711, -0.1208],\n        [ 0.0355, -0.0704, -0.0703],\n        [ 0.0209, -0.1050, -0.0397]], grad_fn=<AddmmBackward0>)"
          },
          "metadata": {}
        }
      ],
      "execution_count": null
    },
    {
      "cell_type": "code",
      "source": [
        "pred = torch.argmax(output, dim = -1)\n",
        "pred"
      ],
      "metadata": {
        "execution": {
          "iopub.status.busy": "2025-06-20T19:37:20.069398Z",
          "iopub.execute_input": "2025-06-20T19:37:20.069865Z",
          "iopub.status.idle": "2025-06-20T19:37:20.075544Z",
          "shell.execute_reply.started": "2025-06-20T19:37:20.069841Z",
          "shell.execute_reply": "2025-06-20T19:37:20.074858Z"
        },
        "papermill": {
          "duration": 0.030355,
          "end_time": "2024-06-22T12:42:01.188098",
          "exception": false,
          "start_time": "2024-06-22T12:42:01.157743",
          "status": "completed"
        },
        "tags": [],
        "trusted": true,
        "id": "d088b9c6",
        "outputId": "7dd9dacf-adda-4d40-c7de-6ab5eb66c4f4"
      },
      "outputs": [
        {
          "execution_count": 44,
          "output_type": "execute_result",
          "data": {
            "text/plain": "tensor([1, 0, 0])"
          },
          "metadata": {}
        }
      ],
      "execution_count": null
    },
    {
      "cell_type": "code",
      "source": [
        "y_true = target.detach().numpy()\n",
        "pred = output.detach().numpy()\n",
        "y_pred = np.argmax(pred, axis = -1)\n",
        "f1 = f1_score(y_true, y_pred, average='weighted')\n",
        "f1"
      ],
      "metadata": {
        "execution": {
          "iopub.status.busy": "2025-06-20T19:37:22.144207Z",
          "iopub.execute_input": "2025-06-20T19:37:22.144762Z",
          "iopub.status.idle": "2025-06-20T19:37:22.153863Z",
          "shell.execute_reply.started": "2025-06-20T19:37:22.144738Z",
          "shell.execute_reply": "2025-06-20T19:37:22.153314Z"
        },
        "papermill": {
          "duration": 0.036419,
          "end_time": "2024-06-22T12:42:01.243927",
          "exception": false,
          "start_time": "2024-06-22T12:42:01.207508",
          "status": "completed"
        },
        "tags": [],
        "trusted": true,
        "id": "45e2b284",
        "outputId": "07ca8a74-44a5-4548-fdf9-105f4c7e1ad8"
      },
      "outputs": [
        {
          "execution_count": 45,
          "output_type": "execute_result",
          "data": {
            "text/plain": "0.6666666666666666"
          },
          "metadata": {}
        }
      ],
      "execution_count": null
    },
    {
      "cell_type": "code",
      "source": [
        "loss_fct = nn.CrossEntropyLoss()\n",
        "loss = loss_fct(output,target)\n",
        "print(loss)"
      ],
      "metadata": {
        "execution": {
          "iopub.status.busy": "2025-06-20T19:37:24.25531Z",
          "iopub.execute_input": "2025-06-20T19:37:24.256001Z",
          "iopub.status.idle": "2025-06-20T19:37:24.262836Z",
          "shell.execute_reply.started": "2025-06-20T19:37:24.25598Z",
          "shell.execute_reply": "2025-06-20T19:37:24.262195Z"
        },
        "papermill": {
          "duration": 0.032393,
          "end_time": "2024-06-22T12:42:01.295555",
          "exception": false,
          "start_time": "2024-06-22T12:42:01.263162",
          "status": "completed"
        },
        "tags": [],
        "trusted": true,
        "id": "712bf0b5",
        "outputId": "5017c4f2-8aae-4728-9f02-11b8a2008062"
      },
      "outputs": [
        {
          "name": "stdout",
          "text": "tensor(1.0560, grad_fn=<NllLossBackward0>)\n",
          "output_type": "stream"
        }
      ],
      "execution_count": null
    },
    {
      "cell_type": "code",
      "source": [
        "class Engine:\n",
        "    def __init__(self, model, optimizer,scheduler = None):\n",
        "        self.model = model\n",
        "        self.optimizer = optimizer\n",
        "        self.scheduler = scheduler\n",
        "\n",
        "    @staticmethod\n",
        "    def loss_fn(target, pred):\n",
        "        loss_fct = nn.CrossEntropyLoss()\n",
        "        loss = loss_fct(pred,target)\n",
        "        return loss\n",
        "\n",
        "    @staticmethod\n",
        "    def compute_metrics(labels, pred):\n",
        "        y_true = labels.cpu().numpy()\n",
        "        pred = pred.cpu().numpy()\n",
        "        y_pred = np.argmax(pred, axis = -1)\n",
        "        f1 = f1_score(y_true, y_pred, average='weighted')\n",
        "        return f1\n",
        "\n",
        "    def train(self, train_dataloader, scaler,num_training_steps):\n",
        "        self.model.train()\n",
        "        total_training_loss = 0.0\n",
        "        progress_bar = tqdm(range(num_training_steps), desc=\"Training\")\n",
        "        for step, data in enumerate(train_dataloader):\n",
        "            input_ids = data[\"input_ids\"].to(config.DEVICE)\n",
        "            attention_mask = data[\"attention_mask\"].to(config.DEVICE)\n",
        "            pixel_inputs = data['pixel_values'].to(config.DEVICE)\n",
        "            target = data[\"label\"].to(config.DEVICE)\n",
        "            self.optimizer.zero_grad()\n",
        "            with amp.autocast():\n",
        "                pred = self.model(pixel_values = pixel_inputs, text_input_ids = input_ids, text_attention_mask = attention_mask)\n",
        "                loss = self.loss_fn(target, pred)\n",
        "\n",
        "            total_training_loss += loss.item()\n",
        "            scaler.scale(loss).backward()\n",
        "            scaler.step(self.optimizer)\n",
        "            scaler.update()\n",
        "\n",
        "            if self.scheduler:\n",
        "                self.scheduler.step()\n",
        "            progress_bar.update(1)\n",
        "            progress_bar.set_postfix({'loss': f'{loss.item():.4f}'})\n",
        "            if step >= num_training_steps:\n",
        "                break\n",
        "\n",
        "        return total_training_loss / len(train_dataloader)\n",
        "\n",
        "    def evaluate(self, eval_dataloader):\n",
        "        self.model.eval()\n",
        "        val_loss = 0\n",
        "        all_preds = []\n",
        "        all_labels = []\n",
        "        with torch.no_grad():\n",
        "            for data in tqdm(eval_dataloader):\n",
        "                input_ids = data[\"input_ids\"].to(config.DEVICE)\n",
        "                attention_mask = data[\"attention_mask\"].to(config.DEVICE)\n",
        "                pixel_inputs = data['pixel_values'].to(config.DEVICE)\n",
        "                target = data[\"label\"].to(config.DEVICE)\n",
        "                pred = self.model(pixel_values=pixel_inputs, text_input_ids=input_ids, text_attention_mask=attention_mask)\n",
        "                loss = self.loss_fn(target, pred)\n",
        "                val_loss += loss.item()\n",
        "                all_preds.append(pred)\n",
        "                all_labels.append(target)\n",
        "\n",
        "        val_loss /= len(eval_dataloader)\n",
        "        all_preds = torch.cat(all_preds, dim=0)\n",
        "        all_labels = torch.cat(all_labels, dim=0)\n",
        "        score = self.compute_metrics(all_labels, all_preds)\n",
        "        return score, val_loss"
      ],
      "metadata": {
        "execution": {
          "iopub.status.busy": "2025-06-20T19:37:26.718301Z",
          "iopub.execute_input": "2025-06-20T19:37:26.718985Z",
          "iopub.status.idle": "2025-06-20T19:37:26.729587Z",
          "shell.execute_reply.started": "2025-06-20T19:37:26.718963Z",
          "shell.execute_reply": "2025-06-20T19:37:26.728927Z"
        },
        "papermill": {
          "duration": 0.041663,
          "end_time": "2024-06-22T12:42:01.356713",
          "exception": false,
          "start_time": "2024-06-22T12:42:01.31505",
          "status": "completed"
        },
        "tags": [],
        "trusted": true,
        "id": "fb52a8ee"
      },
      "outputs": [],
      "execution_count": null
    },
    {
      "cell_type": "code",
      "source": [
        "history = defaultdict(list)\n",
        "def run_training(save_model = False):\n",
        "    train_dataset = MultimodalDataset(train_df, tokenizer, processor, is_train=True)\n",
        "    test_dataset = MultimodalDataset(test_df, tokenizer, processor, is_train=False)\n",
        "    data_collator = MultimodalDataCollator(tokenizer)\n",
        "\n",
        "    train_loader = DataLoader(train_dataset, batch_size=config.BATCH_SIZE, collate_fn=data_collator, num_workers=4)\n",
        "    val_loader = DataLoader(test_dataset, batch_size=config.BATCH_SIZE, collate_fn=data_collator, num_workers=4)\n",
        "\n",
        "    set_random_seed(config.SEED)\n",
        "    image_model = VisionClassifierModel()\n",
        "    classifier_model = ClassifierModel()\n",
        "    model = FusionModel(image_model, classifier_model, num_classes=config.NUM_CLASSES)\n",
        "    model.to(config.DEVICE)\n",
        "\n",
        "    optimizer = torch.optim.AdamW(model.parameters(), lr= config.LR, weight_decay=0.01)\n",
        "    num_training_steps = config.NUM_EPOCHS * len(train_loader)\n",
        "\n",
        "    scheduler = get_scheduler(\n",
        "    \"linear\",\n",
        "    optimizer=optimizer,\n",
        "    num_warmup_steps=0,\n",
        "    num_training_steps=num_training_steps,\n",
        "    )\n",
        "    eng = Engine(model, optimizer, scheduler)\n",
        "    scaler = amp.GradScaler()\n",
        "    early_stopping_iter = 3\n",
        "    early_stopping_counter = 0\n",
        "    best_score = 0.0\n",
        "    for epoch in range(config.NUM_EPOCHS):\n",
        "        train_loss = eng.train(train_loader,scaler,num_training_steps)\n",
        "        val_score,val_loss = eng.evaluate(val_loader)\n",
        "\n",
        "        print(f\" Epoch: {epoch + 1} | Training_loss: {round(train_loss,4)} | Val_loss: {round(val_loss,4)} | Val_f1: {round(val_score,4)}\")\n",
        "        history['train_loss'].append(train_loss)\n",
        "        history['val_loss'].append(val_loss)\n",
        "        if val_score > best_score:\n",
        "            best_score = val_score\n",
        "            early_stopping_counter = 0\n",
        "\n",
        "            if save_model:\n",
        "                torch.save(model.state_dict(),f\"Multimodal_model.bin\")\n",
        "        else:\n",
        "            early_stopping_counter +=1\n",
        "\n",
        "        if early_stopping_counter > early_stopping_iter:\n",
        "            break\n",
        "\n",
        "    del model\n",
        "    gc.collect()\n",
        "\n",
        "    return round(best_score,5)"
      ],
      "metadata": {
        "execution": {
          "iopub.status.busy": "2025-06-20T19:37:30.173315Z",
          "iopub.execute_input": "2025-06-20T19:37:30.173787Z",
          "iopub.status.idle": "2025-06-20T19:37:30.181628Z",
          "shell.execute_reply.started": "2025-06-20T19:37:30.173764Z",
          "shell.execute_reply": "2025-06-20T19:37:30.180848Z"
        },
        "papermill": {
          "duration": 0.037733,
          "end_time": "2024-06-22T12:42:01.413855",
          "exception": false,
          "start_time": "2024-06-22T12:42:01.376122",
          "status": "completed"
        },
        "tags": [],
        "trusted": true,
        "id": "dee7b5cc"
      },
      "outputs": [],
      "execution_count": null
    },
    {
      "cell_type": "code",
      "source": [
        "score =run_training(save_model = True)\n",
        "print(f\"Best f1 Score: {score}\")"
      ],
      "metadata": {
        "execution": {
          "iopub.status.busy": "2025-06-20T19:37:34.307799Z",
          "iopub.execute_input": "2025-06-20T19:37:34.308101Z",
          "iopub.status.idle": "2025-06-20T19:51:10.291501Z",
          "shell.execute_reply.started": "2025-06-20T19:37:34.308073Z",
          "shell.execute_reply": "2025-06-20T19:51:10.286774Z"
        },
        "papermill": {
          "duration": 3067.009338,
          "end_time": "2024-06-22T13:33:08.442822",
          "exception": false,
          "start_time": "2024-06-22T12:42:01.433484",
          "status": "completed"
        },
        "tags": [],
        "trusted": true,
        "id": "1ff9fa68",
        "outputId": "09fc0e8b-ba89-4928-ddfd-f39600959b3d",
        "colab": {
          "referenced_widgets": [
            "e24ccf134a774db0bc0731ff913f0a34",
            "41d6a530e5e44ef6a0d368dbe53492ea",
            "8f018586d2404bb79e3c23620639a6f7",
            "3393034db36846278093ae5c304a9479",
            "8a984935407a47cc94166ba967deaece",
            "cfddd6be03024133a1c2cd5c027359d2",
            "9409b09006e14448ab03946f129d1a55",
            "d174a76af3124abfa888fc510abf620e",
            "2a18c43c2c6f4526a16fc2319ba75fd4",
            "26543b5246dd42c1bdc820aa33576c41",
            "d2adf5f8107a44de954d133dc0257439",
            "4b90401fb5bf42ef915447101555e1cf",
            "91c6f13b63fc4749a52849fc7319154f",
            "b1afa9e68374437683a0c2cd71590036",
            "a673427f91ba4a56b8a365b00a71cd38",
            "b1e2564c3f6e4e23b551f1cad935a738",
            "4aade852158a45cdb663c0c01701bfc3",
            "8a4720f8c3eb43a09a99caccdbe430cc",
            "4d337169fb514be0be592ca2e5088504",
            "6d0a1593fe414a0fa99021c3a71e53eb"
          ]
        }
      },
      "outputs": [
        {
          "output_type": "display_data",
          "data": {
            "text/plain": "Training:   0%|          | 0/690 [00:00<?, ?it/s]",
            "application/vnd.jupyter.widget-view+json": {
              "version_major": 2,
              "version_minor": 0,
              "model_id": "e24ccf134a774db0bc0731ff913f0a34"
            }
          },
          "metadata": {}
        },
        {
          "output_type": "display_data",
          "data": {
            "text/plain": "  0%|          | 0/15 [00:00<?, ?it/s]",
            "application/vnd.jupyter.widget-view+json": {
              "version_major": 2,
              "version_minor": 0,
              "model_id": "41d6a530e5e44ef6a0d368dbe53492ea"
            }
          },
          "metadata": {}
        },
        {
          "name": "stdout",
          "text": " Epoch: 1 | Training_loss: 1.0121 | Val_loss: 0.9231 | Val_f1: 0.529\n",
          "output_type": "stream"
        },
        {
          "output_type": "display_data",
          "data": {
            "text/plain": "Training:   0%|          | 0/690 [00:00<?, ?it/s]",
            "application/vnd.jupyter.widget-view+json": {
              "version_major": 2,
              "version_minor": 0,
              "model_id": "8f018586d2404bb79e3c23620639a6f7"
            }
          },
          "metadata": {}
        },
        {
          "output_type": "display_data",
          "data": {
            "text/plain": "  0%|          | 0/15 [00:00<?, ?it/s]",
            "application/vnd.jupyter.widget-view+json": {
              "version_major": 2,
              "version_minor": 0,
              "model_id": "3393034db36846278093ae5c304a9479"
            }
          },
          "metadata": {}
        },
        {
          "name": "stdout",
          "text": " Epoch: 2 | Training_loss: 0.8224 | Val_loss: 0.7532 | Val_f1: 0.6295\n",
          "output_type": "stream"
        },
        {
          "output_type": "display_data",
          "data": {
            "text/plain": "Training:   0%|          | 0/690 [00:00<?, ?it/s]",
            "application/vnd.jupyter.widget-view+json": {
              "version_major": 2,
              "version_minor": 0,
              "model_id": "8a984935407a47cc94166ba967deaece"
            }
          },
          "metadata": {}
        },
        {
          "name": "stderr",
          "text": "Exception ignored in: <function _MultiProcessingDataLoaderIter.__del__ at 0x7bc19ad3b9c0>\nTraceback (most recent call last):\n  File \"/usr/local/lib/python3.11/dist-packages/torch/utils/data/dataloader.py\", line 1618, in __del__\n    self._shutdown_workers()\n  File \"/usr/local/lib/python3.11/dist-packages/torch/utils/data/dataloader.py\", line 1601, in _shutdown_workers\n    if w.is_alive():\n       ^^^^^^^^^^^^\n  File \"/usr/lib/python3.11/multiprocessing/process.py\", line 160, in is_alive\n    assert self._parent_pid == os.getpid(), 'can only test a child process'\n           ^^^^^^^^^^^^^^^^^^^^^^^^^^^^^^^\nAssertionError: can only test a child process\nException ignored in: <function _MultiProcessingDataLoaderIter.__del__ at 0x7bc19ad3b9c0>\nTraceback (most recent call last):\n  File \"/usr/local/lib/python3.11/dist-packages/torch/utils/data/dataloader.py\", line 1618, in __del__\n    self._shutdown_workers()\n  File \"/usr/local/lib/python3.11/dist-packages/torch/utils/data/dataloader.py\", line 1601, in _shutdown_workers\n    if w.is_alive():\n       ^^^^^^^^^^^^\n  File \"/usr/lib/python3.11/multiprocessing/process.py\", line 160, in is_alive\n    assert self._parent_pid == os.getpid(), 'can only test a child process'\n           ^^^^^^^^^^^^^^^^^^^^^^^^^^^^^^^\nAssertionError: can only test a child process\n",
          "output_type": "stream"
        },
        {
          "output_type": "display_data",
          "data": {
            "text/plain": "  0%|          | 0/15 [00:00<?, ?it/s]",
            "application/vnd.jupyter.widget-view+json": {
              "version_major": 2,
              "version_minor": 0,
              "model_id": "cfddd6be03024133a1c2cd5c027359d2"
            }
          },
          "metadata": {}
        },
        {
          "name": "stdout",
          "text": " Epoch: 3 | Training_loss: 0.5619 | Val_loss: 0.6946 | Val_f1: 0.7211\n",
          "output_type": "stream"
        },
        {
          "output_type": "display_data",
          "data": {
            "text/plain": "Training:   0%|          | 0/690 [00:00<?, ?it/s]",
            "application/vnd.jupyter.widget-view+json": {
              "version_major": 2,
              "version_minor": 0,
              "model_id": "9409b09006e14448ab03946f129d1a55"
            }
          },
          "metadata": {}
        },
        {
          "output_type": "display_data",
          "data": {
            "text/plain": "  0%|          | 0/15 [00:00<?, ?it/s]",
            "application/vnd.jupyter.widget-view+json": {
              "version_major": 2,
              "version_minor": 0,
              "model_id": "d174a76af3124abfa888fc510abf620e"
            }
          },
          "metadata": {}
        },
        {
          "name": "stdout",
          "text": " Epoch: 4 | Training_loss: 0.3617 | Val_loss: 0.7638 | Val_f1: 0.7378\n",
          "output_type": "stream"
        },
        {
          "output_type": "display_data",
          "data": {
            "text/plain": "Training:   0%|          | 0/690 [00:00<?, ?it/s]",
            "application/vnd.jupyter.widget-view+json": {
              "version_major": 2,
              "version_minor": 0,
              "model_id": "2a18c43c2c6f4526a16fc2319ba75fd4"
            }
          },
          "metadata": {}
        },
        {
          "output_type": "display_data",
          "data": {
            "text/plain": "  0%|          | 0/15 [00:00<?, ?it/s]",
            "application/vnd.jupyter.widget-view+json": {
              "version_major": 2,
              "version_minor": 0,
              "model_id": "26543b5246dd42c1bdc820aa33576c41"
            }
          },
          "metadata": {}
        },
        {
          "name": "stdout",
          "text": " Epoch: 5 | Training_loss: 0.2318 | Val_loss: 0.8437 | Val_f1: 0.7265\n",
          "output_type": "stream"
        },
        {
          "output_type": "display_data",
          "data": {
            "text/plain": "Training:   0%|          | 0/690 [00:00<?, ?it/s]",
            "application/vnd.jupyter.widget-view+json": {
              "version_major": 2,
              "version_minor": 0,
              "model_id": "d2adf5f8107a44de954d133dc0257439"
            }
          },
          "metadata": {}
        },
        {
          "output_type": "display_data",
          "data": {
            "text/plain": "  0%|          | 0/15 [00:00<?, ?it/s]",
            "application/vnd.jupyter.widget-view+json": {
              "version_major": 2,
              "version_minor": 0,
              "model_id": "4b90401fb5bf42ef915447101555e1cf"
            }
          },
          "metadata": {}
        },
        {
          "name": "stdout",
          "text": " Epoch: 6 | Training_loss: 0.16 | Val_loss: 0.8521 | Val_f1: 0.7413\n",
          "output_type": "stream"
        },
        {
          "output_type": "display_data",
          "data": {
            "text/plain": "Training:   0%|          | 0/690 [00:00<?, ?it/s]",
            "application/vnd.jupyter.widget-view+json": {
              "version_major": 2,
              "version_minor": 0,
              "model_id": "91c6f13b63fc4749a52849fc7319154f"
            }
          },
          "metadata": {}
        },
        {
          "output_type": "display_data",
          "data": {
            "text/plain": "  0%|          | 0/15 [00:00<?, ?it/s]",
            "application/vnd.jupyter.widget-view+json": {
              "version_major": 2,
              "version_minor": 0,
              "model_id": "b1afa9e68374437683a0c2cd71590036"
            }
          },
          "metadata": {}
        },
        {
          "name": "stdout",
          "text": " Epoch: 7 | Training_loss: 0.118 | Val_loss: 0.8694 | Val_f1: 0.7421\n",
          "output_type": "stream"
        },
        {
          "output_type": "display_data",
          "data": {
            "text/plain": "Training:   0%|          | 0/690 [00:00<?, ?it/s]",
            "application/vnd.jupyter.widget-view+json": {
              "version_major": 2,
              "version_minor": 0,
              "model_id": "a673427f91ba4a56b8a365b00a71cd38"
            }
          },
          "metadata": {}
        },
        {
          "output_type": "display_data",
          "data": {
            "text/plain": "  0%|          | 0/15 [00:00<?, ?it/s]",
            "application/vnd.jupyter.widget-view+json": {
              "version_major": 2,
              "version_minor": 0,
              "model_id": "b1e2564c3f6e4e23b551f1cad935a738"
            }
          },
          "metadata": {}
        },
        {
          "name": "stdout",
          "text": " Epoch: 8 | Training_loss: 0.0929 | Val_loss: 0.9699 | Val_f1: 0.7105\n",
          "output_type": "stream"
        },
        {
          "output_type": "display_data",
          "data": {
            "text/plain": "Training:   0%|          | 0/690 [00:00<?, ?it/s]",
            "application/vnd.jupyter.widget-view+json": {
              "version_major": 2,
              "version_minor": 0,
              "model_id": "4aade852158a45cdb663c0c01701bfc3"
            }
          },
          "metadata": {}
        },
        {
          "output_type": "display_data",
          "data": {
            "text/plain": "  0%|          | 0/15 [00:00<?, ?it/s]",
            "application/vnd.jupyter.widget-view+json": {
              "version_major": 2,
              "version_minor": 0,
              "model_id": "8a4720f8c3eb43a09a99caccdbe430cc"
            }
          },
          "metadata": {}
        },
        {
          "name": "stdout",
          "text": " Epoch: 9 | Training_loss: 0.0696 | Val_loss: 0.9896 | Val_f1: 0.7139\n",
          "output_type": "stream"
        },
        {
          "output_type": "display_data",
          "data": {
            "text/plain": "Training:   0%|          | 0/690 [00:00<?, ?it/s]",
            "application/vnd.jupyter.widget-view+json": {
              "version_major": 2,
              "version_minor": 0,
              "model_id": "4d337169fb514be0be592ca2e5088504"
            }
          },
          "metadata": {}
        },
        {
          "name": "stderr",
          "text": "Exception ignored in: <function _MultiProcessingDataLoaderIter.__del__ at 0x7bc19ad3b9c0>\nTraceback (most recent call last):\n  File \"/usr/local/lib/python3.11/dist-packages/torch/utils/data/dataloader.py\", line 1618, in __del__\n    self._shutdown_workers()\n  File \"/usr/local/lib/python3.11/dist-packages/torch/utils/data/dataloader.py\", line 1601, in _shutdown_workers\n    if w.is_alive():\n       ^^^^^^^^^^^^\n  File \"/usr/lib/python3.11/multiprocessing/process.py\", line 160, in is_alive\n    assert self._parent_pid == os.getpid(), 'can only test a child process'\n           ^^^^^^Exception ignored in: ^<function _MultiProcessingDataLoaderIter.__del__ at 0x7bc19ad3b9c0>^^\n^^^Traceback (most recent call last):\n  File \"/usr/local/lib/python3.11/dist-packages/torch/utils/data/dataloader.py\", line 1618, in __del__\n^^    ^self._shutdown_workers()^\n^  File \"/usr/local/lib/python3.11/dist-packages/torch/utils/data/dataloader.py\", line 1601, in _shutdown_workers\n^    ^if w.is_alive():^\n ^ ^  ^^^ ^ ^^ ^^^^^^^\nAssertionError: can only test a child process^\n^^^^^^^\n  File \"/usr/lib/python3.11/multiprocessing/process.py\", line 160, in is_alive\nassert self._parent_pid == os.getpid(), 'can only test a child process'    \n           ^^^^^^^^^^^^^^^^^^^^^^^^^^^^^^^\ncan only test a child processAssertionError: \nException ignored in: <function _MultiProcessingDataLoaderIter.__del__ at 0x7bc19ad3b9c0>\nTraceback (most recent call last):\n  File \"/usr/local/lib/python3.11/dist-packages/torch/utils/data/dataloader.py\", line 1618, in __del__\n    self._shutdown_workers()\n  File \"/usr/local/lib/python3.11/dist-packages/torch/utils/data/dataloader.py\", line 1601, in _shutdown_workers\n    if w.is_alive():\n       ^^^^^^^^^^^^\n  File \"/usr/lib/python3.11/multiprocessing/process.py\", line 160, in is_alive\n    assert self._parent_pid == os.getpid(), 'can only test a child process'\n           ^^^^^^^^^^^^^^^^^^^^^^^^^^^^^^^\nAssertionError: can only test a child process\nException ignored in: <function _MultiProcessingDataLoaderIter.__del__ at 0x7bc19ad3b9c0>\nTraceback (most recent call last):\n  File \"/usr/local/lib/python3.11/dist-packages/torch/utils/data/dataloader.py\", line 1618, in __del__\n    self._shutdown_workers()\n  File \"/usr/local/lib/python3.11/dist-packages/torch/utils/data/dataloader.py\", line 1601, in _shutdown_workers\n    if w.is_alive():\n       ^^^^^^^^^^^^\n  File \"/usr/lib/python3.11/multiprocessing/process.py\", line 160, in is_alive\n    assert self._parent_pid == os.getpid(), 'can only test a child process'\n           ^^^^^^^^^^^^^^^^^^^^^^^^^^^^^^^\nAssertionError: can only test a child process\n",
          "output_type": "stream"
        },
        {
          "output_type": "display_data",
          "data": {
            "text/plain": "  0%|          | 0/15 [00:00<?, ?it/s]",
            "application/vnd.jupyter.widget-view+json": {
              "version_major": 2,
              "version_minor": 0,
              "model_id": "6d0a1593fe414a0fa99021c3a71e53eb"
            }
          },
          "metadata": {}
        },
        {
          "name": "stdout",
          "text": " Epoch: 10 | Training_loss: 0.0658 | Val_loss: 0.9711 | Val_f1: 0.7163\nBest f1 Score: 0.74209\n",
          "output_type": "stream"
        }
      ],
      "execution_count": null
    },
    {
      "cell_type": "markdown",
      "source": [
        "### Evaluation"
      ],
      "metadata": {
        "papermill": {
          "duration": 0.11098,
          "end_time": "2024-06-22T13:33:08.663835",
          "exception": false,
          "start_time": "2024-06-22T13:33:08.552855",
          "status": "completed"
        },
        "tags": [],
        "id": "2c30ad30"
      }
    },
    {
      "cell_type": "code",
      "source": [
        "model = FusionModel(image_model, classifier_model, num_classes=config.NUM_CLASSES)\n",
        "model.to(config.DEVICE)"
      ],
      "metadata": {
        "execution": {
          "iopub.status.busy": "2025-06-20T19:51:15.773938Z",
          "iopub.execute_input": "2025-06-20T19:51:15.774504Z",
          "iopub.status.idle": "2025-06-20T19:51:16.00891Z",
          "shell.execute_reply.started": "2025-06-20T19:51:15.77448Z",
          "shell.execute_reply": "2025-06-20T19:51:16.008164Z"
        },
        "papermill": {
          "duration": 0.360844,
          "end_time": "2024-06-22T13:33:09.134062",
          "exception": false,
          "start_time": "2024-06-22T13:33:08.773218",
          "status": "completed"
        },
        "tags": [],
        "trusted": true,
        "id": "e64ed334",
        "outputId": "6e40a8b6-ff78-4703-c1d3-aea551b3a1ef"
      },
      "outputs": [
        {
          "execution_count": 50,
          "output_type": "execute_result",
          "data": {
            "text/plain": "FusionModel(\n  (image_model): VisionClassifierModel(\n    (model): ViTModel(\n      (embeddings): ViTEmbeddings(\n        (patch_embeddings): ViTPatchEmbeddings(\n          (projection): Conv2d(3, 768, kernel_size=(16, 16), stride=(16, 16))\n        )\n        (dropout): Dropout(p=0.0, inplace=False)\n      )\n      (encoder): ViTEncoder(\n        (layer): ModuleList(\n          (0-11): 12 x ViTLayer(\n            (attention): ViTAttention(\n              (attention): ViTSelfAttention(\n                (query): Linear(in_features=768, out_features=768, bias=True)\n                (key): Linear(in_features=768, out_features=768, bias=True)\n                (value): Linear(in_features=768, out_features=768, bias=True)\n              )\n              (output): ViTSelfOutput(\n                (dense): Linear(in_features=768, out_features=768, bias=True)\n                (dropout): Dropout(p=0.0, inplace=False)\n              )\n            )\n            (intermediate): ViTIntermediate(\n              (dense): Linear(in_features=768, out_features=3072, bias=True)\n              (intermediate_act_fn): GELUActivation()\n            )\n            (output): ViTOutput(\n              (dense): Linear(in_features=3072, out_features=768, bias=True)\n              (dropout): Dropout(p=0.0, inplace=False)\n            )\n            (layernorm_before): LayerNorm((768,), eps=1e-12, elementwise_affine=True)\n            (layernorm_after): LayerNorm((768,), eps=1e-12, elementwise_affine=True)\n          )\n        )\n      )\n      (layernorm): LayerNorm((768,), eps=1e-12, elementwise_affine=True)\n      (pooler): ViTPooler(\n        (dense): Linear(in_features=768, out_features=768, bias=True)\n        (activation): Tanh()\n      )\n    )\n  )\n  (classifier_model): ClassifierModel(\n    (model): ElectraModel(\n      (embeddings): ElectraEmbeddings(\n        (word_embeddings): Embedding(32000, 768, padding_idx=0)\n        (position_embeddings): Embedding(512, 768)\n        (token_type_embeddings): Embedding(2, 768)\n        (LayerNorm): LayerNorm((768,), eps=1e-12, elementwise_affine=True)\n        (dropout): Dropout(p=0.1, inplace=False)\n      )\n      (encoder): ElectraEncoder(\n        (layer): ModuleList(\n          (0-11): 12 x ElectraLayer(\n            (attention): ElectraAttention(\n              (self): ElectraSelfAttention(\n                (query): Linear(in_features=768, out_features=768, bias=True)\n                (key): Linear(in_features=768, out_features=768, bias=True)\n                (value): Linear(in_features=768, out_features=768, bias=True)\n                (dropout): Dropout(p=0.1, inplace=False)\n              )\n              (output): ElectraSelfOutput(\n                (dense): Linear(in_features=768, out_features=768, bias=True)\n                (LayerNorm): LayerNorm((768,), eps=1e-12, elementwise_affine=True)\n                (dropout): Dropout(p=0.1, inplace=False)\n              )\n            )\n            (intermediate): ElectraIntermediate(\n              (dense): Linear(in_features=768, out_features=3072, bias=True)\n              (intermediate_act_fn): GELUActivation()\n            )\n            (output): ElectraOutput(\n              (dense): Linear(in_features=3072, out_features=768, bias=True)\n              (LayerNorm): LayerNorm((768,), eps=1e-12, elementwise_affine=True)\n              (dropout): Dropout(p=0.1, inplace=False)\n            )\n          )\n        )\n      )\n    )\n  )\n  (fusion_layer): Sequential(\n    (0): Linear(in_features=1536, out_features=1024, bias=True)\n    (1): ReLU()\n    (2): Dropout(p=0.4, inplace=False)\n    (3): Linear(in_features=1024, out_features=3, bias=True)\n  )\n)"
          },
          "metadata": {}
        }
      ],
      "execution_count": null
    },
    {
      "cell_type": "code",
      "source": [
        "model_path = f\"/kaggle/working/Multimodal_model.bin\"\n",
        "model.load_state_dict(torch.load(model_path))"
      ],
      "metadata": {
        "execution": {
          "iopub.status.busy": "2025-06-20T19:51:21.406991Z",
          "iopub.execute_input": "2025-06-20T19:51:21.407471Z",
          "iopub.status.idle": "2025-06-20T19:51:22.022822Z",
          "shell.execute_reply.started": "2025-06-20T19:51:21.407447Z",
          "shell.execute_reply": "2025-06-20T19:51:22.022248Z"
        },
        "papermill": {
          "duration": 0.619712,
          "end_time": "2024-06-22T13:33:09.86518",
          "exception": false,
          "start_time": "2024-06-22T13:33:09.245468",
          "status": "completed"
        },
        "tags": [],
        "trusted": true,
        "id": "90ba4172",
        "outputId": "53e67808-b1f4-47e1-d76d-3dcf47d719c2"
      },
      "outputs": [
        {
          "execution_count": 51,
          "output_type": "execute_result",
          "data": {
            "text/plain": "<All keys matched successfully>"
          },
          "metadata": {}
        }
      ],
      "execution_count": null
    },
    {
      "cell_type": "code",
      "source": [
        "test_dataset = MultimodalDataset(test_df, tokenizer, processor, is_train=False)\n",
        "data_collator = MultimodalDataCollator(tokenizer)\n",
        "test_loader = DataLoader(test_dataset, batch_size=config.BATCH_SIZE, collate_fn=data_collator, num_workers=4)"
      ],
      "metadata": {
        "execution": {
          "iopub.status.busy": "2025-06-20T19:51:25.114325Z",
          "iopub.execute_input": "2025-06-20T19:51:25.114984Z",
          "iopub.status.idle": "2025-06-20T19:51:25.119594Z",
          "shell.execute_reply.started": "2025-06-20T19:51:25.114963Z",
          "shell.execute_reply": "2025-06-20T19:51:25.118785Z"
        },
        "papermill": {
          "duration": 0.116904,
          "end_time": "2024-06-22T13:33:10.093543",
          "exception": false,
          "start_time": "2024-06-22T13:33:09.976639",
          "status": "completed"
        },
        "tags": [],
        "trusted": true,
        "id": "009d3942"
      },
      "outputs": [],
      "execution_count": null
    },
    {
      "cell_type": "code",
      "source": [
        "model.eval()\n",
        "predictions = []\n",
        "for batch in test_loader:\n",
        "    batch = {k: v.to(config.DEVICE) for k, v in batch.items()}\n",
        "    with torch.no_grad():\n",
        "        outputs = model(pixel_values=batch['pixel_values'], text_input_ids=batch['input_ids'], text_attention_mask=batch['attention_mask'])\n",
        "\n",
        "        # outputs shape is [batch_size, num_classes]\n",
        "        pred = torch.argmax(outputs, dim=-1)\n",
        "        predictions.extend(pred.cpu().numpy().tolist())\n",
        "\n",
        "# Ensure we only keep predictions for actual samples\n",
        "actual_samples = len(test_loader.dataset)\n",
        "predictions = predictions[:actual_samples]\n"
      ],
      "metadata": {
        "execution": {
          "iopub.status.busy": "2025-06-20T19:51:28.892899Z",
          "iopub.execute_input": "2025-06-20T19:51:28.893488Z",
          "iopub.status.idle": "2025-06-20T19:51:34.064845Z",
          "shell.execute_reply.started": "2025-06-20T19:51:28.893465Z",
          "shell.execute_reply": "2025-06-20T19:51:34.063797Z"
        },
        "papermill": {
          "duration": 16.979595,
          "end_time": "2024-06-22T13:33:27.184324",
          "exception": false,
          "start_time": "2024-06-22T13:33:10.204729",
          "status": "completed"
        },
        "tags": [],
        "trusted": true,
        "id": "a85ff61e"
      },
      "outputs": [],
      "execution_count": null
    },
    {
      "cell_type": "code",
      "source": [
        "y_true = test_df.label.values\n",
        "y_pred = predictions"
      ],
      "metadata": {
        "execution": {
          "iopub.status.busy": "2025-06-20T19:51:36.603414Z",
          "iopub.execute_input": "2025-06-20T19:51:36.603705Z",
          "iopub.status.idle": "2025-06-20T19:51:36.608969Z",
          "shell.execute_reply.started": "2025-06-20T19:51:36.603679Z",
          "shell.execute_reply": "2025-06-20T19:51:36.608203Z"
        },
        "papermill": {
          "duration": 0.123083,
          "end_time": "2024-06-22T13:33:27.418201",
          "exception": false,
          "start_time": "2024-06-22T13:33:27.295118",
          "status": "completed"
        },
        "tags": [],
        "trusted": true,
        "id": "1518cec7"
      },
      "outputs": [],
      "execution_count": null
    },
    {
      "cell_type": "code",
      "source": [
        "from sklearn.metrics import classification_report, confusion_matrix, accuracy_score\n",
        "print(confusion_matrix(y_true, y_pred))"
      ],
      "metadata": {
        "execution": {
          "iopub.status.busy": "2025-06-20T19:51:39.865361Z",
          "iopub.execute_input": "2025-06-20T19:51:39.866208Z",
          "iopub.status.idle": "2025-06-20T19:51:39.874115Z",
          "shell.execute_reply.started": "2025-06-20T19:51:39.86617Z",
          "shell.execute_reply": "2025-06-20T19:51:39.87349Z"
        },
        "papermill": {
          "duration": 0.129715,
          "end_time": "2024-06-22T13:33:27.663037",
          "exception": false,
          "start_time": "2024-06-22T13:33:27.533322",
          "status": "completed"
        },
        "tags": [],
        "trusted": true,
        "id": "1acf99de",
        "outputId": "021c595c-700f-401f-cd0e-60bf658eb99b"
      },
      "outputs": [
        {
          "name": "stdout",
          "text": "[[ 94  34   0]\n [ 22 196  21]\n [  8  34  58]]\n",
          "output_type": "stream"
        }
      ],
      "execution_count": null
    },
    {
      "cell_type": "code",
      "source": [
        "from sklearn.metrics import classification_report, confusion_matrix, f1_score, accuracy_score\n",
        "print(classification_report(y_true, y_pred))\n",
        "print(confusion_matrix(y_true, y_pred))\n",
        "print(f1_score(y_true, y_pred, average='weighted'))\n",
        "print(accuracy_score(y_true, y_pred))"
      ],
      "metadata": {
        "execution": {
          "iopub.status.busy": "2025-06-20T19:51:43.19093Z",
          "iopub.execute_input": "2025-06-20T19:51:43.191529Z",
          "iopub.status.idle": "2025-06-20T19:51:43.207382Z",
          "shell.execute_reply.started": "2025-06-20T19:51:43.191507Z",
          "shell.execute_reply": "2025-06-20T19:51:43.206603Z"
        },
        "papermill": {
          "duration": 0.142315,
          "end_time": "2024-06-22T13:33:27.920103",
          "exception": false,
          "start_time": "2024-06-22T13:33:27.777788",
          "status": "completed"
        },
        "tags": [],
        "trusted": true,
        "id": "6f8e7428",
        "outputId": "5241b8f1-00ce-43ff-fa58-43f235301fa5"
      },
      "outputs": [
        {
          "name": "stdout",
          "text": "              precision    recall  f1-score   support\n\n           0       0.76      0.73      0.75       128\n           1       0.74      0.82      0.78       239\n           2       0.73      0.58      0.65       100\n\n    accuracy                           0.75       467\n   macro avg       0.74      0.71      0.72       467\nweighted avg       0.74      0.75      0.74       467\n\n[[ 94  34   0]\n [ 22 196  21]\n [  8  34  58]]\n0.7420877560385042\n0.7451820128479657\n",
          "output_type": "stream"
        }
      ],
      "execution_count": null
    },
    {
      "cell_type": "code",
      "source": [
        "from mlxtend.plotting import plot_confusion_matrix\n",
        "from torchmetrics import ConfusionMatrix\n",
        "y_pred = torch.tensor(y_pred)\n",
        "y_true = torch.tensor(y_true)\n",
        "\n",
        "cmat = ConfusionMatrix(task=\"multiclass\", num_classes=3)\n",
        "confusion_matrix = cmat(y_pred, y_true)\n",
        "\n",
        "fig, ax = plot_confusion_matrix(conf_mat=confusion_matrix.cpu().numpy(),\n",
        "                                class_names=[0,1,2],\n",
        "                                show_normed=True,\n",
        "                                colorbar=True)\n",
        "\n",
        "# Rotate the x-axis labels\n",
        "plt.xticks(rotation=45, ha=\"right\", rotation_mode=\"anchor\")\n",
        "\n",
        "# Show the plot\n",
        "plt.show()"
      ],
      "metadata": {
        "execution": {
          "iopub.status.busy": "2025-06-20T19:53:03.279602Z",
          "iopub.execute_input": "2025-06-20T19:53:03.280338Z",
          "iopub.status.idle": "2025-06-20T19:53:03.453761Z",
          "shell.execute_reply.started": "2025-06-20T19:53:03.280314Z",
          "shell.execute_reply": "2025-06-20T19:53:03.453014Z"
        },
        "papermill": {
          "duration": 2.828374,
          "end_time": "2024-06-22T13:33:30.860058",
          "exception": false,
          "start_time": "2024-06-22T13:33:28.031684",
          "status": "completed"
        },
        "tags": [],
        "trusted": true,
        "id": "ddab7bf4",
        "outputId": "7c11d47a-a872-4b0e-e4b0-d57d91979776"
      },
      "outputs": [
        {
          "output_type": "display_data",
          "data": {
            "text/plain": "<Figure size 640x480 with 2 Axes>",
            "image/png": "[encoded data removed]"
          },
          "metadata": {}
        }
      ],
      "execution_count": null
    }
  ]
}